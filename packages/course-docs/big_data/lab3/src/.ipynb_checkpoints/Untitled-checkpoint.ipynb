{
 "cells": [
  {
   "cell_type": "code",
   "execution_count": 1,
   "metadata": {
    "collapsed": false
   },
   "outputs": [
    {
     "name": "stderr",
     "output_type": "stream",
     "text": [
      "SVM.py:10: ParserWarning: Falling back to the 'python' engine because the 'c' engine does not support regex separators; you can avoid this warning by specifying engine='python'.\n",
      "  ], index_col=False)\n"
     ]
    }
   ],
   "source": [
    "import SVM as CLF\n",
    "import numpy as np\n",
    "from sklearn import preprocessing\n",
    "import matplotlib.pyplot as plt\n",
    "from sklearn.cross_validation import cross_val_score as cvs\n",
    "from sklearn.ensemble import AdaBoostClassifier as ABC\n",
    "\n",
    "df, salary, keys = CLF.clean(CLF.get_data())\n",
    "df = preprocessing.StandardScaler().fit(df).transform(df)\n",
    "\n",
    "estimators = [10, 20, 30, 40, 50, 100, 200, 400]\n",
    "estimator_scores = []\n",
    "for estimator in estimators:\n",
    "    clf = ABC(n_estimators=estimator)\n",
    "    estimator_scores.append(cvs(clf, df, salary).mean())"
   ]
  },
  {
   "cell_type": "code",
   "execution_count": 33,
   "metadata": {
    "collapsed": false
   },
   "outputs": [
    {
     "data": {
      "text/plain": [
       "[<matplotlib.lines.Line2D at 0x10fda6250>]"
      ]
     },
     "execution_count": 33,
     "metadata": {},
     "output_type": "execute_result"
    },
    {
     "data": {
      "image/png": "[encoded data removed]",
      "text/plain": [
       "<matplotlib.figure.Figure at 0x10c9ae610>"
      ]
     },
     "metadata": {},
     "output_type": "display_data"
    }
   ],
   "source": [
    "%matplotlib inline\n",
    "plt.xlabel('# Estimators')\n",
    "plt.ylabel('Accuracy')\n",
    "plt.title('Validation Accuracy vs. # Estimators')\n",
    "\n",
    "plt.plot(estimators, estimator_scores)"
   ]
  },
  {
   "cell_type": "code",
   "execution_count": 5,
   "metadata": {
    "collapsed": true
   },
   "outputs": [],
   "source": [
    "learning_rates = [0.0001, 0.001, 0.01, 0.05, 0.1, 0.5, 1, 1.5]\n",
    "learning_scores = []\n",
    "best_estimator = estimators[estimator_scores.index(max(estimator_scores))]\n",
    "for rate in learning_rates:\n",
    "    clf = ABC(n_estimators=best_estimator, learning_rate=rate)\n",
    "    learning_scores.append(cvs(clf, df, salary).mean())"
   ]
  },
  {
   "cell_type": "code",
   "execution_count": 34,
   "metadata": {
    "collapsed": false
   },
   "outputs": [
    {
     "data": {
      "text/plain": [
       "[<matplotlib.lines.Line2D at 0x10f980210>]"
      ]
     },
     "execution_count": 34,
     "metadata": {},
     "output_type": "execute_result"
    },
    {
     "data": {
      "image/png": "[encoded data removed]",
      "text/plain": [
       "<matplotlib.figure.Figure at 0x10c9ae950>"
      ]
     },
     "metadata": {},
     "output_type": "display_data"
    }
   ],
   "source": [
    "plt.xlabel('Learning Rate')\n",
    "plt.ylabel('Accuracy')\n",
    "plt.title('Validation Accuracy vs. Learning Rate')\n",
    "\n",
    "plt.plot(learning_rates, learning_scores)"
   ]
  },
  {
   "cell_type": "code",
   "execution_count": 39,
   "metadata": {
    "collapsed": false
   },
   "outputs": [
    {
     "ename": "AttributeError",
     "evalue": "'module' object has no attribute 'test_data'",
     "output_type": "error",
     "traceback": [
      "\u001b[0;31m---------------------------------------------------------------------------\u001b[0m",
      "\u001b[0;31mAttributeError\u001b[0m                            Traceback (most recent call last)",
      "\u001b[0;32m<ipython-input-39-aa5a96145d9c>\u001b[0m in \u001b[0;36m<module>\u001b[0;34m()\u001b[0m\n\u001b[1;32m     10\u001b[0m \u001b[0mdf\u001b[0m \u001b[0;34m=\u001b[0m \u001b[0mpd\u001b[0m\u001b[0;34m.\u001b[0m\u001b[0mDataFrame\u001b[0m\u001b[0;34m(\u001b[0m\u001b[0mdf\u001b[0m\u001b[0;34m,\u001b[0m \u001b[0mcolumns\u001b[0m\u001b[0;34m=\u001b[0m\u001b[0mCLF\u001b[0m\u001b[0;34m.\u001b[0m\u001b[0mget_features\u001b[0m\u001b[0;34m(\u001b[0m\u001b[0;34m)\u001b[0m\u001b[0;34m)\u001b[0m\u001b[0;34m\u001b[0m\u001b[0m\n\u001b[1;32m     11\u001b[0m \u001b[0;34m\u001b[0m\u001b[0m\n\u001b[0;32m---> 12\u001b[0;31m \u001b[0mX_test\u001b[0m\u001b[0;34m,\u001b[0m \u001b[0my_test\u001b[0m\u001b[0;34m,\u001b[0m \u001b[0mkeys\u001b[0m \u001b[0;34m=\u001b[0m \u001b[0mCLF\u001b[0m\u001b[0;34m.\u001b[0m\u001b[0mclean\u001b[0m\u001b[0;34m(\u001b[0m\u001b[0mCLF\u001b[0m\u001b[0;34m.\u001b[0m\u001b[0mtest_data\u001b[0m\u001b[0;34m(\u001b[0m\u001b[0;34m)\u001b[0m\u001b[0;34m)\u001b[0m\u001b[0;34m\u001b[0m\u001b[0m\n\u001b[0m\u001b[1;32m     13\u001b[0m \u001b[0mX_test\u001b[0m \u001b[0;34m=\u001b[0m \u001b[0mpreprocessing\u001b[0m\u001b[0;34m.\u001b[0m\u001b[0mStandardScaler\u001b[0m\u001b[0;34m(\u001b[0m\u001b[0;34m)\u001b[0m\u001b[0;34m.\u001b[0m\u001b[0mfit\u001b[0m\u001b[0;34m(\u001b[0m\u001b[0mX_test\u001b[0m\u001b[0;34m)\u001b[0m\u001b[0;34m.\u001b[0m\u001b[0mtransform\u001b[0m\u001b[0;34m(\u001b[0m\u001b[0mX_test\u001b[0m\u001b[0;34m)\u001b[0m\u001b[0;34m\u001b[0m\u001b[0m\n\u001b[1;32m     14\u001b[0m \u001b[0mX_test\u001b[0m \u001b[0;34m=\u001b[0m \u001b[0mpd\u001b[0m\u001b[0;34m.\u001b[0m\u001b[0mDataFrame\u001b[0m\u001b[0;34m(\u001b[0m\u001b[0mX_test\u001b[0m\u001b[0;34m,\u001b[0m \u001b[0mcolumns\u001b[0m\u001b[0;34m=\u001b[0m\u001b[0mCLF\u001b[0m\u001b[0;34m.\u001b[0m\u001b[0mget_features\u001b[0m\u001b[0;34m(\u001b[0m\u001b[0;34m)\u001b[0m\u001b[0;34m)\u001b[0m\u001b[0;34m\u001b[0m\u001b[0m\n",
      "\u001b[0;31mAttributeError\u001b[0m: 'module' object has no attribute 'test_data'"
     ]
    }
   ],
   "source": [
    "import SVM as CLF\n",
    "import numpy as np\n",
    "from sklearn import preprocessing\n",
    "import matplotlib.pyplot as plt\n",
    "from sklearn.cross_validation import cross_val_score as cvs\n",
    "from sklearn.ensemble import AdaBoostClassifier as ABC\n",
    "\n",
    "df, salary, keys = CLF.clean(CLF.get_data())\n",
    "df = preprocessing.StandardScaler().fit(df).transform(df)\n",
    "df = pd.DataFrame(df, columns=CLF.get_features())\n",
    "\n",
    "X_test, y_test, keys = CLF.clean(CLF.test_data())\n",
    "X_test = preprocessing.StandardScaler().fit(X_test).transform(X_test)\n",
    "X_test = pd.DataFrame(X_test, columns=CLF.get_features())\n",
    "\n",
    "X_train, X_val, y_train, y_val = CLF.split_data(df, salary, 0.25, 42)\n",
    "clf = ABC(n_estimators=400, learning_rate=1.5)\n",
    "val = clf.fit(X_train, y_train).score(X_val, y_val)\n",
    "val = clf.score(X_test, y_test)"
   ]
  },
  {
   "cell_type": "code",
   "execution_count": 13,
   "metadata": {
    "collapsed": false
   },
   "outputs": [],
   "source": [
    "from sklearn import svm, grid_search\n",
    "from sklearn.feature_selection import SelectFromModel as select\n",
    "\n",
    "X_train, X_val, y_train, y_val = CLF.split_data(df, salary, 0.25, 42)\n",
    "clf = ABC(n_estimators=400, learning_rate=1).fit(X_train, y_train)\n",
    "clf2 = ABC(n_estimators=400, learning_rate=1.5).fit(X_train, y_train)"
   ]
  },
  {
   "cell_type": "code",
   "execution_count": 15,
   "metadata": {
    "collapsed": false
   },
   "outputs": [
    {
     "name": "stdout",
     "output_type": "stream",
     "text": [
      "[3, 9, 5, 8, 13, 4, 12, 1, 7, 2, 6, 0, 11, 10]\n",
      "[9, 8, 3, 1, 13, 4, 5, 12, 7, 6, 0, 2, 11, 10]\n"
     ]
    }
   ],
   "source": [
    "rank1 = sorted(range(len(clf.feature_importances_)), key=lambda k: clf.feature_importances_[k])\n",
    "rank2 = sorted(range(len(clf.feature_importances_)), key=lambda k: clf2.feature_importances_[k])\n",
    "print rank1\n",
    "print rank2"
   ]
  },
  {
   "cell_type": "code",
   "execution_count": 27,
   "metadata": {
    "collapsed": false
   },
   "outputs": [],
   "source": [
    "import numpy as np\n",
    "import pandas as pd\n",
    "\n",
    "df, salary, keys = CLF.clean(CLF.get_data())\n",
    "df = preprocessing.StandardScaler().fit(df).transform(df)\n",
    "df = pd.DataFrame(df, columns=CLF.get_features())\n",
    "features = CLF.get_features()\n",
    "X = df\n",
    "for i in range(2):\n",
    "    del X[features[rank2[i]]]\n",
    "    \n",
    "estimator_scores2 = []\n",
    "for estimator in estimators:\n",
    "    clf = ABC(n_estimators=estimator)\n",
    "    estimator_scores2.append(cvs(clf, df, salary).mean())\n",
    "\n",
    "learning_scores2 = []\n",
    "best_estimator = estimators[estimator_scores2.index(max(estimator_scores2))]\n",
    "for rate in learning_rates:\n",
    "    clf = ABC(n_estimators=best_estimator, learning_rate=rate)\n",
    "    learning_scores2.append(cvs(clf, df, salary).mean())"
   ]
  },
  {
   "cell_type": "code",
   "execution_count": 28,
   "metadata": {
    "collapsed": false
   },
   "outputs": [
    {
     "name": "stdout",
     "output_type": "stream",
     "text": [
      "[0.84261681003015931, 0.84848523330930448, 0.85352462760005787, 0.85531505215401726, 0.85624332639438905, 0.85998977222590689, 0.86250949575423463, 0.86562596700631345]\n",
      "[0.84261681003015931, 0.84848523330930448, 0.85352462760005787, 0.85468506108875975, 0.85617693205268885, 0.85916093120628345, 0.86310619731716931, 0.86479705014562758]\n"
     ]
    }
   ],
   "source": [
    "print estimator_scores\n",
    "print estimator_scores2"
   ]
  },
  {
   "cell_type": "code",
   "execution_count": 29,
   "metadata": {
    "collapsed": false
   },
   "outputs": [
    {
     "name": "stdout",
     "output_type": "stream",
     "text": [
      "[0.79557069298402727, 0.79202316635990799, 0.8246469055551745, 0.85024233537552851, 0.85382303938213655, 0.86237684557558703, 0.86562596700631345, 0.86652113641649164]\n",
      "[0.79557069298402727, 0.79202316635990799, 0.8246469055551745, 0.85044127437128825, 0.85369037931094838, 0.86191268866736781, 0.86479705014562758, 0.86635522641707918]\n"
     ]
    }
   ],
   "source": [
    "print learning_scores\n",
    "print learning_scores2"
   ]
  },
  {
   "cell_type": "code",
   "execution_count": null,
   "metadata": {
    "collapsed": true
   },
   "outputs": [],
   "source": [
    "import SVM as CLF\n",
    "\n",
    "df, salary, keys = CLF.clean(CLF.get_data())\n",
    "df = preprocessing.StandardScaler().fit(df).transform(df)\n",
    "df = pd.DataFrame(df, columns=CLF.get_features())\n",
    "\n",
    "X_test, y_test, keys = CLF.clean(CLF.test_data())\n",
    "X_test = preprocessing.StandardScaler().fit(X_test).transform(X_test)\n",
    "X_test = pd.DataFrame(X_test, columns=CLF.get_features())\n",
    "\n"
   ]
  }
 ],
 "metadata": {
  "kernelspec": {
   "display_name": "Python 2",
   "language": "python",
   "name": "python2"
  },
  "language_info": {
   "codemirror_mode": {
    "name": "ipython",
    "version": 2
   },
   "file_extension": ".py",
   "mimetype": "text/x-python",
   "name": "python",
   "nbconvert_exporter": "python",
   "pygments_lexer": "ipython2",
   "version": "2.7.11"
  }
 },
 "nbformat": 4,
 "nbformat_minor": 0
}
