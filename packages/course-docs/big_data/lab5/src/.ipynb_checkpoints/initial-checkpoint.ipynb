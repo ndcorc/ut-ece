{
 "cells": [
  {
   "cell_type": "code",
   "execution_count": 2,
   "metadata": {
    "collapsed": false,
    "scrolled": true
   },
   "outputs": [],
   "source": [
    "import pandas as pd\n",
    "import numpy as np\n",
    "\n",
    "data = pd.read_csv(\"../ml-100k/u.data\", sep=\"\\t\", quoting=2, names=[\n",
    "        \"user id\", \"item id\", \"rating\", \"timestamp\"\n",
    "])\n",
    "users = pd.read_csv(\"../ml-100k/u.user\", sep=\"|\", quoting=2, names=[\n",
    "        \"user id\", \"age\", \"gender\", \"occupation\", \"zip code\"\n",
    " ])\n",
    "items = pd.read_csv(\"../ml-100k/u.item\", sep=\"|\", quoting=2, names=[\n",
    "        \"movie id\", \"movie title\", \"release date\", \"video release date\", \"IMDb URL\",\n",
    "        \"unknown\", \"Action\", \"Adventure\", \"Animation\", \"Children's\", \"Comedy\",\n",
    "        \"Crime\", \"Documentary\", \"Drama\", \"Fantasy\", \"Film-Noir\", \"Horror\",\n",
    "        \"Musical\", \"Mystery\", \"Romance\", \"Sci-Fi\", \"Thriller\", \"War\", \"Western\"\n",
    "])"
   ]
  },
  {
   "cell_type": "code",
   "execution_count": 3,
   "metadata": {
    "collapsed": false
   },
   "outputs": [],
   "source": [
    "df = pd.DataFrame(np.nan, index=range(100000), columns=[\n",
    "        'age', 'gender', 'occupation', 'zip code', 'movie_id', 'movie_title', 'release date', 'IMDb URL',\n",
    "        \"unknown\", \"Action\", \"Adventure\", \"Animation\", \"Children's\", \"Comedy\",\n",
    "        \"Crime\", \"Documentary\", \"Drama\", \"Fantasy\", \"Film-Noir\", \"Horror\",\n",
    "        \"Musical\", \"Mystery\", \"Romance\", \"Sci-Fi\", \"Thriller\", \"War\", \"Western\", 'rating', 'timestamp'        \n",
    "])\n",
    "target = df.rating"
   ]
  }
 ],
 "metadata": {
  "kernelspec": {
   "display_name": "Python 2",
   "language": "python",
   "name": "python2"
  },
  "language_info": {
   "codemirror_mode": {
    "name": "ipython",
    "version": 2
   },
   "file_extension": ".py",
   "mimetype": "text/x-python",
   "name": "python",
   "nbconvert_exporter": "python",
   "pygments_lexer": "ipython2",
   "version": "2.7.11"
  }
 },
 "nbformat": 4,
 "nbformat_minor": 0
}
