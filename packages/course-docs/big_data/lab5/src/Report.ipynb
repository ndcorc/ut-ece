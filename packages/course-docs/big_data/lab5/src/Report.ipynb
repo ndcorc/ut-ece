{
 "cells": [
  {
   "cell_type": "code",
   "execution_count": 132,
   "metadata": {
    "collapsed": false
   },
   "outputs": [],
   "source": [
    "#!/usr/bin/env python\n",
    "\n",
    "import sys\n",
    "import itertools\n",
    "from math import sqrt\n",
    "from operator import add\n",
    "from os.path import join, isfile, dirname\n",
    "\n",
    "from pyspark import SparkConf, SparkContext\n",
    "from pyspark.mllib.recommendation import ALS, MatrixFactorizationModel, Rating"
   ]
  },
  {
   "cell_type": "code",
   "execution_count": 133,
   "metadata": {
    "collapsed": true
   },
   "outputs": [],
   "source": [
    "def parseRating(line):\n",
    "    \"\"\"\n",
    "    Parses a rating record in MovieLens format userId::movieId::rating::timestamp .\n",
    "    \"\"\"\n",
    "    fields = line.strip().split(\"\\t\")\n",
    "    return long(fields[3]) % 10, (int(fields[0]), int(fields[1]), float(fields[2]))\n",
    "\n",
    "def parseMovie(line):\n",
    "    \"\"\"\n",
    "    Parses a movie record in MovieLens format movieId::movieTitle .\n",
    "    \"\"\"\n",
    "    fields = line.strip().split(\"|\")\n",
    "    return int(fields[0]), fields[1]\n",
    "\n",
    "def parsePersonalRating(line):\n",
    "    \"\"\"\n",
    "    Parses a rating record in MovieLens format userId::movieId::rating::timestamp .\n",
    "    \"\"\"\n",
    "    fields = line.strip().split(\"::\")\n",
    "    return long(fields[3]) % 10, (int(fields[0]), int(fields[1]), float(fields[2]))\n",
    "\n",
    "def loadRatings(ratingsFile):\n",
    "    \"\"\"\n",
    "    Load ratings from file.\n",
    "    \"\"\"\n",
    "    if not isfile(ratingsFile):\n",
    "        print \"File %s does not exist.\" % ratingsFile\n",
    "        sys.exit(1)\n",
    "    f = open(ratingsFile, 'r')\n",
    "    ratings = filter(lambda r: r[2] > 0, [parsePersonalRating(line)[1] for line in f])\n",
    "    f.close()\n",
    "    if not ratings:\n",
    "        print \"No ratings provided.\"\n",
    "        sys.exit(1)\n",
    "    else:\n",
    "        return ratings\n",
    "\n",
    "def computeAccuracy(model, data):\n",
    "    predictions = model.predictAll(data.map(lambda x: (x[0], x[1])))\n",
    "    predictionsAndRatings = predictions.map(lambda x: ((x[0], x[1]), x[2])) \\\n",
    "      .join(data.map(lambda x: ((x[0], x[1]), x[2]))) \\\n",
    "        .values()\n",
    "    pr = predictionsAndRatings.collect()\n",
    "    correct = list()\n",
    "    total = 0\n",
    "    for p in pr:\n",
    "        if abs(p[0]-p[1]) <= 1:\n",
    "            correct.append(p)\n",
    "            total += 1\n",
    "    acc = float(len(correct))/float(len(pr))*100\n",
    "    return acc"
   ]
  },
  {
   "cell_type": "code",
   "execution_count": 134,
   "metadata": {
    "collapsed": false
   },
   "outputs": [
    {
     "ename": "ValueError",
     "evalue": "Cannot run multiple SparkContexts at once; existing SparkContext(app=MovieRecommender, master=local[*]) created by __init__ at <ipython-input-3-2435df15c5b7>:2 ",
     "output_type": "error",
     "traceback": [
      "\u001b[0;31m---------------------------------------------------------------------------\u001b[0m",
      "\u001b[0;31mValueError\u001b[0m                                Traceback (most recent call last)",
      "\u001b[0;32m<ipython-input-134-2435df15c5b7>\u001b[0m in \u001b[0;36m<module>\u001b[0;34m()\u001b[0m\n\u001b[1;32m      1\u001b[0m \u001b[0mconf\u001b[0m \u001b[0;34m=\u001b[0m \u001b[0mSparkConf\u001b[0m\u001b[0;34m(\u001b[0m\u001b[0;34m)\u001b[0m     \u001b[0;34m.\u001b[0m\u001b[0msetAppName\u001b[0m\u001b[0;34m(\u001b[0m\u001b[0;34m\"MovieRecommender\"\u001b[0m\u001b[0;34m)\u001b[0m     \u001b[0;34m.\u001b[0m\u001b[0mset\u001b[0m\u001b[0;34m(\u001b[0m\u001b[0;34m\"spark.executor.memory\"\u001b[0m\u001b[0;34m,\u001b[0m \u001b[0;34m\"2g\"\u001b[0m\u001b[0;34m)\u001b[0m\u001b[0;34m\u001b[0m\u001b[0m\n\u001b[0;32m----> 2\u001b[0;31m \u001b[0msc\u001b[0m \u001b[0;34m=\u001b[0m \u001b[0mSparkContext\u001b[0m\u001b[0;34m(\u001b[0m\u001b[0mconf\u001b[0m\u001b[0;34m=\u001b[0m\u001b[0mconf\u001b[0m\u001b[0;34m)\u001b[0m\u001b[0;34m\u001b[0m\u001b[0m\n\u001b[0m\u001b[1;32m      3\u001b[0m \u001b[0msc\u001b[0m\u001b[0;34m.\u001b[0m\u001b[0msetLogLevel\u001b[0m\u001b[0;34m(\u001b[0m\u001b[0;34m\"ERROR\"\u001b[0m\u001b[0;34m)\u001b[0m\u001b[0;34m\u001b[0m\u001b[0m\n",
      "\u001b[0;32m/Users/Nolan/spark-1.6.1-bin-hadoop2.6/python/pyspark/context.pyc\u001b[0m in \u001b[0;36m__init__\u001b[0;34m(self, master, appName, sparkHome, pyFiles, environment, batchSize, serializer, conf, gateway, jsc, profiler_cls)\u001b[0m\n\u001b[1;32m    110\u001b[0m         \"\"\"\n\u001b[1;32m    111\u001b[0m         \u001b[0mself\u001b[0m\u001b[0;34m.\u001b[0m\u001b[0m_callsite\u001b[0m \u001b[0;34m=\u001b[0m \u001b[0mfirst_spark_call\u001b[0m\u001b[0;34m(\u001b[0m\u001b[0;34m)\u001b[0m \u001b[0;32mor\u001b[0m \u001b[0mCallSite\u001b[0m\u001b[0;34m(\u001b[0m\u001b[0mNone\u001b[0m\u001b[0;34m,\u001b[0m \u001b[0mNone\u001b[0m\u001b[0;34m,\u001b[0m \u001b[0mNone\u001b[0m\u001b[0;34m)\u001b[0m\u001b[0;34m\u001b[0m\u001b[0m\n\u001b[0;32m--> 112\u001b[0;31m         \u001b[0mSparkContext\u001b[0m\u001b[0;34m.\u001b[0m\u001b[0m_ensure_initialized\u001b[0m\u001b[0;34m(\u001b[0m\u001b[0mself\u001b[0m\u001b[0;34m,\u001b[0m \u001b[0mgateway\u001b[0m\u001b[0;34m=\u001b[0m\u001b[0mgateway\u001b[0m\u001b[0;34m)\u001b[0m\u001b[0;34m\u001b[0m\u001b[0m\n\u001b[0m\u001b[1;32m    113\u001b[0m         \u001b[0;32mtry\u001b[0m\u001b[0;34m:\u001b[0m\u001b[0;34m\u001b[0m\u001b[0m\n\u001b[1;32m    114\u001b[0m             self._do_init(master, appName, sparkHome, pyFiles, environment, batchSize, serializer,\n",
      "\u001b[0;32m/Users/Nolan/spark-1.6.1-bin-hadoop2.6/python/pyspark/context.pyc\u001b[0m in \u001b[0;36m_ensure_initialized\u001b[0;34m(cls, instance, gateway)\u001b[0m\n\u001b[1;32m    259\u001b[0m                         \u001b[0;34m\" created by %s at %s:%s \"\u001b[0m\u001b[0;34m\u001b[0m\u001b[0m\n\u001b[1;32m    260\u001b[0m                         % (currentAppName, currentMaster,\n\u001b[0;32m--> 261\u001b[0;31m                             callsite.function, callsite.file, callsite.linenum))\n\u001b[0m\u001b[1;32m    262\u001b[0m                 \u001b[0;32melse\u001b[0m\u001b[0;34m:\u001b[0m\u001b[0;34m\u001b[0m\u001b[0m\n\u001b[1;32m    263\u001b[0m                     \u001b[0mSparkContext\u001b[0m\u001b[0;34m.\u001b[0m\u001b[0m_active_spark_context\u001b[0m \u001b[0;34m=\u001b[0m \u001b[0minstance\u001b[0m\u001b[0;34m\u001b[0m\u001b[0m\n",
      "\u001b[0;31mValueError\u001b[0m: Cannot run multiple SparkContexts at once; existing SparkContext(app=MovieRecommender, master=local[*]) created by __init__ at <ipython-input-3-2435df15c5b7>:2 "
     ]
    }
   ],
   "source": [
    "conf = SparkConf() \\\n",
    "    .setAppName(\"MovieRecommender\") \\\n",
    "    .set(\"spark.executor.memory\", \"2g\")\n",
    "sc = SparkContext(conf=conf)\n",
    "sc.setLogLevel(\"ERROR\")"
   ]
  },
  {
   "cell_type": "code",
   "execution_count": 135,
   "metadata": {
    "collapsed": false
   },
   "outputs": [],
   "source": [
    "myRatingsDir = \"personalRatings.txt\"\n",
    "myRatings = loadRatings(myRatingsDir)\n",
    "myRatingsRDD = sc.parallelize(myRatings, 1)"
   ]
  },
  {
   "cell_type": "code",
   "execution_count": 194,
   "metadata": {
    "collapsed": false
   },
   "outputs": [],
   "source": [
    "movieLensHomeDir = '../data/ml-100k'\n",
    "\n",
    "# ratings is an RDD of (last digit of timestamp, (userId, movieId, rating))\n",
    "ratings = sc.textFile(join(movieLensHomeDir, \"u.data\")).map(parseRating)\n",
    "\n",
    "# movies is an RDD of (movieId, movieTitle)\n",
    "movies = dict(sc.textFile(join(movieLensHomeDir, \"u.item\")).map(parseMovie).collect())"
   ]
  },
  {
   "cell_type": "code",
   "execution_count": 5,
   "metadata": {
    "collapsed": false
   },
   "outputs": [
    {
     "name": "stdout",
     "output_type": "stream",
     "text": [
      "Got 100000 ratings from 943 users on 1682 movies.\n"
     ]
    }
   ],
   "source": [
    "numRatings = ratings.count()\n",
    "numUsers = ratings.values().map(lambda r: r[0]).distinct().count()\n",
    "numMovies = ratings.values().map(lambda r: r[1]).distinct().count()\n",
    "\n",
    "print \"Got %d ratings from %d users on %d movies.\" % (numRatings, numUsers, numMovies)"
   ]
  },
  {
   "cell_type": "code",
   "execution_count": 230,
   "metadata": {
    "collapsed": false
   },
   "outputs": [
    {
     "name": "stdout",
     "output_type": "stream",
     "text": [
      "Training: 70097, validation: 29913\n"
     ]
    }
   ],
   "source": [
    "numPartitions = 4\n",
    "trainingData = ratings.filter(lambda x: x[0] < 7) \\\n",
    "    .values() \\\n",
    "    .union(myRatingsRDD) \\\n",
    "    .repartition(numPartitions) \\\n",
    "    .cache()\n",
    "\n",
    "validationData = ratings.filter(lambda x: x[0] >= 7) \\\n",
    "    .values() \\\n",
    "    .repartition(numPartitions) \\\n",
    "    .cache()\n",
    "\n",
    "numTraining = trainingData.count()\n",
    "numValidation = validationData.count()\n",
    "\n",
    "print \"Training: %d, validation: %d\" % (numTraining, numValidation)"
   ]
  },
  {
   "cell_type": "code",
   "execution_count": 231,
   "metadata": {
    "collapsed": true
   },
   "outputs": [],
   "source": [
    "def iter_accs(rank):\n",
    "    rank = rank\n",
    "    numItersList = range(5, 21)\n",
    "    iterAccuracies = dict()\n",
    "    for numIters in numItersList:\n",
    "        model = ALS.train(trainingData, rank, numIters)\n",
    "        iterAccuracies[numIters] = computeAccuracy(model, validationData)\n",
    "    return iterAccuracies\n",
    "\n",
    "def rank_accs(iters):\n",
    "    numIters = iters\n",
    "    ranks = range(5, 21)\n",
    "    rankAccuracies = dict()\n",
    "    for rank in ranks:\n",
    "        model = ALS.train(trainingData, rank, numIters)\n",
    "        rankAccuracies[rank] = computeAccuracy(model, validationData)\n",
    "    return rankAccuracies"
   ]
  },
  {
   "cell_type": "markdown",
   "metadata": {},
   "source": [
    "### Fix the rank at 10 and plot how the validation set accuracy changes as you vary numIters from 5 to 20"
   ]
  },
  {
   "cell_type": "code",
   "execution_count": 232,
   "metadata": {
    "collapsed": false
   },
   "outputs": [],
   "source": [
    "iterAccs = iter_accs(10)"
   ]
  },
  {
   "cell_type": "code",
   "execution_count": 233,
   "metadata": {
    "collapsed": false
   },
   "outputs": [
    {
     "data": {
      "image/png": "[encoded data removed]",
      "text/plain": [
       "<matplotlib.figure.Figure at 0x108ad8290>"
      ]
     },
     "metadata": {},
     "output_type": "display_data"
    }
   ],
   "source": [
    "%matplotlib inline\n",
    "import numpy as np\n",
    "import matplotlib.pyplot as plt\n",
    "\n",
    "iter_x = iterAccs.keys()\n",
    "iter_y = iterAccs.values()\n",
    "\n",
    "fig, ax = plt.subplots()\n",
    "ax.plot(iter_x, iter_y, 'bo', iter_x, iter_y, 'k')\n",
    "ax.set_xlim(4, 21)\n",
    "plt.xlabel('# Iterations')\n",
    "plt.ylabel('% Accuracy')\n",
    "plt.title('Validation Accuracy v. Number of Iterations')\n",
    "plt.show()"
   ]
  },
  {
   "cell_type": "markdown",
   "metadata": {},
   "source": [
    "### Fix the numIters at 10 and plot how the validation set accuracy changes as you very the rank from 5 to 20"
   ]
  },
  {
   "cell_type": "code",
   "execution_count": 234,
   "metadata": {
    "collapsed": true
   },
   "outputs": [],
   "source": [
    "rankAccs = rank_accs(10)"
   ]
  },
  {
   "cell_type": "code",
   "execution_count": 235,
   "metadata": {
    "collapsed": false
   },
   "outputs": [
    {
     "data": {
      "image/png": "[encoded data removed]",
      "text/plain": [
       "<matplotlib.figure.Figure at 0x1096077d0>"
      ]
     },
     "metadata": {},
     "output_type": "display_data"
    }
   ],
   "source": [
    "rank_x = rankAccs.keys()\n",
    "rank_y = rankAccs.values()\n",
    "\n",
    "fig, ax = plt.subplots()\n",
    "ax.plot(rank_x, rank_y, 'bo', rank_x, rank_y, 'k')\n",
    "ax.set_xlim(4, 21)\n",
    "plt.xlabel('Rank')\n",
    "plt.ylabel('% Accuracy')\n",
    "plt.title('Validation Accuracy v. Rank')\n",
    "plt.show()"
   ]
  },
  {
   "cell_type": "code",
   "execution_count": 236,
   "metadata": {
    "collapsed": false
   },
   "outputs": [],
   "source": [
    "def get_best(x, y):\n",
    "    best = y.index(max(y))\n",
    "    return (x[best], y[best])            \n",
    "mIter = get_best(iter_x, iter_y)\n",
    "mRank = get_best(rank_x, rank_y)\n",
    "best_params = {\n",
    "    \"iters\": mIter,\n",
    "    \"rank\": mRank\n",
    "}"
   ]
  },
  {
   "cell_type": "code",
   "execution_count": 61,
   "metadata": {
    "collapsed": false
   },
   "outputs": [],
   "source": [
    "allAccs = {\n",
    "    \"iterAccs\": list(),\n",
    "    \"rankAccs\": list()\n",
    "}\n",
    "for i in range(5,21):\n",
    "    allAccs[\"iterAccs\"].append(iter_accs(i))\n",
    "    allAccs[\"rankAccs\"].append(rank_accs(i))"
   ]
  },
  {
   "cell_type": "code",
   "execution_count": 104,
   "metadata": {
    "collapsed": false
   },
   "outputs": [],
   "source": [
    "bestAccs = dict()\n",
    "a = allAccs['iterAccs'][0]\n",
    "b = get_best(a.keys(), a.values())\n",
    "bestAccs['iters'] = b[0]\n",
    "bestAccs['rank'] = 5\n",
    "bestAccs['accuracy'] = b[1]"
   ]
  },
  {
   "cell_type": "code",
   "execution_count": 109,
   "metadata": {
    "collapsed": false
   },
   "outputs": [],
   "source": [
    "best = [bestAccs]\n",
    "for i in range(1, len(allAccs['iterAccs'])):\n",
    "    a = allAccs['iterAccs'][i]\n",
    "    b = get_best(a.keys(), a.values())\n",
    "    if bestAccs['accuracy'] < b[1]:\n",
    "        bestAccs['iters'] = b[0]\n",
    "        bestAccs['rank'] = i+5\n",
    "        bestAccs['accuracy'] = b[1]\n",
    "        best = [bestAccs]\n",
    "    elif bestAccs['accuracy'] == b[1]:\n",
    "        newAccs['iters'] = b[0]\n",
    "        newAccs['rank'] = i+5\n",
    "        newAccs['accuracy'] = b[1]\n",
    "        best.append(newAccs)\n",
    "        \n",
    "for i in range(len(allAccs['rankAccs'])):\n",
    "    a = allAccs['rankAccs'][i]\n",
    "    b = get_best(a.keys(), a.values())\n",
    "    if bestAccs['accuracy'] < b[1]:\n",
    "        bestAccs['iters'] = i+5\n",
    "        bestAccs['rank'] = b[0]\n",
    "        bestAccs['accuracy'] = b[1]\n",
    "        best = [bestAccs]\n",
    "    elif bestAccs['accuracy'] == b[1]:\n",
    "        newAccs['iters'] = i+5\n",
    "        newAccs['rank'] = b[0]\n",
    "        newAccs['accuracy'] = b[1]\n",
    "        best.append(newAccs)"
   ]
  },
  {
   "cell_type": "markdown",
   "metadata": {},
   "source": [
    "After testing every possible option of parameters pairs between 5 and 20, the best parameters and their resulting accuracy were ..."
   ]
  },
  {
   "cell_type": "code",
   "execution_count": 112,
   "metadata": {
    "collapsed": false
   },
   "outputs": [
    {
     "name": "stdout",
     "output_type": "stream",
     "text": [
      "Number of iterations: 12\n",
      "Rank: 5\n",
      "Accuracy: 71.3223472669\n",
      "\n"
     ]
    }
   ],
   "source": [
    "print \"Number of iterations: %s\\nRank: %s\\nAccuracy: %s\\n\" % (bestAccs['iters'], bestAccs['rank'], bestAccs['accuracy'])"
   ]
  },
  {
   "cell_type": "markdown",
   "metadata": {},
   "source": [
    "## Part 2: Testing The Recommender"
   ]
  },
  {
   "cell_type": "code",
   "execution_count": 239,
   "metadata": {
    "collapsed": false
   },
   "outputs": [
    {
     "name": "stdout",
     "output_type": "stream",
     "text": [
      "Looks like you've already rated the movies. Overwrite ratings (y/N)? y\n",
      "Please rate the following movie (1-5 (best), or 0 if not seen): \n",
      "Substance of Fire, The (1996): 2\n",
      "Kansas City (1996): 3\n",
      "Savage Nights (Nuits fauves, Les) (1992): 3\n",
      "Judge Dredd (1995): 4\n",
      "Indian Summer (1996): 2\n",
      "Casablanca (1942): 4\n",
      "Purple Noon (1960): 2\n",
      "Very Brady Sequel, A (1996): 4\n",
      "Space Jam (1996): 5\n",
      "A Chef in Love (1996): 2\n"
     ]
    }
   ],
   "source": [
    "import rateMovies\n",
    "\n",
    "rateMovies.rate()"
   ]
  },
  {
   "cell_type": "code",
   "execution_count": 240,
   "metadata": {
    "collapsed": true
   },
   "outputs": [],
   "source": [
    "myRatingsDir = \"personalRatings.txt\"\n",
    "myRatings = loadRatings(myRatingsDir)\n",
    "myRatingsRDD = sc.parallelize(myRatings, 1)"
   ]
  },
  {
   "cell_type": "code",
   "execution_count": 241,
   "metadata": {
    "collapsed": true
   },
   "outputs": [],
   "source": [
    "numPartitions = 4\n",
    "finalData = ratings \\\n",
    "    .values() \\\n",
    "    .union(myRatingsRDD) \\\n",
    "    .repartition(numPartitions) \\\n",
    "    .cache()\n",
    "\n",
    "numRatings = finalData.count()\n",
    "\n",
    "rank = 5\n",
    "numIters = 12\n",
    "bestModel = ALS.train(finalData, rank, numIters)"
   ]
  },
  {
   "cell_type": "code",
   "execution_count": 243,
   "metadata": {
    "collapsed": false
   },
   "outputs": [
    {
     "name": "stdout",
     "output_type": "stream",
     "text": [
      "Movies recommended for you:\n",
      " 1: Underworld (1997)\n",
      " 2: Bitter Moon (1992)\n",
      " 3: Flirt (1995)\n",
      " 4: Schizopolis (1996)\n",
      " 5: Harlem (1993)\n",
      " 6: Ruby in Paradise (1993)\n",
      " 7: Endless Summer 2, The (1994)\n",
      " 8: Love and Death on Long Island (1997)\n",
      " 9: 8 Heads in a Duffel Bag (1997)\n",
      "10: Mina Tannenbaum (1994)\n"
     ]
    }
   ],
   "source": [
    "myRatedMovieIds = set([x[1] for x in myRatings])\n",
    "candidates = sc.parallelize([m for m in movies if m not in myRatedMovieIds])\n",
    "predictions = bestModel.predictAll(candidates.map(lambda x: (0, x))).collect()\n",
    "recommendations = sorted(predictions, key=lambda x: x[2], reverse=True)[:10]\n",
    "\n",
    "print \"Movies recommended for you:\"\n",
    "for i in xrange(len(recommendations)):\n",
    "    print (\"%2d: %s\" % (i + 1, movies[recommendations[i][1]])).encode('ascii', 'ignore')"
   ]
  },
  {
   "cell_type": "markdown",
   "metadata": {},
   "source": [
    "The recommendations were pretty poor, but that had a lot to do with the 10 movies randomly asked to rate. They were pretty unknown movies in my opinion, therefore not giving the recommender a chance to perform better."
   ]
  }
 ],
 "metadata": {
  "kernelspec": {
   "display_name": "Python 2",
   "language": "python",
   "name": "python2"
  },
  "language_info": {
   "codemirror_mode": {
    "name": "ipython",
    "version": 2
   },
   "file_extension": ".py",
   "mimetype": "text/x-python",
   "name": "python",
   "nbconvert_exporter": "python",
   "pygments_lexer": "ipython2",
   "version": "2.7.11"
  }
 },
 "nbformat": 4,
 "nbformat_minor": 0
}
