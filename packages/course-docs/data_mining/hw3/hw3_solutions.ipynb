{
 "cells": [
  {
   "cell_type": "markdown",
   "metadata": {},
   "source": [
    "## EE-361M Introduction to Data Mining\n",
    "## Assignment #3\n",
    "## Due: Thursday, Mar 4, 2016 by midnight; Total points: 50\n",
    "\n",
    "\n",
    "Your homework should be written in a **Jupyter notebook** (if this isn't possible, let me know). Please use this naming format for your notebook you submit: **Group(Group Num)_HW(HW Number).ipynb**. For example, Group1_HW1.ipynb. Homeworks should be submitted through Canvas in your **groups of 3 from the first homework**. If groups need to be adjusted please contact the TA. Also, please make sure your code runs and the graphics (and anything else) are displayed in your notebook before submitting."
   ]
  },
  {
   "cell_type": "markdown",
   "metadata": {
    "collapsed": true
   },
   "source": [
    "## Question 1 (2+1 = 3 points)\n",
    "\n",
    "View the video at:\n",
    "\n",
    "https://www.youtube.com/watch?v=jbkSRLYSojo\n",
    "\n",
    "(Hans Rosling's 200 Countries, 200 Years, 4 Minutes) and answer the following questions:\n",
    "\n",
    "1. How many variables are being visualized in the “moving bubble plots” video (list them)?\n",
    "\n",
    "2. Identify a variable that is “zoomed into”, i.e., examined at a sub-category or more detailed level.\n",
    "\n",
    "\n",
    "FACTOID: Rosling’s gapminder visualization\n",
    "\n",
    "(see https://www.youtube.com/user/Gapcast for some more insightful videos) can now be\n",
    "\n",
    "readily used by you via Google Charts: https://developers.google.com/chart/interactive/docs/gallery\n",
    "\n",
    "Just plug in your own variables into “Bubble Chart” under the URL above and go!"
   ]
  },
  {
   "cell_type": "markdown",
   "metadata": {},
   "source": [
    "## ANSWER\n",
    "## 1\n",
    "5 variables - time, lifespan, income, population, geographical area (the color)\n",
    "## 2\n",
    "An individual country"
   ]
  },
  {
   "cell_type": "markdown",
   "metadata": {
    "collapsed": true
   },
   "source": [
    "## Question 2 (3+3+2+2=10 points)\n",
    "\n",
    "In this question, you will explore the application of Lasso and Ridge regression using sklearn package in Python. The dataset is prostate cancer data. The data can be found on canvas on the homework 3 page as prostate.csv. More information on the data can be found [here](https://cran.r-project.org/web/packages/ElemStatLearn/ElemStatLearn.pdf) under prostate. Use a random state of 42 and a test size of 1/3 to [split the data into training and test](http://scikit-learn.org/stable/modules/generated/sklearn.cross_validation.train_test_split.html). We will be using all the variables to predict lcavol. Note: lambda is called alpha in sklearn.\n",
    "\n",
    "1. Use sklearn.linear_model.Lasso and sklearn.linear_model.Ridge classes to do a [5-fold cross validation](http://scikit-learn.org/stable/auto_examples/exercises/plot_cv_diabetes.html#example-exercises-plot-cv-diabetes-py) using sklearn's [KFold](http://scikit-learn.org/stable/modules/generated/sklearn.cross_validation.KFold.html). For the sweep of the regularization parameter, use [0.00001, 0.0001,0.001, 0.005, 0.01, 0.05, 0.1, 1, 5, 10, 100]  for ridge and [0.0001, 0.0005, 0.001, 0.005, 0.01, 0.05, 0.1, 0.2, 0.3, 0.4, 0.5] for lasso. Report the best chosen based on cross-validation. The cross validation should happen on your training data using  average MSE as the scoring metric.\n",
    "2. Run ridge and lasso for all of the parameters specified above (on all training data), and plot the coefficients learned for each of them - there should be one plot each for lasso and ridge, so a total of two plots; the plots for different features for a method should be on the same plot (e.g. Fig 6.6 of JW). What do you qualitatively observe when value of the regularization parameter is changed? \n",
    "3. Run least squares regression, ridge, and lasso on the full training data. For ridge and lasso, use only the best regularization parameter. Report the prediction error on the test data for each.\n",
    "4. For the best lasso parameter, determine the variables that were not dropped. Using only these variables, run least squares regression on full training data and report the prediction error on the test data.\n"
   ]
  },
  {
   "cell_type": "markdown",
   "metadata": {},
   "source": [
    "## ANSWER\n",
    "# 1"
   ]
  },
  {
   "cell_type": "code",
   "execution_count": 1,
   "metadata": {
    "collapsed": false
   },
   "outputs": [
    {
     "data": {
      "text/html": [
       "<div style=\"max-height:1000px;max-width:1500px;overflow:auto;\">\n",
       "<table border=\"1\" class=\"dataframe\">\n",
       "  <thead>\n",
       "    <tr style=\"text-align: right;\">\n",
       "      <th></th>\n",
       "      <th>lcavol</th>\n",
       "      <th>lweight</th>\n",
       "      <th>age</th>\n",
       "      <th>lbph</th>\n",
       "      <th>svi</th>\n",
       "      <th>lcp</th>\n",
       "      <th>gleason</th>\n",
       "      <th>pgg45</th>\n",
       "      <th>lpsa</th>\n",
       "    </tr>\n",
       "  </thead>\n",
       "  <tbody>\n",
       "    <tr>\n",
       "      <th>0</th>\n",
       "      <td>-0.579818</td>\n",
       "      <td>2.769459</td>\n",
       "      <td>50</td>\n",
       "      <td>-1.386294</td>\n",
       "      <td>0</td>\n",
       "      <td>-1.386294</td>\n",
       "      <td>6</td>\n",
       "      <td>0</td>\n",
       "      <td>-0.430783</td>\n",
       "    </tr>\n",
       "    <tr>\n",
       "      <th>1</th>\n",
       "      <td>-0.994252</td>\n",
       "      <td>3.319626</td>\n",
       "      <td>58</td>\n",
       "      <td>-1.386294</td>\n",
       "      <td>0</td>\n",
       "      <td>-1.386294</td>\n",
       "      <td>6</td>\n",
       "      <td>0</td>\n",
       "      <td>-0.162519</td>\n",
       "    </tr>\n",
       "    <tr>\n",
       "      <th>2</th>\n",
       "      <td>-0.510826</td>\n",
       "      <td>2.691243</td>\n",
       "      <td>74</td>\n",
       "      <td>-1.386294</td>\n",
       "      <td>0</td>\n",
       "      <td>-1.386294</td>\n",
       "      <td>7</td>\n",
       "      <td>20</td>\n",
       "      <td>-0.162519</td>\n",
       "    </tr>\n",
       "    <tr>\n",
       "      <th>3</th>\n",
       "      <td>-1.203973</td>\n",
       "      <td>3.282789</td>\n",
       "      <td>58</td>\n",
       "      <td>-1.386294</td>\n",
       "      <td>0</td>\n",
       "      <td>-1.386294</td>\n",
       "      <td>6</td>\n",
       "      <td>0</td>\n",
       "      <td>-0.162519</td>\n",
       "    </tr>\n",
       "    <tr>\n",
       "      <th>4</th>\n",
       "      <td>0.751416</td>\n",
       "      <td>3.432373</td>\n",
       "      <td>62</td>\n",
       "      <td>-1.386294</td>\n",
       "      <td>0</td>\n",
       "      <td>-1.386294</td>\n",
       "      <td>6</td>\n",
       "      <td>0</td>\n",
       "      <td>0.371564</td>\n",
       "    </tr>\n",
       "  </tbody>\n",
       "</table>\n",
       "</div>"
      ],
      "text/plain": [
       "     lcavol   lweight  age      lbph  svi       lcp  gleason  pgg45      lpsa\n",
       "0 -0.579818  2.769459   50 -1.386294    0 -1.386294        6      0 -0.430783\n",
       "1 -0.994252  3.319626   58 -1.386294    0 -1.386294        6      0 -0.162519\n",
       "2 -0.510826  2.691243   74 -1.386294    0 -1.386294        7     20 -0.162519\n",
       "3 -1.203973  3.282789   58 -1.386294    0 -1.386294        6      0 -0.162519\n",
       "4  0.751416  3.432373   62 -1.386294    0 -1.386294        6      0  0.371564"
      ]
     },
     "execution_count": 1,
     "metadata": {},
     "output_type": "execute_result"
    }
   ],
   "source": [
    "import pandas as pd\n",
    "from sklearn.cross_validation import train_test_split\n",
    "from sklearn import cross_validation\n",
    "from sklearn import linear_model\n",
    "from sklearn.metrics import mean_squared_error, accuracy_score\n",
    "import numpy as np\n",
    "%matplotlib inline\n",
    "\n",
    "data = pd.read_csv(\"prostate.csv\")\n",
    "data.head()"
   ]
  },
  {
   "cell_type": "code",
   "execution_count": 2,
   "metadata": {
    "collapsed": false
   },
   "outputs": [
    {
     "name": "stdout",
     "output_type": "stream",
     "text": [
      "Best lasso alpha: 0.1\n"
     ]
    }
   ],
   "source": [
    "X = data[data.columns[1:]].values\n",
    "y = data.lcavol.values\n",
    "X_train, X_test, y_train, y_test = train_test_split(X, y, test_size=0.33, random_state=42)\n",
    "n_folds = 5\n",
    "k_fold = cross_validation.KFold(len(X_train), n_folds)\n",
    "lasso_alphas = [0.0001, 0.0005, 0.001, 0.005, 0.01, 0.05, 0.1, 0.2, 0.3, 0.4, 0.5]\n",
    "lasso_avg_rmse = {}\n",
    "\n",
    "for alpha in lasso_alphas:\n",
    "    lasso = linear_model.Lasso(alpha=alpha)\n",
    "    avg_mse = 0\n",
    "    for k, (train, test) in enumerate(k_fold):\n",
    "        lasso.fit(X_train[train], y_train[train])\n",
    "        avg_mse = avg_mse + mean_squared_error(y_train[test], lasso.predict(X_train[test])) \n",
    "    lasso_avg_rmse[alpha] = avg_mse / n_folds\n",
    "best_alpha_lasso = min(lasso_avg_rmse, key=lasso_avg_rmse.get)\n",
    "print(\"Best lasso alpha: {}\".format(best_alpha_lasso))"
   ]
  },
  {
   "cell_type": "code",
   "execution_count": 3,
   "metadata": {
    "collapsed": false
   },
   "outputs": [
    {
     "name": "stdout",
     "output_type": "stream",
     "text": [
      "Best ridge alpha: 10\n"
     ]
    }
   ],
   "source": [
    "ridge_alphas =  [0.00001, 0.0001,0.001, 0.005, 0.01, 0.05, 0.1, 1, 5, 10, 100] \n",
    "ridge_avg_rmse = {}\n",
    "\n",
    "for alpha in ridge_alphas:\n",
    "    ridge = linear_model.Ridge(alpha=alpha)\n",
    "    avg_mse = 0\n",
    "    for k, (train, test) in enumerate(k_fold):\n",
    "        ridge.fit(X_train[train], y_train[train])\n",
    "        avg_mse = avg_mse + mean_squared_error(y_train[test], ridge.predict(X_train[test])) \n",
    "    ridge_avg_rmse[alpha] = avg_mse / n_folds\n",
    "best_alpha_ridge = min(ridge_avg_rmse, key=ridge_avg_rmse.get)\n",
    "print(\"Best ridge alpha: {}\".format(best_alpha_ridge))"
   ]
  },
  {
   "cell_type": "markdown",
   "metadata": {},
   "source": [
    "## 2"
   ]
  },
  {
   "cell_type": "code",
   "execution_count": 4,
   "metadata": {
    "collapsed": false
   },
   "outputs": [
    {
     "data": {
      "text/plain": [
       "<matplotlib.axes._subplots.AxesSubplot at 0x104b28190>"
      ]
     },
     "execution_count": 4,
     "metadata": {},
     "output_type": "execute_result"
    },
    {
     "data": {
      "image/png": "[encoded data removed]",
      "text/plain": [
       "<matplotlib.figure.Figure at 0x104b284d0>"
      ]
     },
     "metadata": {},
     "output_type": "display_data"
    }
   ],
   "source": [
    "ridge_coeff = {}\n",
    "for alpha in ridge_alphas:\n",
    "    ridge = linear_model.Ridge(alpha=alpha)\n",
    "    ridge.fit(X_train, y_train)\n",
    "    ridge_coeff[alpha] = ridge.coef_\n",
    "rpd = pd.DataFrame.from_dict(ridge_coeff, orient='index')\n",
    "rpd.columns = data.columns[1:]\n",
    "rpd = rpd.sort_index()\n",
    "rpd.plot()"
   ]
  },
  {
   "cell_type": "code",
   "execution_count": 5,
   "metadata": {
    "collapsed": false
   },
   "outputs": [
    {
     "data": {
      "text/plain": [
       "<matplotlib.axes._subplots.AxesSubplot at 0x10a5e04d0>"
      ]
     },
     "execution_count": 5,
     "metadata": {},
     "output_type": "execute_result"
    },
    {
     "data": {
      "image/png": "[encoded data removed]",
      "text/plain": [
       "<matplotlib.figure.Figure at 0x10a6ef0d0>"
      ]
     },
     "metadata": {},
     "output_type": "display_data"
    }
   ],
   "source": [
    "lasso_coeff = {}\n",
    "for alpha in lasso_alphas:\n",
    "    lasso = linear_model.Lasso(alpha=alpha)\n",
    "    lasso.fit(X_train, y_train)\n",
    "    lasso_coeff[alpha] = lasso.coef_\n",
    "lpd = pd.DataFrame.from_dict(lasso_coeff, orient='index', )\n",
    "lpd.columns = data.columns[1:]\n",
    "lpd=lpd.sort_index()\n",
    "lpd.plot()"
   ]
  },
  {
   "cell_type": "markdown",
   "metadata": {},
   "source": [
    "## 3"
   ]
  },
  {
   "cell_type": "code",
   "execution_count": 6,
   "metadata": {
    "collapsed": false
   },
   "outputs": [
    {
     "name": "stdout",
     "output_type": "stream",
     "text": [
      "MSE for linear: 0.543783938173\n",
      "MSE for ridge: 0.544994235195\n",
      "MSE for lasso: 0.564961986751\n"
     ]
    }
   ],
   "source": [
    "linear_clf = linear_model.LinearRegression()\n",
    "ridge_clf = linear_model.Ridge(alpha=best_alpha_ridge)\n",
    "lasso_clf = linear_model.Lasso(alpha=best_alpha_lasso)\n",
    "\n",
    "def fit_reg(model, name):\n",
    "    model.fit(X_train, y_train)\n",
    "    pred = model.predict(X_test)\n",
    "    mse = mean_squared_error(pred, y_test)\n",
    "    print(\"MSE for {0}: {1}\".format(name, mse))\n",
    "\n",
    "fit_reg(linear_clf, \"linear\")\n",
    "fit_reg(ridge_clf, \"ridge\")\n",
    "fit_reg(lasso_clf, \"lasso\")"
   ]
  },
  {
   "cell_type": "markdown",
   "metadata": {},
   "source": [
    "## 4"
   ]
  },
  {
   "cell_type": "code",
   "execution_count": 7,
   "metadata": {
    "collapsed": false
   },
   "outputs": [
    {
     "name": "stdout",
     "output_type": "stream",
     "text": [
      "Linear w/ only non-zeros MSE: 0.541808479085\n"
     ]
    }
   ],
   "source": [
    "lasso_coef_non_zero = np.array([1 if val != 0 else 0 for (var, val) in zip(data.columns, lasso_clf.coef_)], \n",
    "                               dtype=bool)\n",
    "X_train_nonzero = X_train[:,lasso_coef_non_zero]\n",
    "X_test_nonzero = X_test[:, lasso_coef_non_zero]\n",
    "linear_clf.fit(X_train_nonzero, y_train)\n",
    "pred_y = linear_clf.predict(X_test_nonzero)\n",
    "print (\"Linear w/ only non-zeros MSE: {}\".format(mean_squared_error(pred_y, y_test)))"
   ]
  },
  {
   "cell_type": "markdown",
   "metadata": {},
   "source": [
    "## Question 3 (3+3+2+2 = 10 points)\n",
    "\n",
    "Re-solve all the questions in question 2 using R. You can submit the code and results via a PDF or other format. Just please make a reference to it in your notebook. See hints.R on the Canvas homework 3 page to help get you started. I would recommend using [RStudio](https://www.rstudio.com/products/rstudio/download/) for your work in R."
   ]
  },
  {
   "cell_type": "markdown",
   "metadata": {},
   "source": [
    "## ANSWER\n",
    "\n",
    "See Homework_3_R_Solution.R on Canvas"
   ]
  },
  {
   "cell_type": "markdown",
   "metadata": {},
   "source": [
    "## Question 4 (5+5 = 10 points)\n",
    "\n",
    "1. Derive the coefficent updates, from first principles, for a gradient descent version of linear regression. Hint: start from the cost function. If you write the math by hand, submit that as a separate file and make a reference to it in your notebook or include the image in your notebook.\n",
    "2. Write Python code for a gradient descent version of linear regression. Should be similar to sklearn in that you have a fit function that takes an X, y, learning rate, and number of iterations and a predict funtion that takes an X value. Use your new SGD regression to re-run question 2.4 and compare MSE. Make sure you always normalize your X matrices and use an intercept. You can also compare your results with SGDRegressor from sklearn, but not required."
   ]
  },
  {
   "cell_type": "markdown",
   "metadata": {},
   "source": [
    "## ANSWER\n",
    "## 1\n",
    "See here: http://cs229.stanford.edu/notes/cs229-notes1.pdf"
   ]
  },
  {
   "cell_type": "markdown",
   "metadata": {},
   "source": [
    "## 2"
   ]
  },
  {
   "cell_type": "code",
   "execution_count": 8,
   "metadata": {
    "collapsed": false
   },
   "outputs": [],
   "source": [
    "import random\n",
    "\n",
    "class LinearRegression_SGD:\n",
    "    \n",
    "    def __init__(self, learning_rate, n_iter):\n",
    "        self.learning_rate = learning_rate\n",
    "        self.n_iter = n_iter\n",
    "        \n",
    "    \n",
    "    def fit(self, X, y):\n",
    "        # normalize\n",
    "        X = (X - np.mean(X, axis=0)) / np.std(X, axis=0)\n",
    "        # add intercept\n",
    "        X = np.c_[np.ones(X.shape[0]), X]\n",
    "        #init coef\n",
    "        self.coef = np.zeros(X.shape[1])\n",
    "        for _ in range(self.n_iter):\n",
    "            pred_y = self.predict(X, add_intercept=False, normalize=False).flatten()\n",
    "            residuals = y - pred_y\n",
    "            self.coef = self.coef + self.learning_rate * (residuals.T.dot(X))\n",
    "         \n",
    "        \n",
    "    def predict(self, X, add_intercept=True, normalize=True):\n",
    "        # normalize\n",
    "        if normalize:\n",
    "            X = (X - np.mean(X, axis=0)) / np.std(X, axis=0)\n",
    "        # add intercept\n",
    "        if add_intercept:\n",
    "            X = np.c_[np.ones(X.shape[0]), X]\n",
    "        return X.dot(self.coef)"
   ]
  },
  {
   "cell_type": "code",
   "execution_count": 9,
   "metadata": {
    "collapsed": false
   },
   "outputs": [
    {
     "name": "stdout",
     "output_type": "stream",
     "text": [
      "SGD w/ only non-zeros MSE: 0.59189566377\n"
     ]
    }
   ],
   "source": [
    "lr_sgd = LinearRegression_SGD(.01, 1000)\n",
    "lr_sgd.fit(X_train_nonzero, y_train)\n",
    "y_pred = lr_sgd.predict(X_test_nonzero)\n",
    "print (\"SGD w/ only non-zeros MSE: {}\".format(mean_squared_error(y_pred, y_test)))"
   ]
  },
  {
   "cell_type": "markdown",
   "metadata": {},
   "source": [
    "## Question 5 (2+1+5+2 = 10 points)\n",
    "\n",
    "We will use Google's Tensorflow to create a simple multi-layered perceptron. Installation instructions can be found [here](https://www.tensorflow.org/versions/r0.7/get_started/os_setup.html#pip-installation). To make our lives even easier, we will be using [skflow](https://github.com/tensorflow/skflow). This can be installed via pip install skflow. This is a higher level API on top of tensorflow. You can find documentation on how to get started on the skflow page.\n",
    "\n",
    "To install tensorflow, this command should work (did on Mac):\n",
    "\n",
    "sudo pip install --upgrade https://storage.googleapis.com/tensorflow/mac/tensorflow-0.7.0-py2-none-any.whl --ignore-installed\n",
    "\n",
    "1. Use pandas to get spam classification [data](https://archive.ics.uci.edu/ml/datasets/Spambase) from UCI. Don't worry about getting the column names. The last column is a 1 if spam, zero otherwise.\n",
    "2. Split the data into training and testing using test_size=0.33, random_state=42.\n",
    "3. Use a TensorFlowDNNClassifier to classify whether an email is spam and report your testing accuracy. You should use 1 hidden layer with 5 units, 50,000 steps, and a learning rate of .05. What does each parameter do and why does it matter?\n",
    "4. Compare your accuracy to a logistic regression using sklean. Discuss why one may have performed better than the other. You may also experiment with the architecture of your neural network (i.e. the number of hidden units, the number of nodes, the number of steps, and the learning rate) to see if you can improve your results from part 3."
   ]
  },
  {
   "cell_type": "markdown",
   "metadata": {},
   "source": [
    "## ANSWER\n",
    "# 1"
   ]
  },
  {
   "cell_type": "code",
   "execution_count": 5,
   "metadata": {
    "collapsed": false
   },
   "outputs": [
    {
     "data": {
      "text/plain": [
       "(4601, 58)"
      ]
     },
     "execution_count": 5,
     "metadata": {},
     "output_type": "execute_result"
    }
   ],
   "source": [
    "import pandas as pd\n",
    "data = pd.read_csv(\"https://archive.ics.uci.edu/ml/machine-learning-databases/spambase/spambase.data\",\n",
    "                   header=None)\n",
    "data.shape"
   ]
  },
  {
   "cell_type": "markdown",
   "metadata": {},
   "source": [
    "## 2"
   ]
  },
  {
   "cell_type": "code",
   "execution_count": 6,
   "metadata": {
    "collapsed": false
   },
   "outputs": [],
   "source": [
    "X = data.ix[:, :56].values\n",
    "y = data.ix[:, 57].values\n",
    "X_train, X_test, y_train, y_test = train_test_split(X, y, test_size=0.33, random_state=42)"
   ]
  },
  {
   "cell_type": "markdown",
   "metadata": {},
   "source": [
    "## 3"
   ]
  },
  {
   "cell_type": "code",
   "execution_count": 10,
   "metadata": {
    "collapsed": false
   },
   "outputs": [
    {
     "name": "stdout",
     "output_type": "stream",
     "text": [
      "Step #1, avg. loss: 5.17732\n",
      "Step #5001, epoch #51, avg. loss: 0.80931\n",
      "Step #10001, epoch #103, avg. loss: 0.85908\n",
      "Step #15001, epoch #154, avg. loss: 0.77170\n",
      "Step #20001, epoch #206, avg. loss: 0.72194\n",
      "Step #25001, epoch #257, avg. loss: 0.69393\n",
      "Step #30001, epoch #309, avg. loss: 0.63862\n",
      "Step #35001, epoch #360, avg. loss: 0.62803\n",
      "Step #40001, epoch #412, avg. loss: 0.63735\n",
      "Step #45001, epoch #463, avg. loss: 0.62265\n",
      "Accuracy: 0.748519\n"
     ]
    }
   ],
   "source": [
    "import skflow\n",
    "\n",
    "classifier = skflow.TensorFlowDNNClassifier(hidden_units=[5], n_classes=2, steps=50000, learning_rate=.05)\n",
    "classifier.fit(X_train, y_train)\n",
    "score = accuracy_score(y_test, classifier.predict(X_test))\n",
    "print(\"Accuracy: %f\" % score)"
   ]
  },
  {
   "cell_type": "markdown",
   "metadata": {},
   "source": [
    "## 4"
   ]
  },
  {
   "cell_type": "code",
   "execution_count": 16,
   "metadata": {
    "collapsed": false
   },
   "outputs": [
    {
     "data": {
      "text/plain": [
       "0.93087557603686633"
      ]
     },
     "execution_count": 16,
     "metadata": {},
     "output_type": "execute_result"
    }
   ],
   "source": [
    "a = linear_model.LogisticRegression()\n",
    "a.fit(X_train, y_train)\n",
    "metrics.accuracy_score(y_test, a.predict(X_test))"
   ]
  },
  {
   "cell_type": "markdown",
   "metadata": {},
   "source": [
    "## Question 6 (2+2+3 = 7 points)\n",
    "\n",
    "1. State briefly what you understand by the bias-variance tradeoff.\n",
    "\n",
    "2. For a given model and problem, what happens to these two quantities when the amount of training data available decreases, keeping all other factors remaining the same ( e.g. if 5-fold CV was used to train the original model, the same is used for the smaller dataset)?\n",
    "\n",
    "3. Suppose you want to approximate the pdf of a continuous random variable $X$, that takes on values over the interval (a,b), as follows: Get $N$ i.i.d samples of $X$; bin the interval into $k$ equi-spaced bins, and construct a histogram, which you then normalize so that total area under the histogram is 1. This normalized histogram will be an approximation of the true pdf. Clearly the histogram will change if you repeat this experiment using another $N$ samples; hence you can consider the quality of the solution in term of the 'mean' histogram (bias) and the variations among the histograms (variance).  Qualitatively explain how you would expect the bias-variance tradeoff to be reflected in this situation, as a function of $k$."
   ]
  },
  {
   "cell_type": "markdown",
   "metadata": {},
   "source": [
    "## ANSWER"
   ]
  },
  {
   "cell_type": "markdown",
   "metadata": {},
   "source": [
    "1. Mean-squared error (MSE) can be decomposed into a sum of a bias term and a variance term. The bias-variance tradeoff refers to finding the best proportion of the two quantities for an estimator so as to minimize the squared loss. Generally, as model complexity increases, (squared) bias decreases while variance increases; similarly, as model complexity decreases, (squared) bias generally increases while variance decreases.\n",
    "\n",
    "2. When training data decreases, bias remain unchanged and the variance increases.\n",
    "\n",
    "3. The number of bins $k$ in the normalized histogram is a direct measure of model complexity. Therefore, as $k$ increases, bias decreases (i.e.\\ we get a better expected fit to the true pdf), but variance increases (i.e.\\ each normalized histogram produces different estimates of the frequency observed for each bin). Conversely, as $k$ decreases, bias increases (i.e.\\ fewer, wider bins produce a poor expected fit to the true pdf), while variance decreases (i.e.\\ the normalized histograms tend to agree on the frequency observed for each bin)."
   ]
  }
 ],
 "metadata": {
  "kernelspec": {
   "display_name": "Python 2",
   "language": "python",
   "name": "python2"
  },
  "language_info": {
   "codemirror_mode": {
    "name": "ipython",
    "version": 2
   },
   "file_extension": ".py",
   "mimetype": "text/x-python",
   "name": "python",
   "nbconvert_exporter": "python",
   "pygments_lexer": "ipython2",
   "version": "2.7.11"
  }
 },
 "nbformat": 4,
 "nbformat_minor": 0
}
