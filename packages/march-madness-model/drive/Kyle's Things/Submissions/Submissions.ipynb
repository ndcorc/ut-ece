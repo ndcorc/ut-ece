{
 "cells": [
  {
   "cell_type": "markdown",
   "metadata": {},
   "source": [
    "# Submissions"
   ]
  },
  {
   "cell_type": "code",
   "execution_count": 1,
   "metadata": {
    "collapsed": false,
    "scrolled": true
   },
   "outputs": [
    {
     "name": "stdout",
     "output_type": "stream",
     "text": [
      "Accuracy: 0.79 (+/- 0.03) [Logistic Regression]\n",
      "Accuracy: 0.75 (+/- 0.04) [Random Forest]\n",
      "Accuracy: 0.79 (+/- 0.03) [naive Bayes]\n",
      "Accuracy: 0.79 (+/- 0.03) [Ensemble]\n"
     ]
    }
   ],
   "source": [
    "from sklearn import datasets\n",
    "from sklearn import cross_validation\n",
    "from sklearn.linear_model import LogisticRegression\n",
    "from sklearn.naive_bayes import GaussianNB\n",
    "from sklearn.ensemble import RandomForestClassifier\n",
    "from sklearn.ensemble import VotingClassifier\n",
    "from sklearn.ensemble import ExtraTreesClassifier\n",
    "from sklearn.cross_validation import train_test_split\n",
    "from sklearn.grid_search import GridSearchCV\n",
    "from sklearn.metrics import confusion_matrix\n",
    "from sklearn import linear_model\n",
    "import matplotlib.pyplot as plt\n",
    "from __future__ import division\n",
    "import pandas as pd\n",
    "import numpy as np\n",
    "%matplotlib inline\n",
    "\n",
    "#iris = datasets.load_iris()\n",
    "#X, y = iris.data[:, 1:3], iris.target\n",
    "df = pd.read_csv(\"Matchup_KP.csv\")\n",
    "features = ['FieldGoalAvg', 'ThreePointAvg', 'FreeThrowAvg', 'ReboundAvg', 'AssistAvg', 'TurnOverAvg', \n",
    "            'StealAvg', 'BlockAvg', 'PersonalFoulAvg', 'Pyth', 'Rank', 'AdjustO', 'AdjustO Rank', 'AdjustD', \n",
    "            'AdjustD Rank', 'AdjustT', 'AdjustT Rank', 'Luck', 'Luck Rank']\n",
    "features2 = ['Pyth', 'Rank', 'AdjustO', 'AdjustO Rank', 'AdjustD', \n",
    "            'AdjustD Rank', 'AdjustT', 'AdjustT Rank', 'Luck', 'Luck Rank']\n",
    "# Extremely Random Forest Features\n",
    "features3 = ['Pyth', 'AdjustO', 'AdjustD', 'Luck','FieldGoalAvg']\n",
    "# Random Forest Features\n",
    "features4 = ['Pyth', 'AdjustO', 'AdjustD', 'Luck','BlockAvg']\n",
    "# Gradient Boosting Features\n",
    "features5 = ['Pyth', 'AdjustO', 'Luck','BlockAvg','AssistAvg']\n",
    "#ADA Boost\n",
    "features6 = ['Pyth','Luck','AdjustO','AdjustD','FieldGoalAvg']\n",
    "\n",
    "Submission = pd.read_csv(\"2016Submission.csv\")\n",
    "submission_test = Submission[features2]\n",
    "\n",
    "X = df[features2]\n",
    "y = df.WinLoss\n",
    "\n",
    "clf1 = LogisticRegression(random_state=1)\n",
    "clf2 = RandomForestClassifier(random_state=1)\n",
    "clf3 = GaussianNB()\n",
    "\n",
    "eclf = VotingClassifier(estimators=[('lr', clf1), ('rf', clf2), ('gnb', clf3)], voting='hard', weights=None)\n",
    "\n",
    "for clf, label in zip([clf1, clf2, clf3, eclf], ['Logistic Regression', 'Random Forest', 'naive Bayes', 'Ensemble']):\n",
    "     scores = cross_validation.cross_val_score(clf, X, y, cv=5, scoring='accuracy')\n",
    "     print(\"Accuracy: %0.2f (+/- %0.2f) [%s]\" % (scores.mean(), scores.std(), label))\n",
    "\n",
    "#Accuracy: 0.90 (+/- 0.05) [Logistic Regression]\n",
    "#Accuracy: 0.93 (+/- 0.05) [Random Forest]\n",
    "#Accuracy: 0.91 (+/- 0.04) [naive Bayes]\n",
    "#Accuracy: 0.95 (+/- 0.05) [Ensemble]"
   ]
  },
  {
   "cell_type": "code",
   "execution_count": 2,
   "metadata": {
    "collapsed": true
   },
   "outputs": [],
   "source": [
    "def score_model(model, parameters, X_train, y_train, X_test, y_test):\n",
    "    m = model()\n",
    "    m = GridSearchCV(m, parameters, cv= 3)\n",
    "    m.fit(X_train, y_train)\n",
    "    score = m.score(X_test, y_test)\n",
    "    return m.best_estimator_, score, m.best_params_\n",
    "def score_voting_model(model, parameters, X_train, y_train, X_test, y_test):\n",
    "    m = model(estimators=[('lr', clf1), ('rf', clf2), ('gnb', clf3)])\n",
    "    m = GridSearchCV(m, parameters, cv= 3)\n",
    "    m.fit(X_train, y_train)\n",
    "    score = m.score(X_test, y_test)\n",
    "    return m.best_estimator_, score, m.best_params_"
   ]
  },
  {
   "cell_type": "code",
   "execution_count": 3,
   "metadata": {
    "collapsed": false
   },
   "outputs": [],
   "source": [
    "def plot_confusion_matrix(cm, title='Confusion matrix', cmap=plt.cm.Blues):\n",
    "    print(cm)\n",
    "    plt.imshow(cm, interpolation='nearest', cmap=cmap)\n",
    "    plt.title(title)\n",
    "    plt.colorbar()\n",
    "    tick_marks = np.arange(2)\n",
    "    plt.xticks(tick_marks, ['Loss', 'Win'], rotation=45)\n",
    "    plt.yticks(tick_marks, ['Loss', 'Win'])\n",
    "    plt.tight_layout()\n",
    "    plt.ylabel('True label')\n",
    "    plt.xlabel('Predicted label')\n",
    "    plt.show()\n",
    "\n",
    "\n",
    "def accuracies(cm):\n",
    "    totals = np.sum(cm, 1)\n",
    "    no_acc = cm[0, 0] / totals[0]\n",
    "    yes_acc = cm[1, 1] / totals[1]\n",
    "    print(\"Loss Acc: {0}\".format(no_acc))\n",
    "    print(\"Win Acc: {0}\".format(yes_acc))\n",
    "    print(\"Avg Acc: {0}\".format((no_acc + yes_acc)/2))\n",
    "    \n",
    "\n",
    "def run_model(model):\n",
    "    clf = model\n",
    "    clf.fit(X_train, y_train)\n",
    "    predictions = clf.predict(X_test)\n",
    "    cm = confusion_matrix(y_test, predictions)\n",
    "    plot_confusion_matrix(cm)\n",
    "    accuracies(cm)"
   ]
  },
  {
   "cell_type": "markdown",
   "metadata": {},
   "source": [
    "# Logistic Regression"
   ]
  },
  {
   "cell_type": "code",
   "execution_count": 4,
   "metadata": {
    "collapsed": true
   },
   "outputs": [],
   "source": [
    "X_train, X_test, y_train, y_test = train_test_split(X, y, test_size = 0.33, random_state = 1)"
   ]
  },
  {
   "cell_type": "code",
   "execution_count": 5,
   "metadata": {
    "collapsed": false
   },
   "outputs": [
    {
     "name": "stdout",
     "output_type": "stream",
     "text": [
      "Logistic Regression Score: 0.793851717902\n",
      "Logistic Regression Parameters: {'penalty': 'l2', 'solver': 'liblinear', 'C': 0.1}\n",
      "[[239  56]\n",
      " [ 58 200]]\n"
     ]
    },
    {
     "data": {
      "image/png": "[encoded data removed]",
      "text/plain": [
       "<matplotlib.figure.Figure at 0x2dc399d9908>"
      ]
     },
     "metadata": {},
     "output_type": "display_data"
    },
    {
     "name": "stdout",
     "output_type": "stream",
     "text": [
      "Loss Acc: 0.8101694915254237\n",
      "Win Acc: 0.7751937984496124\n",
      "Avg Acc: 0.792681644987518\n"
     ]
    }
   ],
   "source": [
    "param_clf1 = {'penalty':['l1', 'l2'], 'C':[0.001, 0.01, 0.1, 1, 10, 100, 1000], 'solver':['liblinear']}\n",
    "clf1, clf1_s, param_clf1 = score_model(LogisticRegression, param_clf1, X_train, y_train, X_test, y_test)\n",
    "print('Logistic Regression Score:', clf1_s)\n",
    "print('Logistic Regression Parameters:', param_clf1)\n",
    "run_model(clf1)"
   ]
  },
  {
   "cell_type": "code",
   "execution_count": 6,
   "metadata": {
    "collapsed": false
   },
   "outputs": [],
   "source": [
    "predictions = clf1.predict_proba(submission_test)\n",
    "Submission.Pred = predictions[:,1]\n",
    "LogisticRegressionSubmission = Submission[['Id','Pred']].sort_values(by = 'Id')\n",
    "LogisticRegressionSubmission.to_csv(\"LogisticRegressionSubmission2.csv\",index = False)"
   ]
  },
  {
   "cell_type": "markdown",
   "metadata": {},
   "source": [
    "# Random Forest"
   ]
  },
  {
   "cell_type": "code",
   "execution_count": 7,
   "metadata": {
    "collapsed": false
   },
   "outputs": [
    {
     "name": "stdout",
     "output_type": "stream",
     "text": [
      "Random Forest Score: 0.759493670886\n",
      "Random Forest Parameters: {'max_features': 'auto', 'n_estimators': 500}\n",
      "[[227  68]\n",
      " [ 67 191]]\n"
     ]
    },
    {
     "data": {
      "image/png": "[encoded data removed]",
      "text/plain": [
       "<matplotlib.figure.Figure at 0x2dc367a6358>"
      ]
     },
     "metadata": {},
     "output_type": "display_data"
    },
    {
     "name": "stdout",
     "output_type": "stream",
     "text": [
      "Loss Acc: 0.7694915254237288\n",
      "Win Acc: 0.7403100775193798\n",
      "Avg Acc: 0.7549008014715544\n"
     ]
    }
   ],
   "source": [
    "#p = {'n_estimators':[10, 50, 100, 300, 500, 1000,1500], 'max_features': [ None, 'auto', 'sqrt', 'log2']}\n",
    "p = {'n_estimators':[10, 50, 100, 300, 500, 1000], 'max_features': [ None, 'auto', 'sqrt', 'log2']}\n",
    "clf2, clf2_s, param_clf2 = score_model(RandomForestClassifier, p, X_train, y_train, X_test, y_test)\n",
    "\n",
    "print('Random Forest Score:', clf2_s)\n",
    "print('Random Forest Parameters:', param_clf2)\n",
    "run_model(clf2)"
   ]
  },
  {
   "cell_type": "code",
   "execution_count": 8,
   "metadata": {
    "collapsed": true
   },
   "outputs": [],
   "source": [
    "predictions = clf2.predict_proba(submission_test)\n",
    "Submission.Pred = predictions[:,1]\n",
    "RandomForestSubmission = Submission[['Id','Pred']].sort_values(by = 'Id')\n",
    "RandomForestSubmission.to_csv(\"RandomForestSubmission2.csv\",index = False)"
   ]
  },
  {
   "cell_type": "markdown",
   "metadata": {},
   "source": [
    "# Extremely Randomized Trees"
   ]
  },
  {
   "cell_type": "code",
   "execution_count": 9,
   "metadata": {
    "collapsed": false
   },
   "outputs": [
    {
     "name": "stdout",
     "output_type": "stream",
     "text": [
      "Random Forest Score: 0.755877034358\n",
      "Random Forest Parameters: {'max_features': 'sqrt', 'n_estimators': 10}\n"
     ]
    }
   ],
   "source": [
    "p = {'n_estimators':[10, 50, 100], 'max_features': ['sqrt']}\n",
    "m_RF, RF_s, param_RF = score_model(ExtraTreesClassifier, p, X_train, y_train, X_test, y_test)\n",
    "\n",
    "print('Random Forest Score:', RF_s)\n",
    "print('Random Forest Parameters:', param_RF)"
   ]
  },
  {
   "cell_type": "code",
   "execution_count": 10,
   "metadata": {
    "collapsed": false
   },
   "outputs": [
    {
     "name": "stdout",
     "output_type": "stream",
     "text": [
      "[[237  58]\n",
      " [ 75 183]]\n"
     ]
    },
    {
     "data": {
      "image/png": "[encoded data removed]",
      "text/plain": [
       "<matplotlib.figure.Figure at 0x2dc399f6668>"
      ]
     },
     "metadata": {},
     "output_type": "display_data"
    },
    {
     "name": "stdout",
     "output_type": "stream",
     "text": [
      "Loss Acc: 0.8033898305084746\n",
      "Win Acc: 0.7093023255813954\n",
      "Avg Acc: 0.7563460780449349\n"
     ]
    }
   ],
   "source": [
    "run_model(m_RF)"
   ]
  },
  {
   "cell_type": "code",
   "execution_count": 11,
   "metadata": {
    "collapsed": false
   },
   "outputs": [],
   "source": [
    "predictions = m_RF.predict_proba(submission_test)\n",
    "Submission.Pred = predictions[:,1]\n",
    "ExtremelyRandomForestSubmission = Submission[['Id','Pred']].sort_values(by = 'Id')\n",
    "ExtremelyRandomForestSubmission.to_csv(\"ExtremelyRandomForestSubmission2.csv\",index = False)"
   ]
  },
  {
   "cell_type": "markdown",
   "metadata": {},
   "source": [
    "# Naive Bayes"
   ]
  },
  {
   "cell_type": "code",
   "execution_count": 12,
   "metadata": {
    "collapsed": false
   },
   "outputs": [
    {
     "name": "stdout",
     "output_type": "stream",
     "text": [
      "[[241  54]\n",
      " [ 70 188]]\n"
     ]
    },
    {
     "data": {
      "image/png": "[encoded data removed]",
      "text/plain": [
       "<matplotlib.figure.Figure at 0x2dc3e75c2b0>"
      ]
     },
     "metadata": {},
     "output_type": "display_data"
    },
    {
     "name": "stdout",
     "output_type": "stream",
     "text": [
      "Loss Acc: 0.8169491525423729\n",
      "Win Acc: 0.7286821705426356\n",
      "Avg Acc: 0.7728156615425043\n"
     ]
    }
   ],
   "source": [
    "clf3.fit(X_train, y_train)\n",
    "clf3.score(X_test, y_test)\n",
    "run_model(clf3)"
   ]
  },
  {
   "cell_type": "code",
   "execution_count": 13,
   "metadata": {
    "collapsed": true
   },
   "outputs": [],
   "source": [
    "predictions = clf3.predict_proba(submission_test)\n",
    "Submission.Pred = predictions[:,1]\n",
    "NaiveBayesSubmission = Submission[['Id','Pred']].sort_values(by = 'Id')\n",
    "NaiveBayesSubmission.to_csv(\"NaiveBayesSubmission2.csv\",index = False)"
   ]
  },
  {
   "cell_type": "markdown",
   "metadata": {},
   "source": [
    "# Voting Classifier Ensemble"
   ]
  },
  {
   "cell_type": "code",
   "execution_count": 14,
   "metadata": {
    "collapsed": false
   },
   "outputs": [
    {
     "name": "stdout",
     "output_type": "stream",
     "text": [
      "[[240  55]\n",
      " [ 58 200]]\n"
     ]
    },
    {
     "data": {
      "image/png": "[encoded data removed]",
      "text/plain": [
       "<matplotlib.figure.Figure at 0x2dc40e581d0>"
      ]
     },
     "metadata": {},
     "output_type": "display_data"
    },
    {
     "name": "stdout",
     "output_type": "stream",
     "text": [
      "Loss Acc: 0.8135593220338984\n",
      "Win Acc: 0.7751937984496124\n",
      "Avg Acc: 0.7943765602417554\n",
      "Voting Classifier Score: 0.795660036166\n",
      "Voting Classifier Parameters: {'weights': [0.99, 0.05, 0.05], 'voting': 'soft'}\n"
     ]
    }
   ],
   "source": [
    "param_eclf = {'voting':['soft','hard'], 'weights': [[.99,.05,.05],[.79,.75,.79]]}\n",
    "eclf, eclf_s, param_eclf = score_voting_model(VotingClassifier, param_eclf, X_train, y_train, X_test, y_test)\n",
    "run_model(eclf)\n",
    "print('Voting Classifier Score:', eclf_s)\n",
    "print('Voting Classifier Parameters:', param_eclf)"
   ]
  },
  {
   "cell_type": "code",
   "execution_count": 15,
   "metadata": {
    "collapsed": true
   },
   "outputs": [],
   "source": [
    "predictions = clf3.predict_proba(submission_test)\n",
    "Submission.Pred = predictions[:,1]\n",
    "EnsembleSubmission = Submission[['Id','Pred']].sort_values(by = 'Id')\n",
    "EnsembleSubmission.to_csv(\"EnsembleSubmission2.csv\",index = False)"
   ]
  },
  {
   "cell_type": "markdown",
   "metadata": {},
   "source": [
    "# Gradient Boost"
   ]
  },
  {
   "cell_type": "code",
   "execution_count": 16,
   "metadata": {
    "collapsed": false
   },
   "outputs": [
    {
     "name": "stdout",
     "output_type": "stream",
     "text": [
      "MSE: 0.1662\n"
     ]
    }
   ],
   "source": [
    "from sklearn.ensemble import GradientBoostingRegressor\n",
    "from sklearn.metrics import mean_squared_error\n",
    "param_gclf = {'n_estimators':[10, 50, 100, 500, 1000], \n",
    "              'learning_rate':[0.01], \n",
    "              'loss':['ls',], \n",
    "              'random_state':[42]}\n",
    "\n",
    "X_train, X_test, y_train, y_test = train_test_split(X, y, test_size = 0.33, random_state = 42)\n",
    "\n",
    "gclf = GradientBoostingRegressor()\n",
    "grid = GridSearchCV(gclf, param_gclf, cv=3)\n",
    "grid.fit(X_train, y_train)\n",
    "gclf = grid.best_estimator_\n",
    "mse = mean_squared_error(y_test, gclf.predict(X_test))\n",
    "print(\"MSE: %.4f\" % mse)"
   ]
  },
  {
   "cell_type": "code",
   "execution_count": 17,
   "metadata": {
    "collapsed": false
   },
   "outputs": [
    {
     "name": "stdout",
     "output_type": "stream",
     "text": [
      "Gradient Score: 0.795660036166\n",
      "Gradient Parameters: {'loss': ['ls'], 'random_state': [42], 'learning_rate': [0.01], 'n_estimators': [10, 50, 100, 500, 1000]}\n"
     ]
    }
   ],
   "source": [
    "print('Gradient Score:', eclf_s)\n",
    "print('Gradient Parameters:', param_gclf)"
   ]
  },
  {
   "cell_type": "code",
   "execution_count": 18,
   "metadata": {
    "collapsed": false
   },
   "outputs": [],
   "source": [
    "#predictions = gclf.predict_proba(submission_test)\n",
    "#Submission.Pred = predictions[:,1]\n",
    "#GradientBoostingSubmission = Submission[['Id','Pred']].sort_values(by = 'Id')\n",
    "#GradientBoostingSubmission.to_csv(\"GradientBoostingSubmission2.csv\",index = False)"
   ]
  },
  {
   "cell_type": "markdown",
   "metadata": {},
   "source": [
    "# Using All Features\n",
    "#### Logistic Regression Place = 258\n",
    "#### Random Forest Place = 567\n",
    "#### Naive Bayes Place = 557\n",
    "#### Ensemble = 557"
   ]
  },
  {
   "cell_type": "markdown",
   "metadata": {},
   "source": [
    "# With Only Ken Pom:\n",
    "#### Logistic Regression = 133\n",
    "#### Random Forest = 584\n",
    "#### Naive Bayes = 489\n",
    "#### Ensemble = 489"
   ]
  },
  {
   "cell_type": "markdown",
   "metadata": {
    "collapsed": true
   },
   "source": [
    "# With Gridsearch and only Ken Pom"
   ]
  },
  {
   "cell_type": "markdown",
   "metadata": {},
   "source": [
    "# Ensemble Classifier"
   ]
  },
  {
   "cell_type": "code",
   "execution_count": 19,
   "metadata": {
    "collapsed": true
   },
   "outputs": [],
   "source": [
    "from sklearn.base import BaseEstimator\n",
    "from sklearn.base import ClassifierMixin\n",
    "import numpy as np\n",
    "import operator\n",
    "\n",
    "class EnsembleClassifier(BaseEstimator, ClassifierMixin):\n",
    "    \"\"\"\n",
    "    Ensemble classifier for scikit-learn estimators.\n",
    "\n",
    "    Parameters\n",
    "    ----------\n",
    "\n",
    "    clf : `iterable`\n",
    "      A list of scikit-learn classifier objects.\n",
    "    weights : `list` (default: `None`)\n",
    "      If `None`, the majority rule voting will be applied to the predicted class labels.\n",
    "        If a list of weights (`float` or `int`) is provided, the averaged raw probabilities (via `predict_proba`)\n",
    "        will be used to determine the most confident class label.\n",
    "\n",
    "    \"\"\"\n",
    "    def __init__(self, clfs, weights=None):\n",
    "        self.clfs = clfs\n",
    "        self.weights = weights\n",
    "\n",
    "    def fit(self, X, y):\n",
    "        \"\"\"\n",
    "        Fit the scikit-learn estimators.\n",
    "\n",
    "        Parameters\n",
    "        ----------\n",
    "\n",
    "        X : numpy array, shape = [n_samples, n_features]\n",
    "            Training data\n",
    "        y : list or numpy array, shape = [n_samples]\n",
    "            Class labels\n",
    "\n",
    "        \"\"\"\n",
    "        for clf in self.clfs:\n",
    "            clf.fit(X, y)\n",
    "\n",
    "    def predict(self, X):\n",
    "        \"\"\"\n",
    "        Parameters\n",
    "        ----------\n",
    "\n",
    "        X : numpy array, shape = [n_samples, n_features]\n",
    "\n",
    "        Returns\n",
    "        ----------\n",
    "\n",
    "        maj : list or numpy array, shape = [n_samples]\n",
    "            Predicted class labels by majority rule\n",
    "\n",
    "        \"\"\"\n",
    "\n",
    "        self.classes_ = np.asarray([clf.predict(X) for clf in self.clfs])\n",
    "        if self.weights:\n",
    "            avg = self.predict_proba(X)\n",
    "\n",
    "            maj = np.apply_along_axis(lambda x: max(enumerate(x), key=operator.itemgetter(1))[0], axis=1, arr=avg)\n",
    "\n",
    "        else:\n",
    "            maj = np.asarray([np.argmax(np.bincount(self.classes_[:,c])) for c in range(self.classes_.shape[1])])\n",
    "\n",
    "        return maj\n",
    "\n",
    "    def predict_proba(self, X):\n",
    "\n",
    "        \"\"\"\n",
    "        Parameters\n",
    "        ----------\n",
    "\n",
    "        X : numpy array, shape = [n_samples, n_features]\n",
    "\n",
    "        Returns\n",
    "        ----------\n",
    "\n",
    "        avg : list or numpy array, shape = [n_samples, n_probabilities]\n",
    "            Weighted average probability for each class per sample.\n",
    "\n",
    "        \"\"\"\n",
    "        self.probas_ = [clf.predict_proba(X) for clf in self.clfs]\n",
    "        avg = np.average(self.probas_, axis=0, weights=self.weights)\n",
    "\n",
    "        return avg"
   ]
  },
  {
   "cell_type": "code",
   "execution_count": 20,
   "metadata": {
    "collapsed": false
   },
   "outputs": [
    {
     "name": "stdout",
     "output_type": "stream",
     "text": [
      "Accuracy: 0.79 (+/- 0.03) [Logistic Regression]\n",
      "Accuracy: 0.77 (+/- 0.04) [Random Forest]\n",
      "Accuracy: 0.79 (+/- 0.03) [naive Bayes]\n",
      "Accuracy: 0.79 (+/- 0.03) [Ensemble]\n"
     ]
    }
   ],
   "source": [
    "np.random.seed(123)\n",
    "eclf = EnsembleClassifier(clfs=[clf1, clf2, clf3], weights=[1,1,1])\n",
    "\n",
    "for clf, label in zip([clf1, clf2, clf3, eclf], ['Logistic Regression', 'Random Forest', 'naive Bayes', 'Ensemble']):\n",
    "\n",
    "    scores = cross_validation.cross_val_score(clf, X, y, cv=5, scoring='accuracy')\n",
    "    print(\"Accuracy: %0.2f (+/- %0.2f) [%s]\" % (scores.mean(), scores.std(), label))"
   ]
  },
  {
   "cell_type": "code",
   "execution_count": null,
   "metadata": {
    "collapsed": true
   },
   "outputs": [],
   "source": []
  }
 ],
 "metadata": {
  "kernelspec": {
   "display_name": "Python 3",
   "language": "python",
   "name": "python3"
  },
  "language_info": {
   "codemirror_mode": {
    "name": "ipython",
    "version": 3
   },
   "file_extension": ".py",
   "mimetype": "text/x-python",
   "name": "python",
   "nbconvert_exporter": "python",
   "pygments_lexer": "ipython3",
   "version": "3.5.1"
  }
 },
 "nbformat": 4,
 "nbformat_minor": 0
}
