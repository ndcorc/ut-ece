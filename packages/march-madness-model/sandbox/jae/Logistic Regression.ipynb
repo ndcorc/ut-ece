{
 "cells": [
  {
   "cell_type": "code",
   "execution_count": 1,
   "metadata": {
    "collapsed": true
   },
   "outputs": [],
   "source": [
    "from sklearn.cross_validation import train_test_split\n",
    "from sklearn import linear_model\n",
    "from sklearn.grid_search import GridSearchCV\n",
    "\n",
    "import pandas as pd;\n",
    "import numpy as np;\n",
    "import matplotlib.pyplot as plt\n",
    "\n",
    "Seasons = pd.read_csv('Seasons.csv')\n",
    "Teams = pd.read_csv('Teams.csv')\n",
    "\n",
    "rs_Compact = pd.read_csv('RegularSeasonCompactResults.csv')\n",
    "rs_Detailed = pd.read_csv('RegularSeasonDetailedResults.csv')\n",
    "\n",
    "t_Compact = pd.read_csv('TourneyCompactResults.csv')\n",
    "t_Detailed = pd.read_csv('TourneyDetailedResults.csv')\n",
    "t_Slots = pd.read_csv('TourneySlots.csv')\n",
    "t_Seeds = pd.read_csv('TourneySeeds.csv')\n",
    "\n",
    "team_spellings = pd.read_csv('TeamSpellings.csv')\n",
    "massey = pd.read_csv('massey_ordinals.csv')\n",
    "ken_pom = pd.read_csv('kenpom.csv')\n",
    "MMM_2 = pd.read_csv('MMM_2.csv')\n",
    "Matchup = pd.read_csv('Matchup.csv')\n",
    "Matchup_KP = pd.read_csv('Matchup_KP.csv')"
   ]
  },
  {
   "cell_type": "code",
   "execution_count": 2,
   "metadata": {
    "collapsed": false
   },
   "outputs": [
    {
     "data": {
      "text/html": [
       "<div>\n",
       "<table border=\"1\" class=\"dataframe\">\n",
       "  <thead>\n",
       "    <tr style=\"text-align: right;\">\n",
       "      <th></th>\n",
       "      <th>Unnamed: 0</th>\n",
       "      <th>Year</th>\n",
       "      <th>Daynum</th>\n",
       "      <th>WinLoss</th>\n",
       "      <th>Wteam</th>\n",
       "      <th>Wscore</th>\n",
       "      <th>Lteam</th>\n",
       "      <th>Lscore</th>\n",
       "      <th>Wloc</th>\n",
       "      <th>Numot</th>\n",
       "      <th>...</th>\n",
       "      <th>Luck</th>\n",
       "      <th>Luck Rank</th>\n",
       "      <th>SOS Pyth</th>\n",
       "      <th>SOS Pyth Rank</th>\n",
       "      <th>SOS OppO</th>\n",
       "      <th>SOS OppO Rank</th>\n",
       "      <th>SOS OppD</th>\n",
       "      <th>SOS OppD Rank</th>\n",
       "      <th>NCSOS Pyth</th>\n",
       "      <th>NCSOS Pyth Rank</th>\n",
       "    </tr>\n",
       "  </thead>\n",
       "  <tbody>\n",
       "    <tr>\n",
       "      <th>0</th>\n",
       "      <td>0</td>\n",
       "      <td>2003</td>\n",
       "      <td>134</td>\n",
       "      <td>1</td>\n",
       "      <td>1421</td>\n",
       "      <td>92</td>\n",
       "      <td>1411</td>\n",
       "      <td>84</td>\n",
       "      <td>N</td>\n",
       "      <td>1</td>\n",
       "      <td>...</td>\n",
       "      <td>0.080</td>\n",
       "      <td>-68</td>\n",
       "      <td>0.1820</td>\n",
       "      <td>-81</td>\n",
       "      <td>4.3</td>\n",
       "      <td>-73</td>\n",
       "      <td>-3.3</td>\n",
       "      <td>-99</td>\n",
       "      <td>0.4070</td>\n",
       "      <td>-285</td>\n",
       "    </tr>\n",
       "    <tr>\n",
       "      <th>1</th>\n",
       "      <td>1</td>\n",
       "      <td>2003</td>\n",
       "      <td>137</td>\n",
       "      <td>0</td>\n",
       "      <td>1421</td>\n",
       "      <td>61</td>\n",
       "      <td>1400</td>\n",
       "      <td>82</td>\n",
       "      <td>N</td>\n",
       "      <td>0</td>\n",
       "      <td>...</td>\n",
       "      <td>0.127</td>\n",
       "      <td>-182</td>\n",
       "      <td>-0.3352</td>\n",
       "      <td>232</td>\n",
       "      <td>-6.7</td>\n",
       "      <td>231</td>\n",
       "      <td>5.7</td>\n",
       "      <td>207</td>\n",
       "      <td>0.1601</td>\n",
       "      <td>-79</td>\n",
       "    </tr>\n",
       "    <tr>\n",
       "      <th>2</th>\n",
       "      <td>2</td>\n",
       "      <td>2003</td>\n",
       "      <td>144</td>\n",
       "      <td>0</td>\n",
       "      <td>1163</td>\n",
       "      <td>78</td>\n",
       "      <td>1400</td>\n",
       "      <td>82</td>\n",
       "      <td>N</td>\n",
       "      <td>0</td>\n",
       "      <td>...</td>\n",
       "      <td>0.013</td>\n",
       "      <td>-33</td>\n",
       "      <td>-0.0248</td>\n",
       "      <td>16</td>\n",
       "      <td>0.7</td>\n",
       "      <td>-12</td>\n",
       "      <td>1.6</td>\n",
       "      <td>45</td>\n",
       "      <td>-0.1416</td>\n",
       "      <td>130</td>\n",
       "    </tr>\n",
       "    <tr>\n",
       "      <th>3</th>\n",
       "      <td>3</td>\n",
       "      <td>2003</td>\n",
       "      <td>146</td>\n",
       "      <td>0</td>\n",
       "      <td>1277</td>\n",
       "      <td>76</td>\n",
       "      <td>1400</td>\n",
       "      <td>85</td>\n",
       "      <td>N</td>\n",
       "      <td>0</td>\n",
       "      <td>...</td>\n",
       "      <td>-0.041</td>\n",
       "      <td>91</td>\n",
       "      <td>-0.0029</td>\n",
       "      <td>2</td>\n",
       "      <td>0.2</td>\n",
       "      <td>-4</td>\n",
       "      <td>0.3</td>\n",
       "      <td>5</td>\n",
       "      <td>0.0259</td>\n",
       "      <td>-22</td>\n",
       "    </tr>\n",
       "    <tr>\n",
       "      <th>4</th>\n",
       "      <td>4</td>\n",
       "      <td>2003</td>\n",
       "      <td>139</td>\n",
       "      <td>0</td>\n",
       "      <td>1345</td>\n",
       "      <td>67</td>\n",
       "      <td>1400</td>\n",
       "      <td>77</td>\n",
       "      <td>N</td>\n",
       "      <td>0</td>\n",
       "      <td>...</td>\n",
       "      <td>-0.004</td>\n",
       "      <td>10</td>\n",
       "      <td>-0.0085</td>\n",
       "      <td>6</td>\n",
       "      <td>0.7</td>\n",
       "      <td>-13</td>\n",
       "      <td>0.9</td>\n",
       "      <td>20</td>\n",
       "      <td>0.0486</td>\n",
       "      <td>-42</td>\n",
       "    </tr>\n",
       "  </tbody>\n",
       "</table>\n",
       "<p>5 rows × 113 columns</p>\n",
       "</div>"
      ],
      "text/plain": [
       "   Unnamed: 0  Year  Daynum  WinLoss  Wteam  Wscore  Lteam  Lscore Wloc  \\\n",
       "0           0  2003     134        1   1421      92   1411      84    N   \n",
       "1           1  2003     137        0   1421      61   1400      82    N   \n",
       "2           2  2003     144        0   1163      78   1400      82    N   \n",
       "3           3  2003     146        0   1277      76   1400      85    N   \n",
       "4           4  2003     139        0   1345      67   1400      77    N   \n",
       "\n",
       "   Numot       ...          Luck  Luck Rank  SOS Pyth  SOS Pyth Rank  \\\n",
       "0      1       ...         0.080        -68    0.1820            -81   \n",
       "1      0       ...         0.127       -182   -0.3352            232   \n",
       "2      0       ...         0.013        -33   -0.0248             16   \n",
       "3      0       ...        -0.041         91   -0.0029              2   \n",
       "4      0       ...        -0.004         10   -0.0085              6   \n",
       "\n",
       "   SOS OppO  SOS OppO Rank  SOS OppD  SOS OppD Rank  NCSOS Pyth  \\\n",
       "0       4.3            -73      -3.3            -99      0.4070   \n",
       "1      -6.7            231       5.7            207      0.1601   \n",
       "2       0.7            -12       1.6             45     -0.1416   \n",
       "3       0.2             -4       0.3              5      0.0259   \n",
       "4       0.7            -13       0.9             20      0.0486   \n",
       "\n",
       "   NCSOS Pyth Rank  \n",
       "0             -285  \n",
       "1              -79  \n",
       "2              130  \n",
       "3              -22  \n",
       "4              -42  \n",
       "\n",
       "[5 rows x 113 columns]"
      ]
     },
     "execution_count": 2,
     "metadata": {},
     "output_type": "execute_result"
    }
   ],
   "source": [
    "Matchup_KP.head()"
   ]
  },
  {
   "cell_type": "code",
   "execution_count": 3,
   "metadata": {
    "collapsed": true
   },
   "outputs": [],
   "source": [
    "def score_model(model, parameters, X_train, y_train, X_test, y_test):\n",
    "    m = model()\n",
    "    m = GridSearchCV(m, parameters, cv=3)\n",
    "    m.fit(X_train, y_train)\n",
    "    score = m.score(X_test, y_test)\n",
    "    return m, score, m.best_params_"
   ]
  },
  {
   "cell_type": "markdown",
   "metadata": {},
   "source": [
    "## Logistic Regression (Kaggle Pure Stats Only)"
   ]
  },
  {
   "cell_type": "code",
   "execution_count": 4,
   "metadata": {
    "collapsed": false
   },
   "outputs": [
    {
     "data": {
      "text/plain": [
       "0.67678571428571432"
      ]
     },
     "execution_count": 4,
     "metadata": {},
     "output_type": "execute_result"
    }
   ],
   "source": [
    "y = Matchup.WinLoss\n",
    "# features = ['WWins', 'WLosses', 'WFieldGoalAvg', 'WThreePointAvg', 'WFreeThrowAvg', 'WReboundAvg', 'WAssistAvg', 'WTurnOverAvg', 'WStealAvg', 'WBlockAvg', 'WPersonalFoulAvg', 'LWins', 'LLosses', 'LFieldGoalAvg', 'LThreePointAvg', 'LFreeThrowAvg', 'LReboundAvg', 'LAssistAvg', 'LTurnOverAvg', 'LStealAvg', 'LBlockAvg', 'LPersonalFoulAvg', 'AvgPointSpread', 'Wins', 'Losses', 'FieldGoalAvg', 'ThreePointAvg', 'FreeThrowAvg', 'ReboundAvg', 'AssistAvg', 'TurnOverAvg', 'StealAvg', 'BlockAvg', 'PersonalFoulAvg']\n",
    "features = ['Wins', 'Losses', 'FieldGoalAvg', 'ThreePointAvg', 'FreeThrowAvg', 'ReboundAvg', 'AssistAvg', 'TurnOverAvg', 'StealAvg', 'BlockAvg', 'PersonalFoulAvg']\n",
    "X = Matchup[features]\n",
    "\n",
    "X_train, X_test, y_train, y_test = train_test_split(X, y, test_size = 0.33, random_state = 42)\n",
    "\n",
    "model = linear_model.LogisticRegression()\n",
    "model.fit(X_train, y_train)\n",
    "model.score(X_test, y_test)\n"
   ]
  },
  {
   "cell_type": "code",
   "execution_count": 5,
   "metadata": {
    "collapsed": false
   },
   "outputs": [
    {
     "name": "stdout",
     "output_type": "stream",
     "text": [
      "('Logistic Regression Score: ', 0.6696428571428571)\n",
      "('Parameters', {'penalty': 'l1', 'C': 100, 'solver': 'liblinear'})\n"
     ]
    }
   ],
   "source": [
    "p = {'penalty':['l1', 'l2'], 'C':[0.001, 0.01, 0.1, 1, 10, 100, 1000], 'solver':['liblinear']}\n",
    "m, s, p = score_model(linear_model.LogisticRegression, p, X_train, y_train, X_test, y_test)\n",
    "print('Logistic Regression Score: ', s)\n",
    "print('Parameters', p)"
   ]
  },
  {
   "cell_type": "markdown",
   "metadata": {},
   "source": [
    "## Logistic Regression (Kaggle Pure Stats + Ken Pom)"
   ]
  },
  {
   "cell_type": "code",
   "execution_count": 6,
   "metadata": {
    "collapsed": false
   },
   "outputs": [
    {
     "data": {
      "text/plain": [
       "0.79566003616636527"
      ]
     },
     "execution_count": 6,
     "metadata": {},
     "output_type": "execute_result"
    }
   ],
   "source": [
    "y = Matchup_KP.WinLoss\n",
    "# features = ['WWins', 'WLosses', 'WFieldGoalAvg', 'WThreePointAvg', 'WFreeThrowAvg', 'WReboundAvg', 'WAssistAvg', 'WTurnOverAvg', 'WStealAvg', 'WBlockAvg', 'WPersonalFoulAvg', 'LWins', 'LLosses', 'LFieldGoalAvg', 'LThreePointAvg', 'LFreeThrowAvg', 'LReboundAvg', 'LAssistAvg', 'LTurnOverAvg', 'LStealAvg', 'LBlockAvg', 'LPersonalFoulAvg', 'AvgPointSpread', 'Wins', 'Losses', 'FieldGoalAvg', 'ThreePointAvg', 'FreeThrowAvg', 'ReboundAvg', 'AssistAvg', 'TurnOverAvg', 'StealAvg', 'BlockAvg', 'PersonalFoulAvg']\n",
    "features = ['FieldGoalAvg', 'ThreePointAvg', 'FreeThrowAvg', 'ReboundAvg', 'AssistAvg', 'TurnOverAvg', 'StealAvg', 'BlockAvg', 'PersonalFoulAvg', 'Pyth', 'Rank', 'AdjustO', 'AdjustO Rank', 'AdjustD', 'AdjustD Rank', 'AdjustT', 'AdjustT Rank', 'Luck', 'Luck Rank']\n",
    "X = Matchup_KP[features]\n",
    "\n",
    "X_train, X_test, y_train, y_test = train_test_split(X, y, test_size = 0.33, random_state = 42)\n",
    "\n",
    "model = linear_model.LogisticRegression()\n",
    "model.fit(X_train, y_train)\n",
    "model.score(X_test, y_test)"
   ]
  },
  {
   "cell_type": "code",
   "execution_count": 7,
   "metadata": {
    "collapsed": false
   },
   "outputs": [
    {
     "name": "stdout",
     "output_type": "stream",
     "text": [
      "('Logistic Regression Score: ', 0.80108499095840868)\n",
      "('Parameters', {'penalty': 'l2', 'C': 0.01, 'solver': 'liblinear'})\n"
     ]
    }
   ],
   "source": [
    "p = {'penalty':['l1', 'l2'], 'C':[0.001, 0.01, 0.1, 1, 10, 100, 1000], 'solver':['liblinear']}\n",
    "m, s, p = score_model(linear_model.LogisticRegression, p, X_train, y_train, X_test, y_test)\n",
    "print('Logistic Regression Score: ', s)\n",
    "print('Parameters', p)"
   ]
  },
  {
   "cell_type": "markdown",
   "metadata": {},
   "source": [
    "## Logistic Regression (Kaggle Pure Stats + Ken Pom - Ranks)"
   ]
  },
  {
   "cell_type": "code",
   "execution_count": 8,
   "metadata": {
    "collapsed": false
   },
   "outputs": [
    {
     "data": {
      "text/plain": [
       "0.75045207956600357"
      ]
     },
     "execution_count": 8,
     "metadata": {},
     "output_type": "execute_result"
    }
   ],
   "source": [
    "y = Matchup_KP.WinLoss\n",
    "# features = ['WWins', 'WLosses', 'WFieldGoalAvg', 'WThreePointAvg', 'WFreeThrowAvg', 'WReboundAvg', 'WAssistAvg', 'WTurnOverAvg', 'WStealAvg', 'WBlockAvg', 'WPersonalFoulAvg', 'LWins', 'LLosses', 'LFieldGoalAvg', 'LThreePointAvg', 'LFreeThrowAvg', 'LReboundAvg', 'LAssistAvg', 'LTurnOverAvg', 'LStealAvg', 'LBlockAvg', 'LPersonalFoulAvg', 'AvgPointSpread', 'Wins', 'Losses', 'FieldGoalAvg', 'ThreePointAvg', 'FreeThrowAvg', 'ReboundAvg', 'AssistAvg', 'TurnOverAvg', 'StealAvg', 'BlockAvg', 'PersonalFoulAvg']\n",
    "features = ['FieldGoalAvg', 'ThreePointAvg', 'FreeThrowAvg', 'ReboundAvg', 'AssistAvg', 'TurnOverAvg', 'StealAvg', 'BlockAvg', 'PersonalFoulAvg', 'Pyth', 'Rank', 'AdjustO', 'AdjustD', 'AdjustT', 'Luck']\n",
    "X = Matchup_KP[features]\n",
    "\n",
    "X_train, X_test, y_train, y_test = train_test_split(X, y, test_size = 0.33, random_state = 42)\n",
    "\n",
    "model = linear_model.LogisticRegression()\n",
    "model.fit(X_train, y_train)\n",
    "model.score(X_test, y_test)"
   ]
  },
  {
   "cell_type": "code",
   "execution_count": 9,
   "metadata": {
    "collapsed": false
   },
   "outputs": [
    {
     "name": "stdout",
     "output_type": "stream",
     "text": [
      "('Logistic Regression Score: ', 0.78119349005424954)\n",
      "('Parameters', {'penalty': 'l2', 'C': 10, 'solver': 'liblinear'})\n"
     ]
    }
   ],
   "source": [
    "p = {'penalty':['l1', 'l2'], 'C':[0.001, 0.01, 0.1, 1, 10, 100, 1000], 'solver':['liblinear']}\n",
    "m, s, p = score_model(linear_model.LogisticRegression, p, X_train, y_train, X_test, y_test)\n",
    "print('Logistic Regression Score: ', s)\n",
    "print('Parameters', p)"
   ]
  },
  {
   "cell_type": "markdown",
   "metadata": {},
   "source": [
    "## Logistic Regression (Ken Pom only)"
   ]
  },
  {
   "cell_type": "code",
   "execution_count": 10,
   "metadata": {
    "collapsed": false
   },
   "outputs": [
    {
     "data": {
      "text/plain": [
       "0.79023508137432186"
      ]
     },
     "execution_count": 10,
     "metadata": {},
     "output_type": "execute_result"
    }
   ],
   "source": [
    "y = Matchup_KP.WinLoss\n",
    "# features = ['WWins', 'WLosses', 'WFieldGoalAvg', 'WThreePointAvg', 'WFreeThrowAvg', 'WReboundAvg', 'WAssistAvg', 'WTurnOverAvg', 'WStealAvg', 'WBlockAvg', 'WPersonalFoulAvg', 'LWins', 'LLosses', 'LFieldGoalAvg', 'LThreePointAvg', 'LFreeThrowAvg', 'LReboundAvg', 'LAssistAvg', 'LTurnOverAvg', 'LStealAvg', 'LBlockAvg', 'LPersonalFoulAvg', 'AvgPointSpread', 'Wins', 'Losses', 'FieldGoalAvg', 'ThreePointAvg', 'FreeThrowAvg', 'ReboundAvg', 'AssistAvg', 'TurnOverAvg', 'StealAvg', 'BlockAvg', 'PersonalFoulAvg']\n",
    "features = ['Pyth', 'Rank', 'AdjustO', 'AdjustO Rank', 'AdjustD', 'AdjustD Rank', 'AdjustT', 'AdjustT Rank', 'Luck', 'Luck Rank']\n",
    "X = Matchup_KP[features]\n",
    "\n",
    "X_train, X_test, y_train, y_test = train_test_split(X, y, test_size = 0.33, random_state = 42)\n",
    "\n",
    "model = linear_model.LogisticRegression()\n",
    "model.fit(X_train, y_train)\n",
    "model.score(X_test, y_test)"
   ]
  },
  {
   "cell_type": "code",
   "execution_count": 11,
   "metadata": {
    "collapsed": false
   },
   "outputs": [
    {
     "name": "stdout",
     "output_type": "stream",
     "text": [
      "('Logistic Regression Score: ', 0.79204339963833637)\n",
      "('Parameters', {'penalty': 'l2', 'C': 0.01, 'solver': 'liblinear'})\n"
     ]
    }
   ],
   "source": [
    "p = {'penalty':['l1', 'l2'], 'C':[0.001, 0.01, 0.1, 1, 10, 100, 1000], 'solver':['liblinear']}\n",
    "m, s, p = score_model(linear_model.LogisticRegression, p, X_train, y_train, X_test, y_test)\n",
    "print('Logistic Regression Score: ', s)\n",
    "print('Parameters', p)"
   ]
  },
  {
   "cell_type": "code",
   "execution_count": 12,
   "metadata": {
    "collapsed": false
   },
   "outputs": [
    {
     "data": {
      "text/plain": [
       "array([[ 0.3686818 ,  0.6313182 ],\n",
       "       [ 0.61241234,  0.38758766],\n",
       "       [ 0.17089445,  0.82910555],\n",
       "       ..., \n",
       "       [ 0.60717867,  0.39282133],\n",
       "       [ 0.41157886,  0.58842114],\n",
       "       [ 0.06111787,  0.93888213]])"
      ]
     },
     "execution_count": 12,
     "metadata": {},
     "output_type": "execute_result"
    }
   ],
   "source": [
    "m.predict_proba(X_test)"
   ]
  },
  {
   "cell_type": "markdown",
   "metadata": {},
   "source": [
    "## Lasso (on best Logistic Regression Model)"
   ]
  },
  {
   "cell_type": "code",
   "execution_count": null,
   "metadata": {
    "collapsed": true
   },
   "outputs": [],
   "source": []
  },
  {
   "cell_type": "markdown",
   "metadata": {},
   "source": [
    "## Regressor Ensemble w/Gradient Boosting"
   ]
  },
  {
   "cell_type": "code",
   "execution_count": 13,
   "metadata": {
    "collapsed": false
   },
   "outputs": [
    {
     "name": "stdout",
     "output_type": "stream",
     "text": [
      "MSE: 0.1685\n"
     ]
    }
   ],
   "source": [
    "from sklearn import ensemble\n",
    "from sklearn.metrics import mean_squared_error\n",
    "\n",
    "###############################################################################\n",
    "# Fit regression model\n",
    "params = {'n_estimators': 500, 'max_depth': 4, 'min_samples_split': 1,\n",
    "          'learning_rate': 0.01, 'loss': 'ls'}\n",
    "model = ensemble.GradientBoostingRegressor(**params)\n",
    "\n",
    "model.fit(X_train, y_train)\n",
    "mse = mean_squared_error(y_test, model.predict(X_test))\n",
    "print(\"MSE: %.4f\" % mse)\n",
    "\n",
    "###############################################################################\n",
    "# Plot feature importance\n",
    "feature_importance = model.feature_importances_\n",
    "# make importances relative to max importance\n",
    "feature_importance = 100.0 * (feature_importance / feature_importance.max())\n",
    "sorted_idx = np.argsort(feature_importance)\n",
    "pos = np.arange(sorted_idx.shape[0]) + .5\n",
    "plt.figure()\n",
    "plt.subplot(1,1,1)\n",
    "plt.barh(pos, feature_importance[sorted_idx], align='center')\n",
    "# plt.yticks(pos, features[sorted_idx])\n",
    "plt.yticks(pos, [x for (y, x) in sorted(zip(sorted_idx, features))])\n",
    "plt.xlabel('Relative Importance')\n",
    "plt.title('Variable Importance')\n",
    "plt.show()"
   ]
  },
  {
   "cell_type": "code",
   "execution_count": null,
   "metadata": {
    "collapsed": true
   },
   "outputs": [],
   "source": []
  }
 ],
 "metadata": {
  "kernelspec": {
   "display_name": "Python 2",
   "language": "python",
   "name": "python2"
  },
  "language_info": {
   "codemirror_mode": {
    "name": "ipython",
    "version": 2
   },
   "file_extension": ".py",
   "mimetype": "text/x-python",
   "name": "python",
   "nbconvert_exporter": "python",
   "pygments_lexer": "ipython2",
   "version": "2.7.11"
  }
 },
 "nbformat": 4,
 "nbformat_minor": 0
}
