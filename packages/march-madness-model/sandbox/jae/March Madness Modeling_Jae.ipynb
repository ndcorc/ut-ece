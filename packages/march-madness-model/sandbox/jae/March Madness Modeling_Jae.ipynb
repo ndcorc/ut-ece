{
 "cells": [
  {
   "cell_type": "code",
   "execution_count": 8,
   "metadata": {
    "collapsed": false
   },
   "outputs": [],
   "source": [
    "import pandas as pd;\n",
    "import numpy as np;\n",
    "import matplotlib.pyplot as plt\n",
    "\n",
    "Seasons = pd.read_csv('Seasons.csv')\n",
    "Teams = pd.read_csv('Teams.csv')\n",
    "\n",
    "rs_Compact = pd.read_csv('RegularSeasonCompactResults.csv')\n",
    "rs_Detailed = pd.read_csv('RegularSeasonDetailedResults.csv')\n",
    "\n",
    "t_Compact = pd.read_csv('TourneyCompactResults.csv')\n",
    "t_Detailed = pd.read_csv('TourneyDetailedResults.csv')\n",
    "t_Slots = pd.read_csv('TourneySlots.csv')\n",
    "t_Seeds = pd.read_csv('TourneySeeds.csv')\n",
    "\n",
    "team_spellings = pd.read_csv('TeamSpellings.csv')\n",
    "massey = pd.read_csv('massey_ordinals.csv')\n",
    "ken_pom = pd.read_csv('kenpom.csv')\n",
    "MMM_refined = pd.read_csv('MMM_refined_dataset.csv')"
   ]
  },
  {
   "cell_type": "code",
   "execution_count": 2,
   "metadata": {
    "collapsed": false
   },
   "outputs": [],
   "source": [
    "# create csv with 'MMM refined dataset' + 'kenpom.csv' using 'TeamSpelling.csv' to map\n",
    "\n",
    "# slice out 2002 information for kenpom\n",
    "ken_pom = ken_pom[ken_pom.Year != 2002]\n",
    "\n",
    "#team_spellings.head()\n",
    "#team_spellings.describe()\n",
    "#MMM_refined.head()\n",
    "#ken_pom.tail()\n",
    "#len(ken_pom.index)\n",
    "#print len(team_spellings.name_spelling)"
   ]
  },
  {
   "cell_type": "code",
   "execution_count": 9,
   "metadata": {
    "collapsed": false
   },
   "outputs": [
    {
     "ename": "KeyError",
     "evalue": "\"['Year' 'Rank' 'Team' 'Conference' 'Wins' 'Losses' 'Seed' 'Pyth' 'AdjustO'\\n 'AdjustO Rank' 'AdjustD' 'AdjustD Rank' 'AdjustT' 'AdjustT Rank' 'Luck'\\n 'Luck Rank' 'SOS Pyth' 'SOS Pyth Rank' 'SOS OppO' 'SOS OppO Rank'\\n 'SOS OppD' 'SOS OppD Rank' 'NCSOS Pyth' 'NCSOS Pyth Rank' 'team_id'] not in index\"",
     "output_type": "error",
     "traceback": [
      "\u001b[0;31m---------------------------------------------------------------------------\u001b[0m",
      "\u001b[0;31mKeyError\u001b[0m                                  Traceback (most recent call last)",
      "\u001b[0;32m<ipython-input-9-54f283f38489>\u001b[0m in \u001b[0;36m<module>\u001b[0;34m()\u001b[0m\n\u001b[1;32m     13\u001b[0m \u001b[0;34m\u001b[0m\u001b[0m\n\u001b[1;32m     14\u001b[0m         \u001b[0;32mif\u001b[0m \u001b[0msp_row\u001b[0m\u001b[0;34m[\u001b[0m\u001b[0;34m'name_spelling'\u001b[0m\u001b[0;34m]\u001b[0m\u001b[0;34m.\u001b[0m\u001b[0mlower\u001b[0m\u001b[0;34m(\u001b[0m\u001b[0;34m)\u001b[0m \u001b[0;34m==\u001b[0m \u001b[0mk_row\u001b[0m\u001b[0;34m[\u001b[0m\u001b[0;34m'Team'\u001b[0m\u001b[0;34m]\u001b[0m\u001b[0;34m.\u001b[0m\u001b[0mlower\u001b[0m\u001b[0;34m(\u001b[0m\u001b[0;34m)\u001b[0m\u001b[0;34m:\u001b[0m\u001b[0;34m\u001b[0m\u001b[0m\n\u001b[0;32m---> 15\u001b[0;31m                 \u001b[0mken_pom\u001b[0m\u001b[0;34m.\u001b[0m\u001b[0mat\u001b[0m\u001b[0;34m[\u001b[0m\u001b[0mk_row\u001b[0m\u001b[0;34m.\u001b[0m\u001b[0mindex\u001b[0m\u001b[0;34m,\u001b[0m \u001b[0;34m'team_id'\u001b[0m\u001b[0;34m]\u001b[0m \u001b[0;34m=\u001b[0m \u001b[0msp_row\u001b[0m\u001b[0;34m[\u001b[0m\u001b[0;34m'team_id'\u001b[0m\u001b[0;34m]\u001b[0m\u001b[0;34m\u001b[0m\u001b[0m\n\u001b[0m\u001b[1;32m     16\u001b[0m \u001b[0;34m\u001b[0m\u001b[0m\n\u001b[1;32m     17\u001b[0m     \u001b[0;32mif\u001b[0m \u001b[0mk_row\u001b[0m\u001b[0;34m[\u001b[0m\u001b[0;34m'Year'\u001b[0m\u001b[0;34m]\u001b[0m \u001b[0;34m==\u001b[0m \u001b[0;36m2004\u001b[0m\u001b[0;34m:\u001b[0m\u001b[0;34m\u001b[0m\u001b[0m\n",
      "\u001b[0;32m/Users/jaeyong/anaconda/lib/python2.7/site-packages/pandas/core/indexing.pyc\u001b[0m in \u001b[0;36m__setitem__\u001b[0;34m(self, key, value)\u001b[0m\n\u001b[1;32m   1524\u001b[0m         \u001b[0mkey\u001b[0m \u001b[0;34m=\u001b[0m \u001b[0mlist\u001b[0m\u001b[0;34m(\u001b[0m\u001b[0mself\u001b[0m\u001b[0;34m.\u001b[0m\u001b[0m_convert_key\u001b[0m\u001b[0;34m(\u001b[0m\u001b[0mkey\u001b[0m\u001b[0;34m,\u001b[0m \u001b[0mis_setter\u001b[0m\u001b[0;34m=\u001b[0m\u001b[0mTrue\u001b[0m\u001b[0;34m)\u001b[0m\u001b[0;34m)\u001b[0m\u001b[0;34m\u001b[0m\u001b[0m\n\u001b[1;32m   1525\u001b[0m         \u001b[0mkey\u001b[0m\u001b[0;34m.\u001b[0m\u001b[0mappend\u001b[0m\u001b[0;34m(\u001b[0m\u001b[0mvalue\u001b[0m\u001b[0;34m)\u001b[0m\u001b[0;34m\u001b[0m\u001b[0m\n\u001b[0;32m-> 1526\u001b[0;31m         \u001b[0mself\u001b[0m\u001b[0;34m.\u001b[0m\u001b[0mobj\u001b[0m\u001b[0;34m.\u001b[0m\u001b[0mset_value\u001b[0m\u001b[0;34m(\u001b[0m\u001b[0;34m*\u001b[0m\u001b[0mkey\u001b[0m\u001b[0;34m,\u001b[0m \u001b[0mtakeable\u001b[0m\u001b[0;34m=\u001b[0m\u001b[0mself\u001b[0m\u001b[0;34m.\u001b[0m\u001b[0m_takeable\u001b[0m\u001b[0;34m)\u001b[0m\u001b[0;34m\u001b[0m\u001b[0m\n\u001b[0m\u001b[1;32m   1527\u001b[0m \u001b[0;34m\u001b[0m\u001b[0m\n\u001b[1;32m   1528\u001b[0m \u001b[0;34m\u001b[0m\u001b[0m\n",
      "\u001b[0;32m/Users/jaeyong/anaconda/lib/python2.7/site-packages/pandas/core/frame.pyc\u001b[0m in \u001b[0;36mset_value\u001b[0;34m(self, index, col, value, takeable)\u001b[0m\n\u001b[1;32m   1688\u001b[0m \u001b[0;34m\u001b[0m\u001b[0m\n\u001b[1;32m   1689\u001b[0m             \u001b[0;31m# set using a non-recursive method & reset the cache\u001b[0m\u001b[0;34m\u001b[0m\u001b[0;34m\u001b[0m\u001b[0m\n\u001b[0;32m-> 1690\u001b[0;31m             \u001b[0mself\u001b[0m\u001b[0;34m.\u001b[0m\u001b[0mloc\u001b[0m\u001b[0;34m[\u001b[0m\u001b[0mindex\u001b[0m\u001b[0;34m,\u001b[0m \u001b[0mcol\u001b[0m\u001b[0;34m]\u001b[0m \u001b[0;34m=\u001b[0m \u001b[0mvalue\u001b[0m\u001b[0;34m\u001b[0m\u001b[0m\n\u001b[0m\u001b[1;32m   1691\u001b[0m             \u001b[0mself\u001b[0m\u001b[0;34m.\u001b[0m\u001b[0m_item_cache\u001b[0m\u001b[0;34m.\u001b[0m\u001b[0mpop\u001b[0m\u001b[0;34m(\u001b[0m\u001b[0mcol\u001b[0m\u001b[0;34m,\u001b[0m \u001b[0mNone\u001b[0m\u001b[0;34m)\u001b[0m\u001b[0;34m\u001b[0m\u001b[0m\n\u001b[1;32m   1692\u001b[0m \u001b[0;34m\u001b[0m\u001b[0m\n",
      "\u001b[0;32m/Users/jaeyong/anaconda/lib/python2.7/site-packages/pandas/core/indexing.pyc\u001b[0m in \u001b[0;36m__setitem__\u001b[0;34m(self, key, value)\u001b[0m\n\u001b[1;32m    112\u001b[0m \u001b[0;34m\u001b[0m\u001b[0m\n\u001b[1;32m    113\u001b[0m     \u001b[0;32mdef\u001b[0m \u001b[0m__setitem__\u001b[0m\u001b[0;34m(\u001b[0m\u001b[0mself\u001b[0m\u001b[0;34m,\u001b[0m \u001b[0mkey\u001b[0m\u001b[0;34m,\u001b[0m \u001b[0mvalue\u001b[0m\u001b[0;34m)\u001b[0m\u001b[0;34m:\u001b[0m\u001b[0;34m\u001b[0m\u001b[0m\n\u001b[0;32m--> 114\u001b[0;31m         \u001b[0mindexer\u001b[0m \u001b[0;34m=\u001b[0m \u001b[0mself\u001b[0m\u001b[0;34m.\u001b[0m\u001b[0m_get_setitem_indexer\u001b[0m\u001b[0;34m(\u001b[0m\u001b[0mkey\u001b[0m\u001b[0;34m)\u001b[0m\u001b[0;34m\u001b[0m\u001b[0m\n\u001b[0m\u001b[1;32m    115\u001b[0m         \u001b[0mself\u001b[0m\u001b[0;34m.\u001b[0m\u001b[0m_setitem_with_indexer\u001b[0m\u001b[0;34m(\u001b[0m\u001b[0mindexer\u001b[0m\u001b[0;34m,\u001b[0m \u001b[0mvalue\u001b[0m\u001b[0;34m)\u001b[0m\u001b[0;34m\u001b[0m\u001b[0m\n\u001b[1;32m    116\u001b[0m \u001b[0;34m\u001b[0m\u001b[0m\n",
      "\u001b[0;32m/Users/jaeyong/anaconda/lib/python2.7/site-packages/pandas/core/indexing.pyc\u001b[0m in \u001b[0;36m_get_setitem_indexer\u001b[0;34m(self, key)\u001b[0m\n\u001b[1;32m    104\u001b[0m \u001b[0;34m\u001b[0m\u001b[0m\n\u001b[1;32m    105\u001b[0m         \u001b[0;32mif\u001b[0m \u001b[0misinstance\u001b[0m\u001b[0;34m(\u001b[0m\u001b[0mkey\u001b[0m\u001b[0;34m,\u001b[0m \u001b[0mtuple\u001b[0m\u001b[0;34m)\u001b[0m \u001b[0;32mand\u001b[0m \u001b[0;32mnot\u001b[0m \u001b[0mself\u001b[0m\u001b[0;34m.\u001b[0m\u001b[0mndim\u001b[0m \u001b[0;34m<\u001b[0m \u001b[0mlen\u001b[0m\u001b[0;34m(\u001b[0m\u001b[0mkey\u001b[0m\u001b[0;34m)\u001b[0m\u001b[0;34m:\u001b[0m\u001b[0;34m\u001b[0m\u001b[0m\n\u001b[0;32m--> 106\u001b[0;31m             \u001b[0;32mreturn\u001b[0m \u001b[0mself\u001b[0m\u001b[0;34m.\u001b[0m\u001b[0m_convert_tuple\u001b[0m\u001b[0;34m(\u001b[0m\u001b[0mkey\u001b[0m\u001b[0;34m,\u001b[0m \u001b[0mis_setter\u001b[0m\u001b[0;34m=\u001b[0m\u001b[0mTrue\u001b[0m\u001b[0;34m)\u001b[0m\u001b[0;34m\u001b[0m\u001b[0m\n\u001b[0m\u001b[1;32m    107\u001b[0m \u001b[0;34m\u001b[0m\u001b[0m\n\u001b[1;32m    108\u001b[0m         \u001b[0;32mtry\u001b[0m\u001b[0;34m:\u001b[0m\u001b[0;34m\u001b[0m\u001b[0m\n",
      "\u001b[0;32m/Users/jaeyong/anaconda/lib/python2.7/site-packages/pandas/core/indexing.pyc\u001b[0m in \u001b[0;36m_convert_tuple\u001b[0;34m(self, key, is_setter)\u001b[0m\n\u001b[1;32m    153\u001b[0m         \u001b[0;32melse\u001b[0m\u001b[0;34m:\u001b[0m\u001b[0;34m\u001b[0m\u001b[0m\n\u001b[1;32m    154\u001b[0m             \u001b[0;32mfor\u001b[0m \u001b[0mi\u001b[0m\u001b[0;34m,\u001b[0m \u001b[0mk\u001b[0m \u001b[0;32min\u001b[0m \u001b[0menumerate\u001b[0m\u001b[0;34m(\u001b[0m\u001b[0mkey\u001b[0m\u001b[0;34m)\u001b[0m\u001b[0;34m:\u001b[0m\u001b[0;34m\u001b[0m\u001b[0m\n\u001b[0;32m--> 155\u001b[0;31m                 \u001b[0midx\u001b[0m \u001b[0;34m=\u001b[0m \u001b[0mself\u001b[0m\u001b[0;34m.\u001b[0m\u001b[0m_convert_to_indexer\u001b[0m\u001b[0;34m(\u001b[0m\u001b[0mk\u001b[0m\u001b[0;34m,\u001b[0m \u001b[0maxis\u001b[0m\u001b[0;34m=\u001b[0m\u001b[0mi\u001b[0m\u001b[0;34m,\u001b[0m \u001b[0mis_setter\u001b[0m\u001b[0;34m=\u001b[0m\u001b[0mis_setter\u001b[0m\u001b[0;34m)\u001b[0m\u001b[0;34m\u001b[0m\u001b[0m\n\u001b[0m\u001b[1;32m    156\u001b[0m                 \u001b[0mkeyidx\u001b[0m\u001b[0;34m.\u001b[0m\u001b[0mappend\u001b[0m\u001b[0;34m(\u001b[0m\u001b[0midx\u001b[0m\u001b[0;34m)\u001b[0m\u001b[0;34m\u001b[0m\u001b[0m\n\u001b[1;32m    157\u001b[0m         \u001b[0;32mreturn\u001b[0m \u001b[0mtuple\u001b[0m\u001b[0;34m(\u001b[0m\u001b[0mkeyidx\u001b[0m\u001b[0;34m)\u001b[0m\u001b[0;34m\u001b[0m\u001b[0m\n",
      "\u001b[0;32m/Users/jaeyong/anaconda/lib/python2.7/site-packages/pandas/core/indexing.pyc\u001b[0m in \u001b[0;36m_convert_to_indexer\u001b[0;34m(self, obj, axis, is_setter)\u001b[0m\n\u001b[1;32m   1110\u001b[0m                 \u001b[0mmask\u001b[0m \u001b[0;34m=\u001b[0m \u001b[0mcheck\u001b[0m \u001b[0;34m==\u001b[0m \u001b[0;34m-\u001b[0m\u001b[0;36m1\u001b[0m\u001b[0;34m\u001b[0m\u001b[0m\n\u001b[1;32m   1111\u001b[0m                 \u001b[0;32mif\u001b[0m \u001b[0mmask\u001b[0m\u001b[0;34m.\u001b[0m\u001b[0many\u001b[0m\u001b[0;34m(\u001b[0m\u001b[0;34m)\u001b[0m\u001b[0;34m:\u001b[0m\u001b[0;34m\u001b[0m\u001b[0m\n\u001b[0;32m-> 1112\u001b[0;31m                     \u001b[0;32mraise\u001b[0m \u001b[0mKeyError\u001b[0m\u001b[0;34m(\u001b[0m\u001b[0;34m'%s not in index'\u001b[0m \u001b[0;34m%\u001b[0m \u001b[0mobjarr\u001b[0m\u001b[0;34m[\u001b[0m\u001b[0mmask\u001b[0m\u001b[0;34m]\u001b[0m\u001b[0;34m)\u001b[0m\u001b[0;34m\u001b[0m\u001b[0m\n\u001b[0m\u001b[1;32m   1113\u001b[0m \u001b[0;34m\u001b[0m\u001b[0m\n\u001b[1;32m   1114\u001b[0m                 \u001b[0;32mreturn\u001b[0m \u001b[0m_values_from_object\u001b[0m\u001b[0;34m(\u001b[0m\u001b[0mindexer\u001b[0m\u001b[0;34m)\u001b[0m\u001b[0;34m\u001b[0m\u001b[0m\n",
      "\u001b[0;31mKeyError\u001b[0m: \"['Year' 'Rank' 'Team' 'Conference' 'Wins' 'Losses' 'Seed' 'Pyth' 'AdjustO'\\n 'AdjustO Rank' 'AdjustD' 'AdjustD Rank' 'AdjustT' 'AdjustT Rank' 'Luck'\\n 'Luck Rank' 'SOS Pyth' 'SOS Pyth Rank' 'SOS OppO' 'SOS OppO Rank'\\n 'SOS OppD' 'SOS OppD Rank' 'NCSOS Pyth' 'NCSOS Pyth Rank' 'team_id'] not in index\""
     ]
    }
   ],
   "source": [
    "# slice out 2002 information for kenpom\n",
    "ken_pom = ken_pom[ken_pom.Year != 2002]\n",
    "\n",
    "years = (2003, 2017)\n",
    "\n",
    "master_dataset = MMM_refined\n",
    "master_dataset['AdjustO'] = pd.Series(index= master_dataset.index)\n",
    "master_dataset['AdjustD'] = pd.Series(index= master_dataset.index)\n",
    "ken_pom['team_id'] = pd.Series(index= ken_pom.index)\n",
    "\n",
    "for index, k_row in ken_pom.iterrows():\n",
    "    for index, sp_row in team_spellings.iterrows():\n",
    "            \n",
    "        if sp_row['name_spelling'].lower() == k_row['Team'].lower():\n",
    "                ken_pom.at[k_row.index, 'team_id'] = sp_row['team_id']\n",
    "                \n",
    "    if k_row['Year'] == 2004:\n",
    "        print \"Season 2003 completed\"\n",
    "        print master_dataset[55:65]\n",
    "        break"
   ]
  },
  {
   "cell_type": "code",
   "execution_count": 7,
   "metadata": {
    "collapsed": false
   },
   "outputs": [
    {
     "name": "stdout",
     "output_type": "stream",
     "text": [
      "Season 2003 completed\n",
      "    Season  Team  AvgPointSpread  Wins  Losses  FieldGoalAvg  ThreePointAvg  \\\n",
      "55    2003  1272        8.689655    23       6      0.437931       0.348797   \n",
      "56    2003  1153        5.821429    17      11      0.403907       0.342491   \n",
      "57    2003  1211        8.870968    23       8      0.470041       0.375635   \n",
      "58    2003  1113        6.793103    18      11      0.478182       0.317808   \n",
      "59    2003  1141        6.103448    23       6      0.505236       0.380769   \n",
      "60    2003  1454        7.166667    23       7      0.473106       0.356269   \n",
      "61    2003  1443        6.677419    23       8      0.459896       0.366564   \n",
      "62    2003  1161        1.333333    17      13      0.506718       0.363112   \n",
      "63    2003  1429        5.866667    22       8      0.456354       0.332418   \n",
      "64    2003  1436        4.655172    19      10      0.444444       0.340757   \n",
      "\n",
      "    FreeThrowAvg  ReboundAvg  AssistAvg  TurnOverAvg  StealAvg  BlockAvg  \\\n",
      "55      0.653614    40.03448   16.62069     13.79310  7.379310  5.068966   \n",
      "56      0.689884    35.53571   12.28571     10.60714  5.178571  4.250000   \n",
      "57      0.721204    37.25806   15.74194     14.54839  6.806452  3.516129   \n",
      "58      0.669737    37.00000   15.55172     14.00000  5.206897  4.241379   \n",
      "59      0.765753    33.86207   15.62069     18.24138  7.103448  4.000000   \n",
      "60      0.690513    34.53333   17.10000     14.86667  8.800000  3.600000   \n",
      "61      0.662080    35.41935   14.19355     15.16129  7.064516  3.548387   \n",
      "62      0.700549    34.26667   15.50000     16.13333  5.333333  4.233333   \n",
      "63      0.718287    35.00000   13.90000     12.23333  5.066667  2.000000   \n",
      "64      0.657848    38.68966   14.20690     14.06897  6.862069  2.965517   \n",
      "\n",
      "    PersonalFoulAvg  AdjustO  AdjustD  \n",
      "55         18.75862    109.6      NaN  \n",
      "56         18.96429    103.0      NaN  \n",
      "57         18.64516    111.8      NaN  \n",
      "58         19.41379      NaN      NaN  \n",
      "59         20.96552      NaN      NaN  \n",
      "60         20.13333      NaN      NaN  \n",
      "61         18.45161      NaN      NaN  \n",
      "62         20.56667      NaN      NaN  \n",
      "63         16.10000      NaN      NaN  \n",
      "64         15.89655      NaN      NaN  \n"
     ]
    }
   ],
   "source": [
    "# slice out 2002 information for kenpom\n",
    "ken_pom = ken_pom[ken_pom.Year != 2002]\n",
    "years = (2003, 2017)\n",
    "\n",
    "master_dataset = MMM_refined\n",
    "master_dataset['AdjustO'] = pd.Series(index= master_dataset.index)\n",
    "master_dataset['AdjustD'] = pd.Series(index= master_dataset.index)\n",
    "\n",
    "# go to first team in ken_pom, search for team_id in team_spellings, insert value for team,season,value_type column  \n",
    "for index, k_row in ken_pom.iterrows():\n",
    "    for index, sp_row in team_spellings.iterrows():\n",
    "        \n",
    "        if sp_row['name_spelling'].lower() == k_row['Team'].lower():\n",
    "            # print sp_row['name_spelling'].lower() + \"... and ...\" + k_row['Team'].lower()\n",
    "            # not we are improperly using bitwise '&' instead of boolean logic 'and' to check\n",
    "            m_row = master_dataset[(master_dataset.Season == k_row['Year']) & (master_dataset.Team == sp_row['team_id'])]\n",
    "            master_dataset.at[m_row.index, 'AdjustO'] = k_row['AdjustO']\n",
    "\n",
    "    if k_row['Year'] == 2004:\n",
    "        print \"Season 2003 completed\"\n",
    "        print master_dataset[55:65]\n",
    "        break"
   ]
  },
  {
   "cell_type": "code",
   "execution_count": null,
   "metadata": {
    "collapsed": false
   },
   "outputs": [],
   "source": [
    "#for a in len(ken_pom.index):\n",
    "    #value = ken_pom[ken_pom.index[a], 'AdjustO']\n",
    "    #year = ken_pom[ken_pom.index[a], 'Season']\n",
    "#    name = ken_pom[ken_pom.index[a], 'Team']\n",
    "    \n",
    "#    for b in len(team_spellings.name_spelling):\n",
    "#        if team_spellings[b, 'name_spelling'].lower() == name:\n",
    "#            master_dataset[Season, team).AdjustO = ken_pom[ken_pom.index[a], 'AdjustO']"
   ]
  },
  {
   "cell_type": "code",
   "execution_count": null,
   "metadata": {
    "collapsed": false
   },
   "outputs": [],
   "source": [
    "#print master_dataset.ix[m_row.index]"
   ]
  }
 ],
 "metadata": {
  "kernelspec": {
   "display_name": "Python 2",
   "language": "python",
   "name": "python2"
  },
  "language_info": {
   "codemirror_mode": {
    "name": "ipython",
    "version": 2
   },
   "file_extension": ".py",
   "mimetype": "text/x-python",
   "name": "python",
   "nbconvert_exporter": "python",
   "pygments_lexer": "ipython2",
   "version": "2.7.11"
  }
 },
 "nbformat": 4,
 "nbformat_minor": 0
}
