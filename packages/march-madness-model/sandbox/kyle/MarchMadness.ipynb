{
 "cells": [
  {
   "cell_type": "code",
   "execution_count": null,
   "metadata": {
    "collapsed": true
   },
   "outputs": [],
   "source": [
    "Basic Algorithm: \n",
    "    Load data set from Kaggle\n",
    "    Preprocess data into single data set -> HOW THOUGH\n",
    "    Create test and train data sets from original set\n",
    "    Train basic regressive model\n",
    "    Create probablities for each team\n",
    "    \n",
    "Additions to this:\n",
    "    Use of either bagging ensemble or random forest to create better model\n",
    "    Addition of other data sets (referees or home/away)\n",
    "    Change weights on data sets\n",
    "    Preprocess irrelevant data"
   ]
  },
  {
   "cell_type": "code",
   "execution_count": 16,
   "metadata": {
    "collapsed": false
   },
   "outputs": [],
   "source": [
    "import pandas as pd;\n",
    "import numpy as np;\n",
    "\n",
    "massey = pd.read_csv('massey_ordinals.csv')\n",
    "rsCompact = pd.read_csv('RegularSeasonCompactResults.csv')\n",
    "rsDetailed = pd.read_csv('RegularSeasonDetailedResults.csv')\n",
    "Seasons = pd.read_csv('Seasons.csv')\n",
    "Teams = pd.read_csv('Teams.csv')\n",
    "tCompact = pd.read_csv('TourneyCompactResults.csv')\n",
    "tDetailed = pd.read_csv('TourneyDetailedResults.csv')\n",
    "tSlots = pd.read_csv('TourneySlots.csv')\n",
    "tSeeds = pd.read_csv('TourneySeeds.csv')\n"
   ]
  },
  {
   "cell_type": "code",
   "execution_count": 102,
   "metadata": {
    "collapsed": false
   },
   "outputs": [],
   "source": [
    "#rsDetailed.head()\n",
    "#tSlots.head()\n",
    "\n",
    "Seasons = [2003,2004,2005,2006,2007,2008,2009,2010,2011,2012,2013,2014,2015,2016]\n",
    "DataTotal = pd.DataFrame(columns=['Season','Team','AvgPointSpread','Wins',\n",
    "                                                      'Losses','FieldGoalAvg','ThreePointAvg',\n",
    "                                                      'FreeThrowAvg','ReboundAvg','AssistAvg',\n",
    "                                                      'TurnOverAvg','StealAvg','BlockAvg',\n",
    "                                                      'PersonalFoulAvg'])\n",
    "\n",
    "for Season in Seasons:\n",
    "    Seed03 = tSeeds.loc[tSeeds['Season'] == Season]\n",
    "    Teams03 = Seed03['Team']\n",
    "    rsData03 = rsDetailed.loc[rsDetailed['Season'] == Season]\n",
    "    Data2003 = pd.DataFrame(columns=['Season','Team','AvgPointSpread','Wins',\n",
    "                                                          'Losses','FieldGoalAvg','ThreePointAvg',\n",
    "                                                          'FreeThrowAvg','ReboundAvg','AssistAvg',\n",
    "                                                          'TurnOverAvg','StealAvg','BlockAvg',\n",
    "                                                          'PersonalFoulAvg'],index=Teams03.as_matrix())\n",
    "    #print(rsData03)\n",
    "    #print(Data2003)\n",
    "\n",
    "    for team in Teams03:\n",
    "        wteamdata = rsData03.loc[rsData03['Wteam'] == team]\n",
    "        lteamdata = rsData03.loc[rsData03['Lteam'] == team]\n",
    "        #teamdata = rsData03.loc[(rsData03['Wteam'] == team) | (rsData03['Lteam'] == team)]\n",
    "\n",
    "        tGames = len(wteamdata.index) + len(lteamdata.index)\n",
    "        tWins = len(wteamdata.index)\n",
    "        tLosses = len(lteamdata.index)\n",
    "        tfgm = wteamdata['Wfgm'].sum() + lteamdata['Lfgm'].sum()\n",
    "        tfga = wteamdata['Wfga'].sum() + lteamdata['Lfga'].sum()\n",
    "        tfgm3 = wteamdata['Wfgm3'].sum() + lteamdata['Lfgm3'].sum()\n",
    "        tfga3 = wteamdata['Wfga3'].sum() + lteamdata['Lfga3'].sum()\n",
    "        tftm = wteamdata['Wftm'].sum() + lteamdata['Lftm'].sum()\n",
    "        tfta = wteamdata['Wfta'].sum() + lteamdata['Lfta'].sum()\n",
    "        tor = wteamdata['Wor'].sum() + lteamdata['Lor'].sum()\n",
    "        tdr = wteamdata['Wdr'].sum() + lteamdata['Ldr'].sum()\n",
    "        tast = wteamdata['Wast'].sum() + lteamdata['Last'].sum()\n",
    "        tto = wteamdata['Wto'].sum() + lteamdata['Lto'].sum()\n",
    "        tstl = wteamdata['Wstl'].sum() + lteamdata['Lstl'].sum()\n",
    "        tblk = wteamdata['Wblk'].sum() + lteamdata['Lblk'].sum()\n",
    "        tpf = wteamdata['Wpf'].sum() + lteamdata['Lpf'].sum()\n",
    "        tScore = wteamdata['Wscore'].sum() + lteamdata['Lscore'].sum()\n",
    "        tAgainst = wteamdata['Lscore'].sum() + lteamdata['Wscore'].sum()\n",
    "\n",
    "\n",
    "        aps = (tScore - tAgainst)/tGames\n",
    "        fga = tfgm/tfga\n",
    "        fga3 = tfgm3/tfga3\n",
    "        fta = tftm/tfta\n",
    "        reb = (tor+tdr)/tGames\n",
    "        ast = tast/tGames\n",
    "        tover = tto/tGames\n",
    "        stl = tstl/tGames\n",
    "        blk = tblk/tGames\n",
    "        foul = tpf/tGames\n",
    "\n",
    "\n",
    "        Data2003.loc[team] = pd.Series({'Season':Season,'Team':team,'AvgPointSpread':aps,'Wins':tWins,\n",
    "                       'Losses':tLosses,'FieldGoalAvg':fga,'ThreePointAvg':fga3,\n",
    "                       'FreeThrowAvg':fta,'ReboundAvg':reb,'AssistAvg':ast,\n",
    "                       'TurnOverAvg':tover,'StealAvg':stl,'BlockAvg':blk,\n",
    "                       'PersonalFoulAvg':foul})\n",
    "    \n",
    "    #Data2003.head()\n",
    "    DataTotal = DataTotal.append(Data2003, ignore_index = True)\n",
    "\n",
    "DataTotal.head()\n",
    "DataTotal.to_csv('TotalData.csv')"
   ]
  },
  {
   "cell_type": "code",
   "execution_count": null,
   "metadata": {
    "collapsed": true
   },
   "outputs": [],
   "source": []
  },
  {
   "cell_type": "code",
   "execution_count": null,
   "metadata": {
    "collapsed": true
   },
   "outputs": [],
   "source": []
  }
 ],
 "metadata": {
  "kernelspec": {
   "display_name": "Python 3",
   "language": "python",
   "name": "python3"
  },
  "language_info": {
   "codemirror_mode": {
    "name": "ipython",
    "version": 3
   },
   "file_extension": ".py",
   "mimetype": "text/x-python",
   "name": "python",
   "nbconvert_exporter": "python",
   "pygments_lexer": "ipython3",
   "version": "3.4.2"
  }
 },
 "nbformat": 4,
 "nbformat_minor": 0
}
