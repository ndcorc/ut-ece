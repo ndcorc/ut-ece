{
 "cells": [
  {
   "cell_type": "markdown",
   "metadata": {},
   "source": [
    "# Home Advantage\n",
    "\n",
    "Investigate the effect of home field advantage on game stats and winners.\n",
    "\n",
    "[is home field advantage worth taking down a banner for](http://gutterstats.com/2015/11/10/is-home-field-advantage-worth-taking-down-a-banner-for/)\n",
    "\n",
    "[creating boxplots with matplotlib](http://blog.bharatbhole.com/creating-boxplots-with-matplotlib/)"
   ]
  },
  {
   "cell_type": "code",
   "execution_count": 1,
   "metadata": {
    "collapsed": false
   },
   "outputs": [],
   "source": [
    "import pandas\n",
    "import numpy as np\n",
    "import matplotlib as mpl\n",
    "import matplotlib.pyplot as plt\n",
    "import sklearn.preprocessing\n",
    "# %matplotlib inline\n",
    "\n",
    "datapath = '../../../data/'\n",
    "processed_datapath = datapath + 'processed/'\n",
    "\n",
    "def plot_boxplot(data_to_plot, features):\n",
    "    # Create a figure instance\n",
    "    fig = plt.figure(figsize=(16, 9))\n",
    "    # Create an axes instance\n",
    "    ax = fig.add_subplot(111)\n",
    "    # Create the boxplot\n",
    "    bp = ax.boxplot(data_to_plot)\n",
    "\n",
    "    ## add patch_artist=True option to ax.boxplot() \n",
    "    ## to get fill color\n",
    "    bp = ax.boxplot(data_to_plot, patch_artist=True)\n",
    "\n",
    "    ## change outline color, fill color and linewidth of the boxes\n",
    "    for box in bp['boxes']:\n",
    "        # change outline color\n",
    "        box.set( color='#7570b3', linewidth=2)\n",
    "        # change fill color\n",
    "        box.set( facecolor = '#1b9e77' )\n",
    "\n",
    "    ## change color and linewidth of the whiskers\n",
    "    for whisker in bp['whiskers']:\n",
    "        whisker.set(color='#7570b3', linewidth=2)\n",
    "\n",
    "    ## change color and linewidth of the caps\n",
    "    for cap in bp['caps']:\n",
    "        cap.set(color='#7570b3', linewidth=2)\n",
    "\n",
    "    ## change color and linewidth of the medians\n",
    "    for median in bp['medians']:\n",
    "        median.set(color='#b2df8a', linewidth=2)\n",
    "\n",
    "    ## change the style of fliers and their fill\n",
    "    for flier in bp['fliers']:\n",
    "        flier.set(marker='o', color='#e7298a', alpha=0.5)\n",
    "\n",
    "    ## Custom x-axis labels\n",
    "    ax.set_xticklabels(features)\n",
    "\n",
    "    ## Remove top axes and right axes ticks\n",
    "    ax.get_xaxis().tick_bottom()\n",
    "    ax.get_yaxis().tick_left()\n",
    "    \n",
    "    plt.axhline(y=0, xmin=0, xmax=1.0, linewidth=2, color = 'r')"
   ]
  },
  {
   "cell_type": "code",
   "execution_count": 2,
   "metadata": {
    "collapsed": true
   },
   "outputs": [],
   "source": [
    "KaggleMatchup = pandas.read_csv(processed_datapath + 'Matchup.csv')\n",
    "KenpomMatchup = pandas.read_csv(processed_datapath + 'Matchup_KP.csv')\n",
    "RegularSeasonDetailedResults = pandas.read_csv(datapath + 'RegularSeasonDetailedResults.csv')\n",
    "\n",
    "kaggle_features = ['FieldGoalAvg', 'ThreePointAvg', 'FreeThrowAvg', 'ReboundAvg', 'AssistAvg', \n",
    "                   'TurnOverAvg', 'StealAvg', 'BlockAvg', 'PersonalFoulAvg']\n",
    "features = ['fgm', 'fga', 'fgm3', 'fga3', 'ftm', 'fta', 'or', 'dr', 'ast', 'to', 'stl', 'blk', 'pf']\n",
    "Wfeatures = ['Wfgm', 'Wfga', 'Wfgm3', 'Wfga3', 'Wftm', 'Wfta', 'Wor', 'Wdr', 'Wast', 'Wto', 'Wstl', 'Wblk', 'Wpf']\n",
    "Lfeatures = ['Lfgm', 'Lfga', 'Lfgm3', 'Lfga3', 'Lftm', 'Lfta', 'Lor', 'Ldr', 'Last', 'Lto', 'Lstl', 'Lblk', 'Lpf']"
   ]
  },
  {
   "cell_type": "code",
   "execution_count": 3,
   "metadata": {
    "collapsed": false,
    "scrolled": false
   },
   "outputs": [
    {
     "name": "stdout",
     "output_type": "stream",
     "text": [
      "    fgm  fga  fgm3  fga3  ftm  fta  or  dr  ast  to  stl  blk  pf\n",
      "5     6   11     3     1   11   10   6   2    4 -10    5    0  -7\n",
      "6     4   14    -2    -7   12   11   4  -3    3 -13    1   -3  -3\n",
      "9     9   15     2     3    8    7   5  -1    1 -12   11   -3  -5\n",
      "10   24   17    11    14   -3   -4   7  14   13  -6    3    3   1\n",
      "13    7   -8     2    -1   12   15  -6   9    6  -4    4   19  -4\n"
     ]
    }
   ],
   "source": [
    "## combine these different collections into a list    \n",
    "X = RegularSeasonDetailedResults[RegularSeasonDetailedResults.Wloc == 'H']\n",
    "X = X[Wfeatures + Lfeatures]\n",
    "for f in features:\n",
    "    X[f] = X['W' + f] - X['L' + f]\n",
    "X = X[features]\n",
    "# data_to_plot = [sklearn.preprocessing.normalize(s.reshape(1, -1)) for (i, s) in X.iteritems()]\n",
    "data_to_plot = [s.tolist() for (i, s) in X.iteritems()]\n",
    "print(X.head())"
   ]
  },
  {
   "cell_type": "code",
   "execution_count": 4,
   "metadata": {
    "collapsed": false
   },
   "outputs": [
    {
     "data": {
      "text/plain": [
       "<matplotlib.text.Text at 0x2360344eac8>"
      ]
     },
     "execution_count": 4,
     "metadata": {},
     "output_type": "execute_result"
    }
   ],
   "source": [
    "plot_boxplot(data_to_plot, features)\n",
    "plt.title('Home Game Winner Stats')"
   ]
  },
  {
   "cell_type": "code",
   "execution_count": 5,
   "metadata": {
    "collapsed": false
   },
   "outputs": [
    {
     "name": "stdout",
     "output_type": "stream",
     "text": [
      "    fgm  fga  fgm3  fga3  ftm  fta  or  dr  ast  to  stl  blk  pf\n",
      "18    8    8     6     5   -8  -10  -4  -1    7  -8    6   -4   5\n",
      "39    5    8     3     5  -12  -17   0  -4    2  -1    2   -2  10\n",
      "42    7    9     4     6   -2   -6   0  -1    9   2   -2   -1   4\n",
      "47   -2   -7    -7   -17   13   19   8   8   -7   6   -8    4 -10\n",
      "48    2   12    -2    -3    3    5  12   0    4  -2    4   -8   3\n"
     ]
    }
   ],
   "source": [
    "X = RegularSeasonDetailedResults[RegularSeasonDetailedResults.Wloc == 'A']\n",
    "X = X[Wfeatures + Lfeatures]\n",
    "for f in features:\n",
    "    X[f] = X['W' + f] - X['L' + f]\n",
    "X = X[features]\n",
    "# data_to_plot = [sklearn.preprocessing.normalize(s.reshape(1, -1)) for (i, s) in X.iteritems()]\n",
    "data_to_plot = [s.tolist() for (i, s) in X.iteritems()]\n",
    "print(X.head())"
   ]
  },
  {
   "cell_type": "code",
   "execution_count": 6,
   "metadata": {
    "collapsed": false
   },
   "outputs": [
    {
     "data": {
      "text/plain": [
       "<matplotlib.text.Text at 0x2360234cb38>"
      ]
     },
     "execution_count": 6,
     "metadata": {},
     "output_type": "execute_result"
    }
   ],
   "source": [
    "plot_boxplot(data_to_plot, features)\n",
    "plt.title('Away Game Winner Stats')"
   ]
  },
  {
   "cell_type": "code",
   "execution_count": 7,
   "metadata": {
    "collapsed": true
   },
   "outputs": [],
   "source": [
    "plt.show()"
   ]
  },
  {
   "cell_type": "code",
   "execution_count": null,
   "metadata": {
    "collapsed": true
   },
   "outputs": [],
   "source": []
  }
 ],
 "metadata": {
  "kernelspec": {
   "display_name": "Python 3",
   "language": "python",
   "name": "python3"
  },
  "language_info": {
   "codemirror_mode": {
    "name": "ipython",
    "version": 3
   },
   "file_extension": ".py",
   "mimetype": "text/x-python",
   "name": "python",
   "nbconvert_exporter": "python",
   "pygments_lexer": "ipython3",
   "version": "3.5.1"
  }
 },
 "nbformat": 4,
 "nbformat_minor": 0
}
