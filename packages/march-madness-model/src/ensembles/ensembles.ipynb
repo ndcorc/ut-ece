{
 "cells": [
  {
   "cell_type": "markdown",
   "metadata": {},
   "source": [
    "# Submissions"
   ]
  },
  {
   "cell_type": "code",
   "execution_count": 1,
   "metadata": {
    "collapsed": false,
    "scrolled": true
   },
   "outputs": [],
   "source": [
    "from sklearn import datasets\n",
    "from sklearn import cross_validation\n",
    "from sklearn.linear_model import LogisticRegression\n",
    "from sklearn.naive_bayes import GaussianNB\n",
    "from sklearn.ensemble import RandomForestClassifier\n",
    "from sklearn.ensemble import VotingClassifier\n",
    "from sklearn.ensemble import ExtraTreesClassifier\n",
    "from sklearn.cross_validation import train_test_split\n",
    "from sklearn.grid_search import GridSearchCV\n",
    "from sklearn.metrics import confusion_matrix\n",
    "from sklearn import linear_model\n",
    "import matplotlib.pyplot as plt\n",
    "from __future__ import division\n",
    "import pandas as pd\n",
    "import numpy as np\n",
    "import pickle\n",
    "%matplotlib inline\n",
    "\n",
    "#iris = datasets.load_iris()\n",
    "#X, y = iris.data[:, 1:3], iris.target\n",
    "df = pd.read_csv(\"Matchup_KP.csv\")\n",
    "features = ['FieldGoalAvg', 'ThreePointAvg', 'FreeThrowAvg', 'ReboundAvg', 'AssistAvg', 'TurnOverAvg', \n",
    "            'StealAvg', 'BlockAvg', 'PersonalFoulAvg', 'Pyth', 'Rank', 'AdjustO', 'AdjustO Rank', 'AdjustD', \n",
    "            'AdjustD Rank', 'AdjustT', 'AdjustT Rank', 'Luck', 'Luck Rank']\n",
    "features2 = ['Pyth', 'Rank', 'AdjustO', 'AdjustO Rank', 'AdjustD', \n",
    "            'AdjustD Rank', 'AdjustT', 'AdjustT Rank', 'Luck', 'Luck Rank']\n",
    "# Load Elo Ratings (dict)\n",
    "team_elos = pickle.load(open(\"../elo/data/team_elos.p\", \"rb\"))\n",
    "# Extremely Random Forest Features\n",
    "features3 = ['Pyth', 'AdjustO', 'AdjustD', 'Luck','FieldGoalAvg']\n",
    "# Random Forest Features\n",
    "features4 = ['Pyth', 'AdjustO', 'AdjustD', 'Luck','BlockAvg']\n",
    "# Gradient Boosting Features\n",
    "features5 = ['Pyth', 'AdjustO', 'Luck','BlockAvg','AssistAvg']\n",
    "#ADA Boost\n",
    "features6 = ['Pyth','Luck','AdjustO','AdjustD','FieldGoalAvg']"
   ]
  },
  {
   "cell_type": "code",
   "execution_count": 2,
   "metadata": {
    "collapsed": false
   },
   "outputs": [
    {
     "name": "stdout",
     "output_type": "stream",
     "text": [
      "Accuracy: 0.79 (+/- 0.03) [Logistic Regression]\n",
      "Accuracy: 0.75 (+/- 0.04) [Random Forest]\n",
      "Accuracy: 0.79 (+/- 0.03) [naive Bayes]\n",
      "Accuracy: 0.79 (+/- 0.03) [Ensemble]\n"
     ]
    }
   ],
   "source": [
    "Submission = pd.read_csv(\"2016Submission.csv\")\n",
    "submission_test = Submission[features2]\n",
    "\n",
    "X = df[features2]\n",
    "y = df.WinLoss\n",
    "\n",
    "clf1 = LogisticRegression(random_state=1)\n",
    "clf2 = RandomForestClassifier(random_state=1)\n",
    "clf3 = GaussianNB()\n",
    "\n",
    "eclf = VotingClassifier(estimators=[('lr', clf1), ('rf', clf2), ('gnb', clf3)], voting='hard', weights=None)\n",
    "\n",
    "for clf, label in zip([clf1, clf2, clf3, eclf], ['Logistic Regression', 'Random Forest', 'naive Bayes', 'Ensemble']):\n",
    "    scores = cross_validation.cross_val_score(clf, X, y, cv=5, scoring='accuracy')\n",
    "    print(\"Accuracy: %0.2f (+/- %0.2f) [%s]\" % (scores.mean(), scores.std(), label))\n",
    "\n",
    "#Accuracy: 0.90 (+/- 0.05) [Logistic Regression]\n",
    "#Accuracy: 0.93 (+/- 0.05) [Random Forest]\n",
    "#Accuracy: 0.91 (+/- 0.04) [naive Bayes]\n",
    "#Accuracy: 0.95 (+/- 0.05) [Ensemble]"
   ]
  },
  {
   "cell_type": "code",
   "execution_count": 3,
   "metadata": {
    "collapsed": true
   },
   "outputs": [],
   "source": [
    "def fit_best_model(model, parameters):\n",
    "    m = model()\n",
    "    m = GridSearchCV(m, parameters)\n",
    "    m.fit(X, y)\n",
    "    return m.best_estimator_, m.best_params_\n",
    "\n",
    "def fit_best_voting_model(model, parameters):\n",
    "    m = model(estimators=[('lr', clf1), ('rf', clf2), ('gnb', clf3)])\n",
    "    m = GridSearchCV(m, parameters)\n",
    "    m.fit(X, y)\n",
    "    return m.best_estimator_, m.best_params_"
   ]
  },
  {
   "cell_type": "code",
   "execution_count": 4,
   "metadata": {
    "collapsed": false
   },
   "outputs": [],
   "source": [
    "def plot_confusion_matrix(cm, title='Confusion matrix', cmap=plt.cm.Blues):\n",
    "    print(cm)\n",
    "    plt.imshow(cm, interpolation='nearest', cmap=cmap)\n",
    "    plt.title(title)\n",
    "    plt.colorbar()\n",
    "    tick_marks = np.arange(2)\n",
    "    plt.xticks(tick_marks, ['Loss', 'Win'], rotation=45)\n",
    "    plt.yticks(tick_marks, ['Loss', 'Win'])\n",
    "    plt.tight_layout()\n",
    "    plt.ylabel('True label')\n",
    "    plt.xlabel('Predicted label')\n",
    "    plt.show()\n",
    "\n",
    "\n",
    "def accuracies(cm):\n",
    "    totals = np.sum(cm, 1)\n",
    "    no_acc = cm[0, 0] / totals[0]\n",
    "    yes_acc = cm[1, 1] / totals[1]\n",
    "    print(\"Loss Acc: {0}\".format(no_acc))\n",
    "    print(\"Win Acc: {0}\".format(yes_acc))\n",
    "    print(\"Avg Acc: {0}\".format((no_acc + yes_acc)/2))\n",
    "    \n",
    "\n",
    "def run_model(model):\n",
    "    clf = model\n",
    "    clf.fit(X_train, y_train)\n",
    "    predictions = clf.predict(X_test)\n",
    "    cm = confusion_matrix(y_test, predictions)\n",
    "    plot_confusion_matrix(cm)\n",
    "    accuracies(cm)"
   ]
  },
  {
   "cell_type": "code",
   "execution_count": 5,
   "metadata": {
    "collapsed": true
   },
   "outputs": [],
   "source": [
    "def get_elo(season, team):\n",
    "    try:\n",
    "        return team_elos[season][team]\n",
    "    except:\n",
    "        try:\n",
    "            # Get the previous season's ending value.\n",
    "            team_elos[season][team] = team_elos[season-1][team]\n",
    "            return team_elos[season][team]\n",
    "        except:\n",
    "            # Get the starter elo.\n",
    "            team_elos[season][team] = base_elo\n",
    "            return team_elos[season][team]\n",
    "        \n",
    "def get_elo_diff(team_1, team_2, season):\n",
    "    elo1 = get_elo(season, team_1)\n",
    "    elo2 = get_elo(season, team_2)\n",
    "    return elo1 - elo2"
   ]
  },
  {
   "cell_type": "code",
   "execution_count": 6,
   "metadata": {
    "collapsed": false
   },
   "outputs": [],
   "source": [
    "def append_elos():\n",
    "    dFrames = [df, Submission]\n",
    "    for i, dFrame in enumerate(dFrames):\n",
    "        elo_diffs = []\n",
    "        for index, row in dFrame.iterrows():\n",
    "            elo_diffs.append(get_elo_diff(row['Wteam'], row['Lteam'], row['Year']))\n",
    "        elos = pd.DataFrame(elo_diffs, columns = ['Elo Rank'])\n",
    "        if i==0:\n",
    "            X_elos = pd.concat([X, elos], axis=1)\n",
    "        else:\n",
    "            submission_elos = pd.concat([submission_test, elos], axis=1)\n",
    "    return X_elos, submission_elos"
   ]
  },
  {
   "cell_type": "code",
   "execution_count": 7,
   "metadata": {
    "collapsed": true
   },
   "outputs": [],
   "source": [
    "X_train, X_test, y_train, y_test = train_test_split(X, y, test_size = 0.33, random_state = 42)"
   ]
  },
  {
   "cell_type": "markdown",
   "metadata": {},
   "source": [
    "# Logistic Regression"
   ]
  },
  {
   "cell_type": "code",
   "execution_count": 8,
   "metadata": {
    "collapsed": false
   },
   "outputs": [
    {
     "name": "stdout",
     "output_type": "stream",
     "text": [
      "('Logistic Regression Parameters:', {'penalty': 'l1', 'C': 0.019306977288832496, 'solver': 'liblinear'})\n",
      "[[202  56]\n",
      " [ 59 236]]\n"
     ]
    },
    {
     "data": {
      "image/png": "[encoded data removed]",
      "text/plain": [
       "<matplotlib.figure.Figure at 0x103e94750>"
      ]
     },
     "metadata": {},
     "output_type": "display_data"
    },
    {
     "name": "stdout",
     "output_type": "stream",
     "text": [
      "Loss Acc: 0.782945736434\n",
      "Win Acc: 0.8\n",
      "Avg Acc: 0.791472868217\n"
     ]
    }
   ],
   "source": [
    "param_clf1 = {'penalty':['l1', 'l2'], 'C':np.logspace(-4, 4, 8), 'solver':['liblinear']}\n",
    "clf1, param_clf1 = fit_best_model(LogisticRegression, param_clf1)\n",
    "print('Logistic Regression Parameters:', param_clf1)\n",
    "run_model(clf1)"
   ]
  },
  {
   "cell_type": "code",
   "execution_count": 9,
   "metadata": {
    "collapsed": false
   },
   "outputs": [],
   "source": [
    "predictions = clf1.predict_proba(submission_test)\n",
    "Submission.Pred = predictions[:,1]\n",
    "LogisticRegressionSubmission = Submission[['Id','Pred']].sort_values(by = 'Id')\n",
    "LogisticRegressionSubmission.to_csv(\"results1/submissionLR.csv\",index = False)"
   ]
  },
  {
   "cell_type": "markdown",
   "metadata": {},
   "source": [
    "# Random Forest"
   ]
  },
  {
   "cell_type": "code",
   "execution_count": 10,
   "metadata": {
    "collapsed": false
   },
   "outputs": [
    {
     "name": "stdout",
     "output_type": "stream",
     "text": [
      "('Random Forest Parameters:', {'max_features': 'auto', 'n_estimators': 300})\n",
      "[[191  67]\n",
      " [ 70 225]]\n"
     ]
    },
    {
     "data": {
      "image/png": "[encoded data removed]",
      "text/plain": [
       "<matplotlib.figure.Figure at 0x10bd5ab90>"
      ]
     },
     "metadata": {},
     "output_type": "display_data"
    },
    {
     "name": "stdout",
     "output_type": "stream",
     "text": [
      "Loss Acc: 0.740310077519\n",
      "Win Acc: 0.762711864407\n",
      "Avg Acc: 0.751510970963\n"
     ]
    }
   ],
   "source": [
    "#p = {'n_estimators':[10, 50, 100, 300, 500, 1000,1500], 'max_features': [ None, 'auto', 'sqrt', 'log2']}\n",
    "p = {'n_estimators':[10, 50, 100, 300, 500, 1000], 'max_features': [ None, 'auto', 'sqrt', 'log2']}\n",
    "clf2, param_clf2 = fit_best_model(RandomForestClassifier, p)\n",
    "\n",
    "print('Random Forest Parameters:', param_clf2)\n",
    "run_model(clf2)"
   ]
  },
  {
   "cell_type": "code",
   "execution_count": 11,
   "metadata": {
    "collapsed": false
   },
   "outputs": [],
   "source": [
    "predictions = clf2.predict_proba(submission_test)\n",
    "Submission.Pred = predictions[:,1]\n",
    "RandomForestSubmission = Submission[['Id','Pred']].sort_values(by = 'Id')\n",
    "RandomForestSubmission.to_csv(\"results1/submissionRF.csv\",index = False)"
   ]
  },
  {
   "cell_type": "markdown",
   "metadata": {},
   "source": [
    "# Extremely Randomized Trees"
   ]
  },
  {
   "cell_type": "code",
   "execution_count": 12,
   "metadata": {
    "collapsed": false
   },
   "outputs": [
    {
     "name": "stdout",
     "output_type": "stream",
     "text": [
      "('Random Forest Parameters:', {'max_features': 'sqrt', 'n_estimators': 100})\n",
      "[[192  66]\n",
      " [ 73 222]]\n"
     ]
    },
    {
     "data": {
      "image/png": "[encoded data removed]",
      "text/plain": [
       "<matplotlib.figure.Figure at 0x10bdc1c50>"
      ]
     },
     "metadata": {},
     "output_type": "display_data"
    },
    {
     "name": "stdout",
     "output_type": "stream",
     "text": [
      "Loss Acc: 0.744186046512\n",
      "Win Acc: 0.752542372881\n",
      "Avg Acc: 0.748364209696\n"
     ]
    }
   ],
   "source": [
    "p = {'n_estimators':[10, 50, 100], 'max_features': ['sqrt']}\n",
    "m_RF, param_RF = fit_best_model(ExtraTreesClassifier, p)\n",
    "\n",
    "print('Random Forest Parameters:', param_RF)\n",
    "run_model(m_RF)"
   ]
  },
  {
   "cell_type": "code",
   "execution_count": 13,
   "metadata": {
    "collapsed": false
   },
   "outputs": [],
   "source": [
    "predictions = m_RF.predict_proba(submission_test)\n",
    "Submission.Pred = predictions[:,1]\n",
    "ExtremelyRandomForestSubmission = Submission[['Id','Pred']].sort_values(by = 'Id')\n",
    "ExtremelyRandomForestSubmission.to_csv(\"results1/submissionExtraRF.csv\",index = False)"
   ]
  },
  {
   "cell_type": "markdown",
   "metadata": {},
   "source": [
    "# Naive Bayes"
   ]
  },
  {
   "cell_type": "code",
   "execution_count": 14,
   "metadata": {
    "collapsed": false
   },
   "outputs": [
    {
     "name": "stdout",
     "output_type": "stream",
     "text": [
      "[[187  71]\n",
      " [ 64 231]]\n"
     ]
    },
    {
     "data": {
      "image/png": "[encoded data removed]",
      "text/plain": [
       "<matplotlib.figure.Figure at 0x10c654550>"
      ]
     },
     "metadata": {},
     "output_type": "display_data"
    },
    {
     "name": "stdout",
     "output_type": "stream",
     "text": [
      "Loss Acc: 0.72480620155\n",
      "Win Acc: 0.783050847458\n",
      "Avg Acc: 0.753928524504\n"
     ]
    }
   ],
   "source": [
    "clf3.fit(X, y)\n",
    "run_model(clf3)"
   ]
  },
  {
   "cell_type": "code",
   "execution_count": 15,
   "metadata": {
    "collapsed": true
   },
   "outputs": [],
   "source": [
    "predictions = clf3.predict_proba(submission_test)\n",
    "Submission.Pred = predictions[:,1]\n",
    "NaiveBayesSubmission = Submission[['Id','Pred']].sort_values(by = 'Id')\n",
    "NaiveBayesSubmission.to_csv(\"results1/submissionNB.csv\",index = False)"
   ]
  },
  {
   "cell_type": "markdown",
   "metadata": {},
   "source": [
    "# Voting Classifier Ensemble"
   ]
  },
  {
   "cell_type": "code",
   "execution_count": 16,
   "metadata": {
    "collapsed": false
   },
   "outputs": [
    {
     "name": "stdout",
     "output_type": "stream",
     "text": [
      "[[202  56]\n",
      " [ 59 236]]\n"
     ]
    },
    {
     "data": {
      "image/png": "[encoded data removed]",
      "text/plain": [
       "<matplotlib.figure.Figure at 0x10c6d44d0>"
      ]
     },
     "metadata": {},
     "output_type": "display_data"
    },
    {
     "name": "stdout",
     "output_type": "stream",
     "text": [
      "Loss Acc: 0.782945736434\n",
      "Win Acc: 0.8\n",
      "Avg Acc: 0.791472868217\n",
      "('Voting Classifier Parameters:', {'voting': 'hard', 'weights': [0.99, 0.05, 0.05]})\n"
     ]
    }
   ],
   "source": [
    "param_eclf = {'voting':['soft','hard'], 'weights': [[.99,.05,.05],[.79,.75,.79]]}\n",
    "eclf, param_eclf = fit_best_voting_model(VotingClassifier, param_eclf)\n",
    "run_model(eclf)\n",
    "print('Voting Classifier Parameters:', param_eclf)"
   ]
  },
  {
   "cell_type": "code",
   "execution_count": 17,
   "metadata": {
    "collapsed": true
   },
   "outputs": [],
   "source": [
    "predictions = clf3.predict_proba(submission_test)\n",
    "Submission.Pred = predictions[:,1]\n",
    "EnsembleSubmission = Submission[['Id','Pred']].sort_values(by = 'Id')\n",
    "EnsembleSubmission.to_csv(\"results1/submissionVoting.csv\",index = False)"
   ]
  },
  {
   "cell_type": "markdown",
   "metadata": {},
   "source": [
    "# Gradient Boost"
   ]
  },
  {
   "cell_type": "code",
   "execution_count": 18,
   "metadata": {
    "collapsed": false
   },
   "outputs": [],
   "source": [
    "from sklearn.ensemble import GradientBoostingClassifier\n",
    "from sklearn.metrics import mean_squared_error\n",
    "param_gclf = {\n",
    "    'n_estimators':[10, 16, 32, 50, 100, 500, 1000], \n",
    "    'learning_rate':[0.01, 0.8, 1]\n",
    "}\n",
    "\n",
    "gclf = GradientBoostingClassifier()\n",
    "grid = GridSearchCV(gclf, param_gclf)\n",
    "grid.fit(X, y)\n",
    "gclf = grid.best_estimator_"
   ]
  },
  {
   "cell_type": "code",
   "execution_count": 19,
   "metadata": {
    "collapsed": false
   },
   "outputs": [
    {
     "name": "stdout",
     "output_type": "stream",
     "text": [
      "('Best Parameters:', {'n_estimators': 50, 'learning_rate': 0.01})\n"
     ]
    }
   ],
   "source": [
    "print('Best Parameters:', grid.best_params_)\n",
    "predictions = gclf.predict_proba(submission_test)\n",
    "Submission.Pred = predictions[:,1]\n",
    "GradientBoostSubmission = Submission[['Id','Pred']].sort_values(by = 'Id')\n",
    "GradientBoostSubmission.to_csv(\"results1/submissionGBC.csv\", index=False)"
   ]
  }
 ],
 "metadata": {
  "kernelspec": {
   "display_name": "Python 2",
   "language": "python",
   "name": "python2"
  },
  "language_info": {
   "codemirror_mode": {
    "name": "ipython",
    "version": 2
   },
   "file_extension": ".py",
   "mimetype": "text/x-python",
   "name": "python",
   "nbconvert_exporter": "python",
   "pygments_lexer": "ipython2",
   "version": "2.7.11"
  }
 },
 "nbformat": 4,
 "nbformat_minor": 0
}
