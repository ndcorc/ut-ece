{
 "cells": [
  {
   "cell_type": "markdown",
   "metadata": {},
   "source": [
    "# Submissions"
   ]
  },
  {
   "cell_type": "code",
   "execution_count": 140,
   "metadata": {
    "collapsed": false,
    "scrolled": true
   },
   "outputs": [],
   "source": [
    "from sklearn import datasets\n",
    "from sklearn import cross_validation\n",
    "from sklearn.linear_model import LogisticRegression\n",
    "from sklearn.naive_bayes import GaussianNB\n",
    "from sklearn.ensemble import RandomForestClassifier\n",
    "from sklearn.ensemble import VotingClassifier\n",
    "from sklearn.ensemble import ExtraTreesClassifier\n",
    "from sklearn.cross_validation import train_test_split\n",
    "from sklearn.grid_search import GridSearchCV\n",
    "from sklearn.metrics import confusion_matrix\n",
    "from sklearn import linear_model\n",
    "import matplotlib.pyplot as plt\n",
    "from __future__ import division\n",
    "import pandas as pd\n",
    "import numpy as np\n",
    "import pickle\n",
    "%matplotlib inline\n",
    "\n",
    "#iris = datasets.load_iris()\n",
    "#X, y = iris.data[:, 1:3], iris.target\n",
    "df = pd.read_csv(\"Matchup_KP.csv\")\n",
    "features = ['FieldGoalAvg', 'ThreePointAvg', 'FreeThrowAvg', 'ReboundAvg', 'AssistAvg', 'TurnOverAvg', \n",
    "            'StealAvg', 'BlockAvg', 'PersonalFoulAvg', 'Pyth', 'Rank', 'AdjustO', 'AdjustO Rank', 'AdjustD', \n",
    "            'AdjustD Rank', 'AdjustT', 'AdjustT Rank', 'Luck', 'Luck Rank']\n",
    "features2 = ['Pyth', 'Rank', 'AdjustO', 'AdjustO Rank', 'AdjustD', \n",
    "            'AdjustD Rank', 'AdjustT', 'AdjustT Rank', 'Luck', 'Luck Rank']\n",
    "# Load Elo Ratings (dict)\n",
    "team_elos = pickle.load(open(\"../elo/data/team_elos.p\", \"rb\"))\n",
    "# Extremely Random Forest Features\n",
    "features3 = ['Pyth', 'AdjustO', 'AdjustD', 'Luck','FieldGoalAvg']\n",
    "# Random Forest Features\n",
    "features4 = ['Pyth', 'AdjustO', 'AdjustD', 'Luck','BlockAvg']\n",
    "# Gradient Boosting Features\n",
    "features5 = ['Pyth', 'AdjustO', 'Luck','BlockAvg','AssistAvg']\n",
    "#ADA Boost\n",
    "features6 = ['Pyth','Luck','AdjustO','AdjustD','FieldGoalAvg']"
   ]
  },
  {
   "cell_type": "code",
   "execution_count": 141,
   "metadata": {
    "collapsed": false
   },
   "outputs": [
    {
     "name": "stdout",
     "output_type": "stream",
     "text": [
      "Accuracy: 0.79 (+/- 0.03) [Logistic Regression]\n",
      "Accuracy: 0.75 (+/- 0.04) [Random Forest]\n",
      "Accuracy: 0.79 (+/- 0.03) [naive Bayes]\n",
      "Accuracy: 0.79 (+/- 0.03) [Ensemble]\n"
     ]
    }
   ],
   "source": [
    "Submission = pd.read_csv(\"2016Submission.csv\")\n",
    "submission_test = Submission[features2]\n",
    "\n",
    "X = df[features2]\n",
    "y = df.WinLoss\n",
    "\n",
    "clf1 = LogisticRegression(random_state=1)\n",
    "clf2 = RandomForestClassifier(random_state=1)\n",
    "clf3 = GaussianNB()\n",
    "\n",
    "eclf = VotingClassifier(estimators=[('lr', clf1), ('rf', clf2), ('gnb', clf3)], voting='hard', weights=None)\n",
    "\n",
    "for clf, label in zip([clf1, clf2, clf3, eclf], ['Logistic Regression', 'Random Forest', 'naive Bayes', 'Ensemble']):\n",
    "    scores = cross_validation.cross_val_score(clf, X, y, cv=5, scoring='accuracy')\n",
    "    print(\"Accuracy: %0.2f (+/- %0.2f) [%s]\" % (scores.mean(), scores.std(), label))\n",
    "\n",
    "#Accuracy: 0.90 (+/- 0.05) [Logistic Regression]\n",
    "#Accuracy: 0.93 (+/- 0.05) [Random Forest]\n",
    "#Accuracy: 0.91 (+/- 0.04) [naive Bayes]\n",
    "#Accuracy: 0.95 (+/- 0.05) [Ensemble]"
   ]
  },
  {
   "cell_type": "code",
   "execution_count": 142,
   "metadata": {
    "collapsed": true
   },
   "outputs": [],
   "source": [
    "def score_model(model, parameters, X_train, y_train, X_test, y_test):\n",
    "    m = model()\n",
    "    m = GridSearchCV(m, parameters)\n",
    "    m.fit(X_train, y_train)\n",
    "    score = m.score(X_test, y_test)\n",
    "    return m.best_estimator_, score, m.best_params_\n",
    "\n",
    "def score_voting_model(model, parameters, X_train, y_train, X_test, y_test):\n",
    "    m = model(estimators=[('lr', clf1), ('rf', clf2), ('gnb', clf3)])\n",
    "    m = GridSearchCV(m, parameters, cv= 3)\n",
    "    m.fit(X_train, y_train)\n",
    "    score = m.score(X_test, y_test)\n",
    "    return m.best_estimator_, score, m.best_params_"
   ]
  },
  {
   "cell_type": "code",
   "execution_count": 143,
   "metadata": {
    "collapsed": false
   },
   "outputs": [],
   "source": [
    "def plot_confusion_matrix(cm, title='Confusion matrix', cmap=plt.cm.Blues):\n",
    "    print(cm)\n",
    "    plt.imshow(cm, interpolation='nearest', cmap=cmap)\n",
    "    plt.title(title)\n",
    "    plt.colorbar()\n",
    "    tick_marks = np.arange(2)\n",
    "    plt.xticks(tick_marks, ['Loss', 'Win'], rotation=45)\n",
    "    plt.yticks(tick_marks, ['Loss', 'Win'])\n",
    "    plt.tight_layout()\n",
    "    plt.ylabel('True label')\n",
    "    plt.xlabel('Predicted label')\n",
    "    plt.show()\n",
    "\n",
    "\n",
    "def accuracies(cm):\n",
    "    totals = np.sum(cm, 1)\n",
    "    no_acc = cm[0, 0] / totals[0]\n",
    "    yes_acc = cm[1, 1] / totals[1]\n",
    "    print(\"Loss Acc: {0}\".format(no_acc))\n",
    "    print(\"Win Acc: {0}\".format(yes_acc))\n",
    "    print(\"Avg Acc: {0}\".format((no_acc + yes_acc)/2))\n",
    "    \n",
    "\n",
    "def run_model(model):\n",
    "    clf = model\n",
    "    clf.fit(X_train, y_train)\n",
    "    predictions = clf.predict(X_test)\n",
    "    cm = confusion_matrix(y_test, predictions)\n",
    "    plot_confusion_matrix(cm)\n",
    "    accuracies(cm)"
   ]
  },
  {
   "cell_type": "code",
   "execution_count": 144,
   "metadata": {
    "collapsed": true
   },
   "outputs": [],
   "source": [
    "def get_elo(season, team):\n",
    "    try:\n",
    "        return team_elos[season][team]\n",
    "    except:\n",
    "        try:\n",
    "            # Get the previous season's ending value.\n",
    "            team_elos[season][team] = team_elos[season-1][team]\n",
    "            return team_elos[season][team]\n",
    "        except:\n",
    "            # Get the starter elo.\n",
    "            team_elos[season][team] = base_elo\n",
    "            return team_elos[season][team]\n",
    "        \n",
    "def get_elo_diff(team_1, team_2, season):\n",
    "    elo1 = get_elo(season, team_1)\n",
    "    elo2 = get_elo(season, team_2)\n",
    "    return elo1 - elo2"
   ]
  },
  {
   "cell_type": "code",
   "execution_count": 145,
   "metadata": {
    "collapsed": false
   },
   "outputs": [],
   "source": [
    "def append_elos():\n",
    "    dFrames = [df, Submission]\n",
    "    for i, dFrame in enumerate(dFrames):\n",
    "        elo_diffs = []\n",
    "        for index, row in dFrame.iterrows():\n",
    "            elo_diffs.append(get_elo_diff(row['Wteam'], row['Lteam'], row['Year']))\n",
    "        elos = pd.DataFrame(elo_diffs, columns = ['Elo Rank'])\n",
    "        if i==0:\n",
    "            X_elos = pd.concat([X, elos], axis=1)\n",
    "        else:\n",
    "            submission_elos = pd.concat([submission_test, elos], axis=1)\n",
    "    return X_elos, submission_elos"
   ]
  },
  {
   "cell_type": "markdown",
   "metadata": {},
   "source": [
    "# Logistic Regression"
   ]
  },
  {
   "cell_type": "code",
   "execution_count": 160,
   "metadata": {
    "collapsed": true
   },
   "outputs": [],
   "source": [
    "X_train, X_test, y_train, y_test = train_test_split(X, y, test_size = 0.33, random_state = 42)"
   ]
  },
  {
   "cell_type": "code",
   "execution_count": 147,
   "metadata": {
    "collapsed": false
   },
   "outputs": [
    {
     "name": "stdout",
     "output_type": "stream",
     "text": [
      "('Logistic Regression Score:', 0.79385171790235076)\n",
      "('Logistic Regression Parameters:', {'penalty': 'l2', 'C': 0.1, 'solver': 'liblinear'})\n",
      "[[239  56]\n",
      " [ 58 200]]\n"
     ]
    },
    {
     "data": {
      "image/png": "[encoded data removed]",
      "text/plain": [
       "<matplotlib.figure.Figure at 0x10c6af110>"
      ]
     },
     "metadata": {},
     "output_type": "display_data"
    },
    {
     "name": "stdout",
     "output_type": "stream",
     "text": [
      "Loss Acc: 0.810169491525\n",
      "Win Acc: 0.77519379845\n",
      "Avg Acc: 0.792681644988\n"
     ]
    }
   ],
   "source": [
    "param_clf1 = {'penalty':['l1', 'l2'], 'C':[0.001, 0.01, 0.1, 1, 10, 100, 1000], 'solver':['liblinear']}\n",
    "clf1, clf1_s, param_clf1 = score_model(LogisticRegression, param_clf1, X_train, y_train, X_test, y_test)\n",
    "print('Logistic Regression Score:', clf1_s)\n",
    "print('Logistic Regression Parameters:', param_clf1)\n",
    "run_model(clf1)"
   ]
  },
  {
   "cell_type": "code",
   "execution_count": 161,
   "metadata": {
    "collapsed": false
   },
   "outputs": [
    {
     "data": {
      "text/plain": [
       "{'C': 0.1, 'penalty': 'l2', 'solver': 'liblinear'}"
      ]
     },
     "execution_count": 161,
     "metadata": {},
     "output_type": "execute_result"
    }
   ],
   "source": []
  },
  {
   "cell_type": "code",
   "execution_count": 148,
   "metadata": {
    "collapsed": false
   },
   "outputs": [],
   "source": [
    "predictions = clf1.predict_proba(submission_test)\n",
    "Submission.Pred = predictions[:,1]\n",
    "LogisticRegressionSubmission = Submission[['Id','Pred']].sort_values(by = 'Id')\n",
    "LogisticRegressionSubmission.to_csv(\"LogisticRegressionSubmission2.csv\",index = False)"
   ]
  },
  {
   "cell_type": "markdown",
   "metadata": {},
   "source": [
    "# Random Forest"
   ]
  },
  {
   "cell_type": "code",
   "execution_count": 149,
   "metadata": {
    "collapsed": false
   },
   "outputs": [
    {
     "name": "stdout",
     "output_type": "stream",
     "text": [
      "('Random Forest Score:', 0.77034358047016271)\n",
      "('Random Forest Parameters:', {'max_features': 'sqrt', 'n_estimators': 300})\n",
      "[[232  63]\n",
      " [ 67 191]]\n"
     ]
    },
    {
     "data": {
      "image/png": "[encoded data removed]",
      "text/plain": [
       "<matplotlib.figure.Figure at 0x106969250>"
      ]
     },
     "metadata": {},
     "output_type": "display_data"
    },
    {
     "name": "stdout",
     "output_type": "stream",
     "text": [
      "Loss Acc: 0.786440677966\n",
      "Win Acc: 0.740310077519\n",
      "Avg Acc: 0.763375377743\n"
     ]
    }
   ],
   "source": [
    "#p = {'n_estimators':[10, 50, 100, 300, 500, 1000,1500], 'max_features': [ None, 'auto', 'sqrt', 'log2']}\n",
    "p = {'n_estimators':[10, 50, 100, 300, 500, 1000], 'max_features': [ None, 'auto', 'sqrt', 'log2']}\n",
    "clf2, clf2_s, param_clf2 = score_model(RandomForestClassifier, p, X_train, y_train, X_test, y_test)\n",
    "\n",
    "print('Random Forest Score:', clf2_s)\n",
    "print('Random Forest Parameters:', param_clf2)\n",
    "run_model(clf2)"
   ]
  },
  {
   "cell_type": "code",
   "execution_count": 150,
   "metadata": {
    "collapsed": true
   },
   "outputs": [],
   "source": [
    "predictions = clf2.predict_proba(submission_test)\n",
    "Submission.Pred = predictions[:,1]\n",
    "RandomForestSubmission = Submission[['Id','Pred']].sort_values(by = 'Id')\n",
    "RandomForestSubmission.to_csv(\"RandomForestSubmission2.csv\",index = False)"
   ]
  },
  {
   "cell_type": "markdown",
   "metadata": {},
   "source": [
    "# Extremely Randomized Trees"
   ]
  },
  {
   "cell_type": "code",
   "execution_count": 151,
   "metadata": {
    "collapsed": false
   },
   "outputs": [
    {
     "name": "stdout",
     "output_type": "stream",
     "text": [
      "('Random Forest Score:', 0.75045207956600357)\n",
      "('Random Forest Parameters:', {'max_features': 'sqrt', 'n_estimators': 100})\n"
     ]
    }
   ],
   "source": [
    "p = {'n_estimators':[10, 50, 100], 'max_features': ['sqrt']}\n",
    "m_RF, RF_s, param_RF = score_model(ExtraTreesClassifier, p, X_train, y_train, X_test, y_test)\n",
    "\n",
    "print('Random Forest Score:', RF_s)\n",
    "print('Random Forest Parameters:', param_RF)"
   ]
  },
  {
   "cell_type": "code",
   "execution_count": 152,
   "metadata": {
    "collapsed": false
   },
   "outputs": [
    {
     "name": "stdout",
     "output_type": "stream",
     "text": [
      "[[231  64]\n",
      " [ 67 191]]\n"
     ]
    },
    {
     "data": {
      "image/png": "[encoded data removed]",
      "text/plain": [
       "<matplotlib.figure.Figure at 0x10c87f6d0>"
      ]
     },
     "metadata": {},
     "output_type": "display_data"
    },
    {
     "name": "stdout",
     "output_type": "stream",
     "text": [
      "Loss Acc: 0.783050847458\n",
      "Win Acc: 0.740310077519\n",
      "Avg Acc: 0.761680462489\n"
     ]
    }
   ],
   "source": [
    "run_model(m_RF)"
   ]
  },
  {
   "cell_type": "code",
   "execution_count": 153,
   "metadata": {
    "collapsed": false
   },
   "outputs": [],
   "source": [
    "predictions = m_RF.predict_proba(submission_test)\n",
    "Submission.Pred = predictions[:,1]\n",
    "ExtremelyRandomForestSubmission = Submission[['Id','Pred']].sort_values(by = 'Id')\n",
    "ExtremelyRandomForestSubmission.to_csv(\"ExtremelyRandomForestSubmission2.csv\",index = False)"
   ]
  },
  {
   "cell_type": "markdown",
   "metadata": {},
   "source": [
    "# Naive Bayes"
   ]
  },
  {
   "cell_type": "code",
   "execution_count": 154,
   "metadata": {
    "collapsed": false
   },
   "outputs": [
    {
     "name": "stdout",
     "output_type": "stream",
     "text": [
      "[[241  54]\n",
      " [ 70 188]]\n"
     ]
    },
    {
     "data": {
      "image/png": "[encoded data removed]",
      "text/plain": [
       "<matplotlib.figure.Figure at 0x10c25d150>"
      ]
     },
     "metadata": {},
     "output_type": "display_data"
    },
    {
     "name": "stdout",
     "output_type": "stream",
     "text": [
      "Loss Acc: 0.816949152542\n",
      "Win Acc: 0.728682170543\n",
      "Avg Acc: 0.772815661543\n"
     ]
    }
   ],
   "source": [
    "clf3.fit(X_train, y_train)\n",
    "clf3.score(X_test, y_test)\n",
    "run_model(clf3)"
   ]
  },
  {
   "cell_type": "code",
   "execution_count": 155,
   "metadata": {
    "collapsed": true
   },
   "outputs": [],
   "source": [
    "predictions = clf3.predict_proba(submission_test)\n",
    "Submission.Pred = predictions[:,1]\n",
    "NaiveBayesSubmission = Submission[['Id','Pred']].sort_values(by = 'Id')\n",
    "NaiveBayesSubmission.to_csv(\"NaiveBayesSubmission2.csv\",index = False)"
   ]
  },
  {
   "cell_type": "markdown",
   "metadata": {},
   "source": [
    "# Voting Classifier Ensemble"
   ]
  },
  {
   "cell_type": "code",
   "execution_count": 156,
   "metadata": {
    "collapsed": false
   },
   "outputs": [
    {
     "name": "stdout",
     "output_type": "stream",
     "text": [
      "[[240  55]\n",
      " [ 58 200]]\n"
     ]
    },
    {
     "data": {
      "image/png": "[encoded data removed]",
      "text/plain": [
       "<matplotlib.figure.Figure at 0x10fce8d50>"
      ]
     },
     "metadata": {},
     "output_type": "display_data"
    },
    {
     "name": "stdout",
     "output_type": "stream",
     "text": [
      "Loss Acc: 0.813559322034\n",
      "Win Acc: 0.77519379845\n",
      "Avg Acc: 0.794376560242\n",
      "('Voting Classifier Score:', 0.79566003616636527)\n",
      "('Voting Classifier Parameters:', {'voting': 'soft', 'weights': [0.99, 0.05, 0.05]})\n"
     ]
    }
   ],
   "source": [
    "param_eclf = {'voting':['soft','hard'], 'weights': [[.99,.05,.05],[.79,.75,.79]]}\n",
    "eclf, eclf_s, param_eclf = score_voting_model(VotingClassifier, param_eclf, X_train, y_train, X_test, y_test)\n",
    "run_model(eclf)\n",
    "print('Voting Classifier Score:', eclf_s)\n",
    "print('Voting Classifier Parameters:', param_eclf)"
   ]
  },
  {
   "cell_type": "code",
   "execution_count": 157,
   "metadata": {
    "collapsed": true
   },
   "outputs": [],
   "source": [
    "predictions = clf3.predict_proba(submission_test)\n",
    "Submission.Pred = predictions[:,1]\n",
    "EnsembleSubmission = Submission[['Id','Pred']].sort_values(by = 'Id')\n",
    "EnsembleSubmission.to_csv(\"EnsembleSubmission2.csv\",index = False)"
   ]
  },
  {
   "cell_type": "markdown",
   "metadata": {},
   "source": [
    "# Gradient Boost"
   ]
  },
  {
   "cell_type": "code",
   "execution_count": 158,
   "metadata": {
    "collapsed": false
   },
   "outputs": [
    {
     "name": "stdout",
     "output_type": "stream",
     "text": [
      "MSE: 0.1662\n"
     ]
    }
   ],
   "source": [
    "from sklearn.ensemble import GradientBoostingRegressor\n",
    "from sklearn.metrics import mean_squared_error\n",
    "param_gclf = {'n_estimators':[10, 50, 100, 500, 1000], \n",
    "              'learning_rate':[0.01], \n",
    "              'loss':['ls',], \n",
    "              'random_state':[42]}\n",
    "\n",
    "X_train, X_test, y_train, y_test = train_test_split(X, y, test_size = 0.33, random_state = 42)\n",
    "\n",
    "gclf = GradientBoostingRegressor()\n",
    "grid = GridSearchCV(gclf, param_gclf, cv=3)\n",
    "grid.fit(X_train, y_train)\n",
    "gclf = grid.best_estimator_\n",
    "mse = mean_squared_error(y_test, gclf.predict(X_test))\n",
    "print(\"MSE: %.4f\" % mse)"
   ]
  },
  {
   "cell_type": "code",
   "execution_count": 159,
   "metadata": {
    "collapsed": false
   },
   "outputs": [
    {
     "name": "stdout",
     "output_type": "stream",
     "text": [
      "('Gradient Score:', 0.79566003616636527)\n",
      "('Gradient Parameters:', {'n_estimators': [10, 50, 100, 500, 1000], 'loss': ['ls'], 'learning_rate': [0.01], 'random_state': [42]})\n"
     ]
    }
   ],
   "source": [
    "print('Gradient Score:', eclf_s)\n",
    "print('Gradient Parameters:', param_gclf)"
   ]
  },
  {
   "cell_type": "code",
   "execution_count": 109,
   "metadata": {
    "collapsed": false
   },
   "outputs": [],
   "source": [
    "#predictions = gclf.predict_proba(submission_test)\n",
    "#Submission.Pred = predictions[:,1]\n",
    "#GradientBoostingSubmission = Submission[['Id','Pred']].sort_values(by = 'Id')\n",
    "#GradientBoostingSubmission.to_csv(\"GradientBoostingSubmission2.csv\",index = False)"
   ]
  },
  {
   "cell_type": "markdown",
   "metadata": {},
   "source": [
    "# Using All Features\n",
    "#### Logistic Regression Place = 258\n",
    "#### Random Forest Place = 567\n",
    "#### Naive Bayes Place = 557\n",
    "#### Ensemble = 557"
   ]
  },
  {
   "cell_type": "markdown",
   "metadata": {},
   "source": [
    "# With Only Ken Pom:\n",
    "#### Logistic Regression = 133\n",
    "#### Random Forest = 584\n",
    "#### Naive Bayes = 489\n",
    "#### Ensemble = 489"
   ]
  },
  {
   "cell_type": "markdown",
   "metadata": {
    "collapsed": true
   },
   "source": [
    "# With Gridsearch and only Ken Pom"
   ]
  },
  {
   "cell_type": "markdown",
   "metadata": {},
   "source": [
    "# Ensemble Classifier"
   ]
  },
  {
   "cell_type": "code",
   "execution_count": 23,
   "metadata": {
    "collapsed": true
   },
   "outputs": [],
   "source": [
    "from sklearn.base import BaseEstimator\n",
    "from sklearn.base import ClassifierMixin\n",
    "import numpy as np\n",
    "import operator\n",
    "\n",
    "class EnsembleClassifier(BaseEstimator, ClassifierMixin):\n",
    "    \"\"\"\n",
    "    Ensemble classifier for scikit-learn estimators.\n",
    "\n",
    "    Parameters\n",
    "    ----------\n",
    "\n",
    "    clf : `iterable`\n",
    "      A list of scikit-learn classifier objects.\n",
    "    weights : `list` (default: `None`)\n",
    "      If `None`, the majority rule voting will be applied to the predicted class labels.\n",
    "        If a list of weights (`float` or `int`) is provided, the averaged raw probabilities (via `predict_proba`)\n",
    "        will be used to determine the most confident class label.\n",
    "\n",
    "    \"\"\"\n",
    "    def __init__(self, clfs, weights=None):\n",
    "        self.clfs = clfs\n",
    "        self.weights = weights\n",
    "\n",
    "    def fit(self, X, y):\n",
    "        \"\"\"\n",
    "        Fit the scikit-learn estimators.\n",
    "\n",
    "        Parameters\n",
    "        ----------\n",
    "\n",
    "        X : numpy array, shape = [n_samples, n_features]\n",
    "            Training data\n",
    "        y : list or numpy array, shape = [n_samples]\n",
    "            Class labels\n",
    "\n",
    "        \"\"\"\n",
    "        for clf in self.clfs:\n",
    "            clf.fit(X, y)\n",
    "\n",
    "    def predict(self, X):\n",
    "        \"\"\"\n",
    "        Parameters\n",
    "        ----------\n",
    "\n",
    "        X : numpy array, shape = [n_samples, n_features]\n",
    "\n",
    "        Returns\n",
    "        ----------\n",
    "\n",
    "        maj : list or numpy array, shape = [n_samples]\n",
    "            Predicted class labels by majority rule\n",
    "\n",
    "        \"\"\"\n",
    "\n",
    "        self.classes_ = np.asarray([clf.predict(X) for clf in self.clfs])\n",
    "        if self.weights:\n",
    "            avg = self.predict_proba(X)\n",
    "\n",
    "            maj = np.apply_along_axis(lambda x: max(enumerate(x), key=operator.itemgetter(1))[0], axis=1, arr=avg)\n",
    "\n",
    "        else:\n",
    "            maj = np.asarray([np.argmax(np.bincount(self.classes_[:,c])) for c in range(self.classes_.shape[1])])\n",
    "\n",
    "        return maj\n",
    "\n",
    "    def predict_proba(self, X):\n",
    "\n",
    "        \"\"\"\n",
    "        Parameters\n",
    "        ----------\n",
    "\n",
    "        X : numpy array, shape = [n_samples, n_features]\n",
    "\n",
    "        Returns\n",
    "        ----------\n",
    "\n",
    "        avg : list or numpy array, shape = [n_samples, n_probabilities]\n",
    "            Weighted average probability for each class per sample.\n",
    "\n",
    "        \"\"\"\n",
    "        self.probas_ = [clf.predict_proba(X) for clf in self.clfs]\n",
    "        avg = np.average(self.probas_, axis=0, weights=self.weights)\n",
    "\n",
    "        return avg"
   ]
  },
  {
   "cell_type": "code",
   "execution_count": 24,
   "metadata": {
    "collapsed": false
   },
   "outputs": [
    {
     "name": "stdout",
     "output_type": "stream",
     "text": [
      "Accuracy: 0.79 (+/- 0.03) [Logistic Regression]\n",
      "Accuracy: 0.77 (+/- 0.03) [Random Forest]\n",
      "Accuracy: 0.79 (+/- 0.03) [naive Bayes]\n",
      "Accuracy: 0.78 (+/- 0.03) [Ensemble]\n"
     ]
    }
   ],
   "source": [
    "np.random.seed(123)\n",
    "eclf = EnsembleClassifier(clfs=[clf1, clf2, clf3], weights=[1,1,1])\n",
    "\n",
    "for clf, label in zip([clf1, clf2, clf3, eclf], ['Logistic Regression', 'Random Forest', 'naive Bayes', 'Ensemble']):\n",
    "\n",
    "    scores = cross_validation.cross_val_score(clf, X, y, cv=5, scoring='accuracy')\n",
    "    print(\"Accuracy: %0.2f (+/- %0.2f) [%s]\" % (scores.mean(), scores.std(), label))"
   ]
  }
 ],
 "metadata": {
  "kernelspec": {
   "display_name": "Python 2",
   "language": "python",
   "name": "python2"
  },
  "language_info": {
   "codemirror_mode": {
    "name": "ipython",
    "version": 2
   },
   "file_extension": ".py",
   "mimetype": "text/x-python",
   "name": "python",
   "nbconvert_exporter": "python",
   "pygments_lexer": "ipython2",
   "version": "2.7.11"
  }
 },
 "nbformat": 4,
 "nbformat_minor": 0
}
