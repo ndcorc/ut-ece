{
 "cells": [
  {
   "cell_type": "code",
   "execution_count": 1,
   "metadata": {
    "collapsed": true
   },
   "outputs": [],
   "source": [
    "import pandas as pd\n",
    "import csv\n",
    "import math\n",
    "import numpy as np\n",
    "from sklearn import cross_validation as CV\n",
    "from sklearn.linear_model import LogisticRegression as LR\n",
    "from sklearn.ensemble import GradientBoostingClassifier as GBC\n",
    "from sklearn.naive_bayes import GaussianNB as NB\n",
    "from sklearn.ensemble import RandomForestClassifier as RFC\n",
    "import random\n",
    "import pickle"
   ]
  },
  {
   "cell_type": "code",
   "execution_count": 2,
   "metadata": {
    "collapsed": true
   },
   "outputs": [],
   "source": [
    "base_elo = 1600\n",
    "team_elos = {}\n",
    "team_stats = {}\n",
    "X = []\n",
    "y = []\n",
    "submissions = {\n",
    "    \"LR\": [],\n",
    "    \"GBC\": [],\n",
    "    \"NB\": [],\n",
    "    \"RFC\": []\n",
    "}\n",
    "prediction_year = 2016"
   ]
  },
  {
   "cell_type": "code",
   "execution_count": 3,
   "metadata": {
    "collapsed": true
   },
   "outputs": [],
   "source": [
    "def calc_elo(win_team, lose_team, season):\n",
    "    winner_rank = get_elo(season, win_team)\n",
    "    loser_rank = get_elo(season, lose_team)\n",
    "\n",
    "    \"\"\"\n",
    "    Credits for Python Elo Rating Function:\n",
    "    http://zurb.com/forrst/posts/An_Elo_Rating_function_in_Python_written_for_foo-hQl\n",
    "    \"\"\"\n",
    "    rank_diff = winner_rank - loser_rank\n",
    "    exp = float(rank_diff * -1) / float(400)\n",
    "    odds = float(1) / float(1 + math.pow(10, exp))\n",
    "    if winner_rank < 2100:\n",
    "        k = 32\n",
    "    elif winner_rank >= 2100 and winner_rank < 2400:\n",
    "        k = 24\n",
    "    else:\n",
    "        k = 16\n",
    "    new_winner_rank = round(winner_rank + (k * (1 - odds)))\n",
    "    new_rank_diff = new_winner_rank - winner_rank\n",
    "    new_loser_rank = loser_rank - new_rank_diff\n",
    "\n",
    "    return new_winner_rank, new_loser_rank"
   ]
  },
  {
   "cell_type": "code",
   "execution_count": 4,
   "metadata": {
    "collapsed": true
   },
   "outputs": [],
   "source": [
    "def initialize_data():\n",
    "    for i in range(1985, 2017):\n",
    "        team_elos[i] = {}\n",
    "        team_stats[i] = {}"
   ]
  },
  {
   "cell_type": "code",
   "execution_count": 5,
   "metadata": {
    "collapsed": true
   },
   "outputs": [],
   "source": [
    "def get_elo(season, team):\n",
    "    try:\n",
    "        return team_elos[season][team]\n",
    "    except:\n",
    "        try:\n",
    "            # Get the previous season's ending value.\n",
    "            team_elos[season][team] = team_elos[season-1][team]\n",
    "            return team_elos[season][team]\n",
    "        except:\n",
    "            # Get the starter elo.\n",
    "            team_elos[season][team] = base_elo\n",
    "            return team_elos[season][team]"
   ]
  },
  {
   "cell_type": "code",
   "execution_count": 6,
   "metadata": {
    "collapsed": true
   },
   "outputs": [],
   "source": [
    "def predict_winner(team_1, team_2, model, season, stat_fields):\n",
    "    features = []\n",
    "\n",
    "    # Team 1\n",
    "    features.append(get_elo(season, team_1))\n",
    "    for stat in stat_fields:\n",
    "        features.append(get_stat(season, team_1, stat))\n",
    "\n",
    "    # Team 2\n",
    "    features.append(get_elo(season, team_2))\n",
    "    for stat in stat_fields:\n",
    "        features.append(get_stat(season, team_2, stat))\n",
    "\n",
    "    return model.predict_proba([features])"
   ]
  },
  {
   "cell_type": "code",
   "execution_count": 7,
   "metadata": {
    "collapsed": true
   },
   "outputs": [],
   "source": [
    "def update_stats(season, team, fields):\n",
    "    \"\"\"\n",
    "    This accepts some stats for a team and udpates the averages.\n",
    "    First, we check if the team is in the dict yet. If it's not, we add it.\n",
    "    Then, we try to check if the key has more than 9 values in it.\n",
    "        If it does, we remove the first one\n",
    "        Either way, we append the new one.\n",
    "    If we can't check, then it doesn't exist, so we just add this.\n",
    "    Later, we'll get the average of these items.\n",
    "    \"\"\"\n",
    "    if team not in team_stats[season]:\n",
    "        team_stats[season][team] = {}\n",
    "\n",
    "    for key, value in fields.items():\n",
    "        # Make sure we have the field.\n",
    "        if key not in team_stats[season][team]:\n",
    "            team_stats[season][team][key] = []\n",
    "\n",
    "        if len(team_stats[season][team][key]) >= 9:\n",
    "            team_stats[season][team][key].pop()\n",
    "        team_stats[season][team][key].append(value)"
   ]
  },
  {
   "cell_type": "code",
   "execution_count": 8,
   "metadata": {
    "collapsed": true
   },
   "outputs": [],
   "source": [
    "def get_stat(season, team, field):\n",
    "    try:\n",
    "        l = team_stats[season][team][field]\n",
    "        return float(sum(l)) / float(len(l))\n",
    "    except:\n",
    "        return 0"
   ]
  },
  {
   "cell_type": "code",
   "execution_count": 9,
   "metadata": {
    "collapsed": true
   },
   "outputs": [],
   "source": [
    "def build_season_data(all_data):\n",
    "    # Calculate the elo for every game for every team, each season.\n",
    "    # Store the elo per season so we can retrieve their end elo\n",
    "    # later in order to predict the tournaments without having to\n",
    "    # inject the prediction into this loop.\n",
    "    print(\"Building season data.\")\n",
    "    for index, row in all_data.iterrows():\n",
    "        # Used to skip matchups where we don't have usable stats yet.\n",
    "        skip = 0\n",
    "\n",
    "        # Get starter or previous elos.\n",
    "        team_1_elo = get_elo(row['Season'], row['Wteam'])\n",
    "        team_2_elo = get_elo(row['Season'], row['Lteam'])\n",
    "        \n",
    "        # Add 100 to the home team (# taken from Nate Silver analysis.)\n",
    "        if row['Wloc'] == 'H':\n",
    "            team_1_elo += 100\n",
    "        elif row['Wloc'] == 'A':\n",
    "            team_2_elo += 100\n",
    "\n",
    "        # We'll create some arrays to use later.\n",
    "        team_1_features = [team_1_elo]\n",
    "        team_2_features = [team_2_elo]\n",
    "\n",
    "        # Build arrays out of the stats we're tracking..\n",
    "        for field in stat_fields:\n",
    "            team_1_stat = get_stat(row['Season'], row['Wteam'], field)\n",
    "            team_2_stat = get_stat(row['Season'], row['Lteam'], field)\n",
    "            if team_1_stat is not 0 and team_2_stat is not 0:\n",
    "                team_1_features.append(team_1_stat)\n",
    "                team_2_features.append(team_2_stat)\n",
    "            else:\n",
    "                skip = 1\n",
    "\n",
    "        if skip == 0:  # Make sure we have stats.\n",
    "            # Randomly select left and right and 0 or 1 so we can train\n",
    "            # for multiple classes.\n",
    "            if random.random() > 0.5:\n",
    "                X.append(team_1_features + team_2_features)\n",
    "                y.append(0)\n",
    "            else:\n",
    "                X.append(team_2_features + team_1_features)\n",
    "                y.append(1)\n",
    "\n",
    "        # AFTER we add the current stuff to the prediction, update for\n",
    "        # next time. Order here is key so we don't fit on data from the\n",
    "        # same game we're trying to predict.\n",
    "        if row['Wfta'] != 0 and row['Lfta'] != 0:\n",
    "            stat_1_fields = {\n",
    "                'score': row['Wscore'],\n",
    "                'fgp': float(row['Wfgm']) / float(row['Wfga']) * 100,\n",
    "                'fga': row['Wfga'],\n",
    "                'fga3': row['Wfga3'],\n",
    "                '3pp': float(row['Wfgm3']) / float(row['Wfga3']) * 100,\n",
    "                'ftp': float(row['Wftm']) / float(row['Wfta']) * 100,\n",
    "                'or': row['Wor'],\n",
    "                'dr': row['Wdr'],\n",
    "                'ast': row['Wast'],\n",
    "                'to': row['Wto'],\n",
    "                'stl': row['Wstl'],\n",
    "                'blk': row['Wblk'],\n",
    "                'pf': row['Wpf']\n",
    "            }\n",
    "            stat_2_fields = {\n",
    "                'score': row['Lscore'],\n",
    "                'fgp': float(row['Lfgm']) / float(row['Lfga']) * 100,\n",
    "                'fga': row['Lfga'],\n",
    "                'fga3': row['Lfga3'],\n",
    "                '3pp': float(row['Lfgm3']) / float(row['Lfga3']) * 100,\n",
    "                'ftp': float(row['Lftm']) / float(row['Lfta']) * 100,\n",
    "                'or': row['Lor'],\n",
    "                'dr': row['Ldr'],\n",
    "                'ast': row['Last'],\n",
    "                'to': row['Lto'],\n",
    "                'stl': row['Lstl'],\n",
    "                'blk': row['Lblk'],\n",
    "                'pf': row['Lpf']\n",
    "            }\n",
    "            update_stats(row['Season'], row['Wteam'], stat_1_fields)\n",
    "            update_stats(row['Season'], row['Lteam'], stat_2_fields)\n",
    "\n",
    "        # Now that we've added them, calc the new elo.\n",
    "        new_winner_rank, new_loser_rank = calc_elo(\n",
    "            row['Wteam'], row['Lteam'], row['Season'])\n",
    "        team_elos[row['Season']][row['Wteam']] = new_winner_rank\n",
    "        team_elos[row['Season']][row['Lteam']] = new_loser_rank\n",
    "    return X, y"
   ]
  },
  {
   "cell_type": "code",
   "execution_count": 10,
   "metadata": {
    "collapsed": false
   },
   "outputs": [],
   "source": [
    "stat_fields = ['score', 'fga', 'fgp', 'fga3', '3pp', 'ftp', 'or', 'dr', 'ast', 'to', 'stl', 'blk', 'pf']\n",
    "initialize_data()\n",
    "\n",
    "tourney_data = pd.read_csv('../../../data/TourneyDetailedResults.csv')\n",
    "season_data = pd.read_csv('../../../data/RegularSeasonDetailedResults.csv')      \n",
    "\n",
    "frames = [season_data, tourney_data]\n",
    "all_data = pd.concat(frames)"
   ]
  },
  {
   "cell_type": "code",
   "execution_count": 11,
   "metadata": {
    "collapsed": false
   },
   "outputs": [
    {
     "name": "stdout",
     "output_type": "stream",
     "text": [
      "Building season data.\n"
     ]
    }
   ],
   "source": [
    "# Build the working data.\n",
    "X, y = build_season_data(all_data)\n",
    "X = np.array(X)\n",
    "# Reformat ndarray to DataFrame\n",
    "headers = [\n",
    "    'Aelo', 'Ascore', 'Afga', 'Afgp', 'Afga3', 'A3pp', 'Aftp', 'Aor', 'Adr',\n",
    "    'Aast', 'Ato', 'Astl', 'Ablk', 'Wpf', 'Belo', 'Bscore', 'Bfga', 'Bfgp',\n",
    "    'Bfga3', 'B3pp', 'Bftp', 'Bor', 'Bdr','Bast', 'Bto', 'Bstl', 'Bblk', 'Bpf'\n",
    "]\n",
    "df = pd.DataFrame(X, columns=headers)\n",
    "target = pd.DataFrame(y, columns=['W/L'])\n",
    "data = pd.concat([df, target], axis=1)"
   ]
  },
  {
   "cell_type": "code",
   "execution_count": 13,
   "metadata": {
    "collapsed": false
   },
   "outputs": [],
   "source": [
    "# Save team_elos and team_stats\n",
    "data.to_csv(\"data/elo_ratings.csv\", index=False)\n",
    "pickle.dump(team_elos, open( \"data/team_elos.p\", \"wb\" ))\n",
    "pickle.dump(team_stats, open( \"data/team_stats.p\", \"wb\" ))"
   ]
  }
 ],
 "metadata": {
  "kernelspec": {
   "display_name": "Python 2",
   "language": "python",
   "name": "python2"
  },
  "language_info": {
   "codemirror_mode": {
    "name": "ipython",
    "version": 2
   },
   "file_extension": ".py",
   "mimetype": "text/x-python",
   "name": "python",
   "nbconvert_exporter": "python",
   "pygments_lexer": "ipython2",
   "version": "2.7.11"
  }
 },
 "nbformat": 4,
 "nbformat_minor": 0
}
