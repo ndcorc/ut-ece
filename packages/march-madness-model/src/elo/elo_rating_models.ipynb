{
 "cells": [
  {
   "cell_type": "code",
   "execution_count": 1,
   "metadata": {
    "collapsed": true
   },
   "outputs": [],
   "source": [
    "import pandas as pd\n",
    "import csv\n",
    "import math\n",
    "import numpy as np\n",
    "from sklearn import cross_validation as CV\n",
    "from sklearn.linear_model import LogisticRegression as LR\n",
    "from sklearn.ensemble import GradientBoostingClassifier as GBC\n",
    "from sklearn.grid_search import GridSearchCV\n",
    "import random\n",
    "import pickle"
   ]
  },
  {
   "cell_type": "code",
   "execution_count": 3,
   "metadata": {
    "collapsed": false
   },
   "outputs": [],
   "source": [
    "def get_data():\n",
    "    X = pd.read_csv('data/elo_ratings.csv')\n",
    "    y = X['W/L']\n",
    "    del X['W/L']\n",
    "    return X.values, y.values"
   ]
  },
  {
   "cell_type": "code",
   "execution_count": 4,
   "metadata": {
    "collapsed": true
   },
   "outputs": [],
   "source": [
    "def get_elo(season, team):\n",
    "    try:\n",
    "        return team_elos[season][team]\n",
    "    except:\n",
    "        try:\n",
    "            # Get the previous season's ending value.\n",
    "            team_elos[season][team] = team_elos[season-1][team]\n",
    "            return team_elos[season][team]\n",
    "        except:\n",
    "            # Get the starter elo.\n",
    "            team_elos[season][team] = base_elo\n",
    "            return team_elos[season][team]"
   ]
  },
  {
   "cell_type": "code",
   "execution_count": 5,
   "metadata": {
    "collapsed": true
   },
   "outputs": [],
   "source": [
    "def get_stat(season, team, field):\n",
    "    try:\n",
    "        l = team_stats[season][team][field]\n",
    "        return float(sum(l)) / float(len(l))\n",
    "    except:\n",
    "        return 0"
   ]
  },
  {
   "cell_type": "code",
   "execution_count": 6,
   "metadata": {
    "collapsed": true
   },
   "outputs": [],
   "source": [
    "def get_elo_diff(team_1, team_2, season):\n",
    "    elo1 = get_elo(season, team_1)\n",
    "    elo2 = get_elo(season, team_2)\n",
    "    return elo1 - elo2"
   ]
  },
  {
   "cell_type": "code",
   "execution_count": 7,
   "metadata": {
    "collapsed": true
   },
   "outputs": [],
   "source": [
    "def predict_winner(team_1, team_2, model, season, stat_fields):\n",
    "    features = []\n",
    "\n",
    "    # Team 1\n",
    "    features.append(get_elo(season, team_1))\n",
    "    for stat in stat_fields:\n",
    "        features.append(get_stat(season, team_1, stat))\n",
    "\n",
    "    # Team 2\n",
    "    features.append(get_elo(season, team_2))\n",
    "    for stat in stat_fields:\n",
    "        features.append(get_stat(season, team_2, stat))\n",
    "\n",
    "    return model.predict_proba([features])"
   ]
  },
  {
   "cell_type": "code",
   "execution_count": 8,
   "metadata": {
    "collapsed": true
   },
   "outputs": [],
   "source": [
    "def build_team_dict():\n",
    "    team_ids = pd.read_csv('../../../data/Teams.csv')\n",
    "    team_id_map = {}\n",
    "    for index, row in team_ids.iterrows():\n",
    "        team_id_map[row['Team_Id']] = row['Team_Name']\n",
    "    return team_id_map"
   ]
  },
  {
   "cell_type": "code",
   "execution_count": 9,
   "metadata": {
    "collapsed": false
   },
   "outputs": [],
   "source": [
    "def get_modelsGS(X, y):\n",
    "    lr = LR()\n",
    "    gbc = GBC()\n",
    "    #nb = NB()\n",
    "    #rfc = RFC()\n",
    "\n",
    "    params1 = {\n",
    "        'n_estimators':[10, 16, 32, 50, 100, 500, 1000], \n",
    "        'learning_rate':[0.01, 0.8, 1]\n",
    "    }\n",
    "    grid1 = GridSearchCV(gbc, params1, n_jobs=-1, cv=10)\n",
    "    grid1.fit(X, y)\n",
    "    gbc = grid1.best_estimator_\n",
    "\n",
    "    params2 = {\n",
    "        'penalty':['l1', 'l2'],\n",
    "        'C':np.logspace(-4, 4, 8)\n",
    "    }\n",
    "    grid2 = GridSearchCV(lr, params2, n_jobs=-1, cv=10)\n",
    "    grid2.fit(X, y)\n",
    "    lr = grid2.best_estimator_\n",
    "    \n",
    "    return gbc, lr"
   ]
  },
  {
   "cell_type": "code",
   "execution_count": 10,
   "metadata": {
    "collapsed": true
   },
   "outputs": [],
   "source": [
    "def get_models(X, y):\n",
    "    lr = LR()\n",
    "    gbc = GBC()\n",
    "\n",
    "\n",
    "    # Check accuracy.\n",
    "    print(\"Doing cross-validation on LG model.\")\n",
    "    print(\n",
    "        CV.cross_val_score(\n",
    "        lr, X, y, cv=10, scoring='accuracy', n_jobs=-1)\n",
    "        .mean()\n",
    "    )\n",
    "    print(\"Doing cross-validation on GBC model.\")\n",
    "    print(\n",
    "        CV.cross_val_score(\n",
    "        gbc, X, y, cv=10, scoring='accuracy', n_jobs=-1)\n",
    "        .mean()\n",
    "    )\n",
    "\n",
    "    lr.fit(X, y)\n",
    "    gbc.fit(X, y)\n",
    "    \n",
    "    return gbc, lr"
   ]
  },
  {
   "cell_type": "code",
   "execution_count": 14,
   "metadata": {
    "collapsed": false
   },
   "outputs": [],
   "source": [
    "base_elo = 1600\n",
    "team_elos = pickle.load(open(\"data/team_elos.p\", \"rb\"))\n",
    "team_stats = pickle.load(open(\"data/team_stats.p\", \"rb\"))\n",
    "prediction_year = 2016\n",
    "seeds = pd.read_csv('../../../data/TourneySeeds.csv')\n",
    "stat_fields = ['score', 'fga', 'fgp', 'fga3', '3pp', 'ftp', 'or', 'dr', 'ast', 'to', 'stl', 'blk', 'pf']\n",
    "\n",
    "submissions = {\n",
    "    'LR': [],\n",
    "    'GBC': []\n",
    "}"
   ]
  },
  {
   "cell_type": "code",
   "execution_count": 11,
   "metadata": {
    "collapsed": false
   },
   "outputs": [
    {
     "name": "stdout",
     "output_type": "stream",
     "text": [
      "Doing cross-validation on LG model.\n",
      "0.727632936003\n",
      "Doing cross-validation on GBC model.\n",
      "0.725753013018\n"
     ]
    }
   ],
   "source": [
    "# Get data\n",
    "X, y = get_data()\n",
    "gbc, lr = get_models(X, y)"
   ]
  },
  {
   "cell_type": "code",
   "execution_count": 15,
   "metadata": {
    "collapsed": false
   },
   "outputs": [],
   "source": [
    "# Now predict tournament matchups:\n",
    "prediction_year = 2016\n",
    "tourney_teams = []\n",
    "for index, row in seeds.iterrows():\n",
    "    if row['Season'] == prediction_year:\n",
    "        tourney_teams.append(row['Team'])\n",
    "\n",
    "# Build our prediction of every matchup.\n",
    "tourney_teams.sort()\n",
    "for team_1 in tourney_teams:\n",
    "    for team_2 in tourney_teams:\n",
    "        if team_1 < team_2:\n",
    "            predictionLR = predict_winner(team_1, team_2, lr, prediction_year, stat_fields)\n",
    "            predictionGBC = predict_winner(team_1, team_2, gbc, prediction_year, stat_fields)\n",
    "            label = str(prediction_year) + '_' + str(team_1) + '_' + \\\n",
    "                str(team_2)\n",
    "            submissions['LR'].append([label, predictionLR[0][0]])\n",
    "            submissions['GBC'].append([label, predictionGBC[0][0]])"
   ]
  },
  {
   "cell_type": "code",
   "execution_count": null,
   "metadata": {
    "collapsed": false
   },
   "outputs": [],
   "source": [
    "# Write the results.\n",
    "with open('../results/submissionLR.csv', 'w') as f:\n",
    "    writer = csv.writer(f)\n",
    "    writer.writerow(['id', 'pred'])\n",
    "    writer.writerows(submissions['LR'])\n",
    "with open('../results/submissionGBC.csv', 'w') as f:\n",
    "    writer = csv.writer(f)\n",
    "    writer.writerow(['id', 'pred'])\n",
    "    writer.writerows(submissions['GBC'])"
   ]
  },
  {
   "cell_type": "code",
   "execution_count": null,
   "metadata": {
    "collapsed": false
   },
   "outputs": [],
   "source": [
    "# Now so that we can use this to fill out a bracket, create a readable\n",
    "# version.\n",
    "print(\"Formatting/writing readable results.\")\n",
    "for model in submissions.keys():\n",
    "    team_map = build_team_dict()\n",
    "    readable = []\n",
    "    less_readable = []  # A version that's easy to look up.\n",
    "    for pred in submissions[model]:\n",
    "        parts = pred[0].split('_')\n",
    "        less_readable.append(\n",
    "            [team_map[int(parts[1])], team_map[int(parts[2])], pred[1]])\n",
    "        # Order them properly.\n",
    "        if pred[1] > 0.5:\n",
    "            winning = int(parts[1])\n",
    "            losing = int(parts[2])\n",
    "            proba = pred[1]\n",
    "        else:\n",
    "            winning = int(parts[2])\n",
    "            losing = int(parts[1])\n",
    "            proba = 1 - pred[1]\n",
    "        readable.append(\n",
    "            [\n",
    "                '%s beats %s: %f' %\n",
    "                (team_map[winning], team_map[losing], proba)\n",
    "            ]\n",
    "        )\n",
    "    with open('../results/'+model+'readable-predictions.csv', 'w') as f:\n",
    "        writer = csv.writer(f)\n",
    "        writer.writerows(readable)"
   ]
  }
 ],
 "metadata": {
  "kernelspec": {
   "display_name": "Python 2",
   "language": "python",
   "name": "python2"
  },
  "language_info": {
   "codemirror_mode": {
    "name": "ipython",
    "version": 2
   },
   "file_extension": ".py",
   "mimetype": "text/x-python",
   "name": "python",
   "nbconvert_exporter": "python",
   "pygments_lexer": "ipython2",
   "version": "2.7.11"
  }
 },
 "nbformat": 4,
 "nbformat_minor": 0
}
